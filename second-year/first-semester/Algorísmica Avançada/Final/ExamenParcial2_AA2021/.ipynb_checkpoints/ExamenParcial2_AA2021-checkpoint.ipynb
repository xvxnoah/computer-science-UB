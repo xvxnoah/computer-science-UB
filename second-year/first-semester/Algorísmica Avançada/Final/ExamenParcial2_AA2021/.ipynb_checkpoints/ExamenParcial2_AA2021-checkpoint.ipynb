{
 "cells": [
  {
   "cell_type": "markdown",
   "metadata": {},
   "source": [
    "<div style=\"padding:30px; color: white; background-color: #0071CD\">\n",
    "<center>\n",
    "<img src=\"img/logoub.jpeg\"></img>\n",
    "<center>\n",
    "<h1>Algorísmica Avançada 2021</h1>\n",
    "<h2>Examen Parcial 2 - Avaluació contínua</h2>\n",
    "</center>\n",
    "</div>"
   ]
  },
  {
   "cell_type": "code",
   "execution_count": 1,
   "metadata": {},
   "outputs": [
    {
     "data": {
      "text/html": [
       "<style>.container { width:100% !important; }</style>"
      ],
      "text/plain": [
       "<IPython.core.display.HTML object>"
      ]
     },
     "metadata": {},
     "output_type": "display_data"
    }
   ],
   "source": [
    "from IPython.core.display import display, HTML\n",
    "display(HTML(\"<style>.container { width:100% !important; }</style>\"))"
   ]
  },
  {
   "cell_type": "code",
   "execution_count": 2,
   "metadata": {},
   "outputs": [],
   "source": [
    "import networkx as nx\n",
    "import numpy as np\n",
    "from matplotlib import pyplot as plt"
   ]
  },
  {
   "cell_type": "markdown",
   "metadata": {},
   "source": [
    "### Funcions auxiliars"
   ]
  },
  {
   "cell_type": "code",
   "execution_count": 3,
   "metadata": {},
   "outputs": [],
   "source": [
    "def is_prime(n):\n",
    "    \"\"\"\n",
    "    Donat un enter 'n' retorna True si és un nombre primer o False si no ho és\n",
    "    \"\"\"\n",
    "    if n < 2: \n",
    "         return False;\n",
    "    if n % 2 == 0:             \n",
    "         return n == 2\n",
    "    k = 3\n",
    "    while k*k <= n:\n",
    "        if n % k == 0:\n",
    "            return False\n",
    "        k += 2\n",
    "    return True"
   ]
  },
  {
   "cell_type": "markdown",
   "metadata": {},
   "source": [
    "<div class=\"alert alert-success\">\n",
    "    <h1>Problema 1: Gold mine</h1>\n",
    "    <p>Considereu una mina vertical en forma de graella $M$ de mida $H \\times W$ on $H$ és l'alçada (profunditat) de la mina i $W$ és l'amplada. <br>\n",
    "        Cada posició de la graella $M(i,j)$ té un valor enter indicant quant d'or hi ha en aquella casella.<br>\n",
    "        Tenim una exploradora que vol recollir el <b>màxim d'or possible anant des de dalt de tot de la mina fins a la màxima profunditat possible</b>. <br>Pot començar en el punt que més li convingui i, al baixar al següent nivell, pot decidir fer-ho en una de les tres cel·les adjacents (o dos en el cas que es trobi en un marge).</p>    \n",
    "     <img src=\"img/goldmine.png\" width='50%'/><br>\n",
    "    Implementeu una funció anomenada <b>gold_mine</b> que, usant <b>programació dinàmica</b>, retorni el valor màxim d'or que pot recollir l'exploradora.\n",
    "</div>"
   ]
  },
  {
   "cell_type": "code",
   "execution_count": 42,
   "metadata": {},
   "outputs": [],
   "source": [
    "def inferior_neighbors(M, y, x):\n",
    "    neighs = []\n",
    "    \n",
    "    if x != 0:\n",
    "        neighs.append((y+1, x-1))\n",
    "        \n",
    "    neighs.append((y+1, x))\n",
    "    \n",
    "    if x < len(M[0])-1:\n",
    "        neighs.append((y+1, x+1))\n",
    "        \n",
    "    return neighs\n",
    "\n",
    "def maximal_paths(M, memo):\n",
    "    for y in range(len(M)-1):\n",
    "        for x in range(len(M[0])):\n",
    "            actual = memo[y][x]\n",
    "            print(actual)\n",
    "            print('')\n",
    "            \n",
    "            for nei in inferior_neighbors(M, y, x):\n",
    "                memo_nei_value = memo[nei[0]][nei[1]]\n",
    "                before_nei_value = M[nei[0]][nei[1]]\n",
    "                new_nei_value = actual + before_nei_value\n",
    "                \n",
    "                memo[nei[0]][nei[1]] = max(memo_nei_value, new_nei_value)\n",
    "                print(memo)\n",
    "                print('')\n",
    "\n",
    "    return memo\n",
    "\n",
    "def find_max_path(memo):\n",
    "    return max(memo[-1])\n",
    "\n",
    "def gold_mine(M):\n",
    "    \"\"\"\n",
    "    Retorna el valor màxim que pot obtenir l'exploradora.\n",
    "    \n",
    "    Params\n",
    "    ======\n",
    "    :M: Una matriu de nombre enters de tipus numpy.array\n",
    "    \n",
    "    Returns\n",
    "    =======\n",
    "    :gold: El valor total de l'or que pot recol·lectar.\n",
    "    \"\"\"\n",
    "    memo = M.copy()\n",
    "    \n",
    "    min_paths = maximal_paths(M, memo)\n",
    "    \n",
    "    gold = find_max_path(min_paths)\n",
    "    \n",
    "    return gold"
   ]
  },
  {
   "cell_type": "code",
   "execution_count": 43,
   "metadata": {},
   "outputs": [
    {
     "name": "stdout",
     "output_type": "stream",
     "text": [
      "1\n",
      "\n",
      "[[1 2 3]\n",
      " [5 5 6]\n",
      " [3 2 0]]\n",
      "\n",
      "[[1 2 3]\n",
      " [5 6 6]\n",
      " [3 2 0]]\n",
      "\n",
      "2\n",
      "\n",
      "[[1 2 3]\n",
      " [6 6 6]\n",
      " [3 2 0]]\n",
      "\n",
      "[[1 2 3]\n",
      " [6 7 6]\n",
      " [3 2 0]]\n",
      "\n",
      "[[1 2 3]\n",
      " [6 7 8]\n",
      " [3 2 0]]\n",
      "\n",
      "3\n",
      "\n",
      "[[1 2 3]\n",
      " [6 8 8]\n",
      " [3 2 0]]\n",
      "\n",
      "[[1 2 3]\n",
      " [6 8 9]\n",
      " [3 2 0]]\n",
      "\n",
      "6\n",
      "\n",
      "[[1 2 3]\n",
      " [6 8 9]\n",
      " [9 2 0]]\n",
      "\n",
      "[[1 2 3]\n",
      " [6 8 9]\n",
      " [9 8 0]]\n",
      "\n",
      "8\n",
      "\n",
      "[[ 1  2  3]\n",
      " [ 6  8  9]\n",
      " [11  8  0]]\n",
      "\n",
      "[[ 1  2  3]\n",
      " [ 6  8  9]\n",
      " [11 10  0]]\n",
      "\n",
      "[[ 1  2  3]\n",
      " [ 6  8  9]\n",
      " [11 10  8]]\n",
      "\n",
      "9\n",
      "\n",
      "[[ 1  2  3]\n",
      " [ 6  8  9]\n",
      " [11 11  8]]\n",
      "\n",
      "[[ 1  2  3]\n",
      " [ 6  8  9]\n",
      " [11 11  9]]\n",
      "\n"
     ]
    },
    {
     "data": {
      "text/plain": [
       "11"
      ]
     },
     "execution_count": 43,
     "metadata": {},
     "output_type": "execute_result"
    }
   ],
   "source": [
    "M = np.array([[1,2,3],\n",
    "              [4,5,6],\n",
    "              [3,2,0]])\n",
    "gold_mine(M) # Retorna 11"
   ]
  },
  {
   "cell_type": "code",
   "execution_count": null,
   "metadata": {},
   "outputs": [],
   "source": [
    "M = np.array([[1,2,3],\n",
    "              [4,5,6],\n",
    "              [3,2,0]])\n",
    "\n",
    "M = np.array([[1,2,3],\n",
    "              [6,6,6],\n",
    "              [3,2,0]])\n",
    "\n",
    "M = np.array([[1,2,3],\n",
    "              [8,8,8],\n",
    "              [10,9,0]])\n",
    "\n",
    "M = np.array([[1,2,3],\n",
    "              [4,5,6],\n",
    "              [3,2,0]])\n",
    "\n",
    "M = np.array([[1,2,3],\n",
    "              [4,5,6],\n",
    "              [3,2,0]])\n",
    "\n",
    "M = np.array([[1,2,3],\n",
    "              [4,5,6],\n",
    "              [3,2,0]])"
   ]
  },
  {
   "cell_type": "code",
   "execution_count": 32,
   "metadata": {},
   "outputs": [
    {
     "name": "stdout",
     "output_type": "stream",
     "text": [
      "9\n",
      "4\n"
     ]
    }
   ],
   "source": [
    "M = np.array([[53, 69, 49, 11],\n",
    "              [ 4, 16, 51, 34],\n",
    "              [64, 53, 41, 93],\n",
    "              [30, 87, 58, 36],\n",
    "              [38, 53, 10, 60],\n",
    "              [92, 91, 91, 42],\n",
    "              [89, 68, 55, 76],\n",
    "              [45, 73, 97, 41],\n",
    "              [15, 29, 48, 25],\n",
    "              [53, 51, 40, 31]])\n",
    "\n",
    "print(len(M)-1)\n",
    "print(len(M[0]))"
   ]
  },
  {
   "cell_type": "code",
   "execution_count": 6,
   "metadata": {},
   "outputs": [
    {
     "data": {
      "text/plain": [
       "0"
      ]
     },
     "execution_count": 6,
     "metadata": {},
     "output_type": "execute_result"
    }
   ],
   "source": [
    "M = np.array([[53, 69, 49, 11],\n",
    "              [ 4, 16, 51, 34],\n",
    "              [64, 53, 41, 93],\n",
    "              [30, 87, 58, 36],\n",
    "              [38, 53, 10, 60],\n",
    "              [92, 91, 91, 42],\n",
    "              [89, 68, 55, 76],\n",
    "              [45, 73, 97, 41],\n",
    "              [15, 29, 48, 25],\n",
    "              [53, 51, 40, 31]])\n",
    "gold_mine(M) # Retorna 694"
   ]
  },
  {
   "cell_type": "markdown",
   "metadata": {},
   "source": [
    "<div class=\"alert alert-success\">\n",
    "    <h1>Problema 2: Prime Ring </h1>\n",
    "    <p>Disposem de nombres enters de $1,\\dots,N$ que volem col·locar en un cercle de forma que, per a qualsevols dos nombres adjacents, la seva suma sigui un nombre primer. <br>        \n",
    "        Implementeu una funció anomenada <b>prime_ring</b> que, donat un valor enter $N$ retorni, si existeix, una configuració del cercle usant <b>backtracking</b>.<br>\n",
    "        Observeu una de les solucions per a $N=8$ a continuació. Com podeu veure, totes les parelles de veïns tenen com a suma un nombre primer: <br><br>$$1+2,\\quad 2+3,\\quad 3+8,\\quad 8+5,\\quad 5+6,\\quad 6+7,\\quad 7+4,\\quad 4+1$$ són nombres primers.\n",
    "        <img src=\"img/prime_ring.png\" width='20%'/>\n",
    "        Hi ha moltes solucions possibles, podeu retornar-ne una qualsevol. </p><br>\n",
    "        Us donem implementada la funció <b>is_prime</b> que comprova si un nombre és primer o no.    \n",
    "</div>"
   ]
  },
  {
   "cell_type": "code",
   "execution_count": 7,
   "metadata": {},
   "outputs": [
    {
     "name": "stdout",
     "output_type": "stream",
     "text": [
      "False\n",
      "True\n"
     ]
    }
   ],
   "source": [
    "# Exemple d'us\n",
    "print(is_prime(1+8))\n",
    "print(is_prime(3+10))"
   ]
  },
  {
   "cell_type": "code",
   "execution_count": 26,
   "metadata": {},
   "outputs": [],
   "source": [
    "def prime_ring_backtracking(N, board):\n",
    "    if(len(board) == N):\n",
    "        if(is_prime(board[-1] + board[0])):\n",
    "            return board\n",
    "        return False\n",
    "    \n",
    "    for i in range(1, N+1):\n",
    "        if(len(board) == 0):\n",
    "            board.append(i)\n",
    "        \n",
    "        elif i not in board:\n",
    "            before_item = board[-1]\n",
    "            \n",
    "            if(is_prime(before_item + i)):\n",
    "                board.append(i)\n",
    "                \n",
    "                if prime_ring_backtracking(N, board):\n",
    "                    return board\n",
    "                \n",
    "                board.pop()\n",
    "    return False\n",
    "\n",
    "def prime_ring(N):\n",
    "    \"\"\"\n",
    "    Col·loca els nombres de 1 a N en un cercle de tal forma que dos nombres adjacents, la seva suma, sigui un nombre primer.\n",
    "    \n",
    "    Params\n",
    "    ======\n",
    "    :N: El nombre màxim que posarem al cercle.\n",
    "    \n",
    "    Returns\n",
    "    =======\n",
    "    :board: Una llista que representa el cercle. Pot començar en qualsevol dels elements. En el cas que no existeixi solució, retorna False.\n",
    "    \"\"\"\n",
    "    board = []\n",
    "    \n",
    "    board = prime_ring_backtracking(N, board)\n",
    "    \n",
    "    return board"
   ]
  },
  {
   "cell_type": "code",
   "execution_count": 27,
   "metadata": {},
   "outputs": [
    {
     "data": {
      "text/plain": [
       "False"
      ]
     },
     "execution_count": 27,
     "metadata": {},
     "output_type": "execute_result"
    }
   ],
   "source": [
    "prime_ring(5) # Retorna False"
   ]
  },
  {
   "cell_type": "code",
   "execution_count": 28,
   "metadata": {
    "scrolled": true
   },
   "outputs": [
    {
     "name": "stdout",
     "output_type": "stream",
     "text": [
      "check\n",
      "check\n",
      "check\n",
      "check\n",
      "check\n",
      "check\n",
      "check\n"
     ]
    },
    {
     "data": {
      "text/plain": [
       "[1, 2, 3, 8, 5, 6, 7, 4]"
      ]
     },
     "execution_count": 28,
     "metadata": {},
     "output_type": "execute_result"
    }
   ],
   "source": [
    "prime_ring(8) # Una de les solucions possibles és [1, 2, 3, 8, 5, 6, 7, 4]"
   ]
  },
  {
   "cell_type": "code",
   "execution_count": 29,
   "metadata": {},
   "outputs": [
    {
     "name": "stdout",
     "output_type": "stream",
     "text": [
      "check\n",
      "check\n",
      "check\n",
      "check\n",
      "check\n",
      "check\n",
      "check\n",
      "check\n",
      "check\n",
      "check\n",
      "check\n"
     ]
    },
    {
     "data": {
      "text/plain": [
       "[1, 2, 3, 4, 7, 6, 5, 12, 11, 8, 9, 10]"
      ]
     },
     "execution_count": 29,
     "metadata": {},
     "output_type": "execute_result"
    }
   ],
   "source": [
    "prime_ring(12) # Una de les solucions possibles és [1, 2, 3, 4, 7, 6, 5, 12, 11, 8, 9, 10]"
   ]
  },
  {
   "cell_type": "code",
   "execution_count": 30,
   "metadata": {},
   "outputs": [
    {
     "name": "stdout",
     "output_type": "stream",
     "text": [
      "check\n",
      "N=2 : [1, 2]\n",
      "N=3 : False\n",
      "check\n",
      "check\n",
      "check\n",
      "N=4 : [1, 2, 3, 4]\n",
      "N=5 : False\n",
      "check\n",
      "check\n",
      "check\n",
      "check\n",
      "check\n",
      "N=6 : [1, 4, 3, 2, 5, 6]\n",
      "N=7 : False\n",
      "check\n",
      "check\n",
      "check\n",
      "check\n",
      "check\n",
      "check\n",
      "check\n",
      "N=8 : [1, 2, 3, 8, 5, 6, 7, 4]\n",
      "N=9 : False\n",
      "check\n",
      "check\n",
      "check\n",
      "check\n",
      "check\n",
      "check\n",
      "check\n",
      "check\n",
      "check\n",
      "N=10: [1, 2, 3, 4, 7, 6, 5, 8, 9, 10]\n",
      "N=11: False\n",
      "check\n",
      "check\n",
      "check\n",
      "check\n",
      "check\n",
      "check\n",
      "check\n",
      "check\n",
      "check\n",
      "check\n",
      "check\n",
      "N=12: [1, 2, 3, 4, 7, 6, 5, 12, 11, 8, 9, 10]\n"
     ]
    }
   ],
   "source": [
    "for i in range(2, 13):\n",
    "    print(f\"N={i:<2}:\",prime_ring(i))"
   ]
  },
  {
   "cell_type": "code",
   "execution_count": null,
   "metadata": {},
   "outputs": [],
   "source": []
  }
 ],
 "metadata": {
  "kernelspec": {
   "display_name": "Python 3",
   "language": "python",
   "name": "python3"
  },
  "language_info": {
   "codemirror_mode": {
    "name": "ipython",
    "version": 3
   },
   "file_extension": ".py",
   "mimetype": "text/x-python",
   "name": "python",
   "nbconvert_exporter": "python",
   "pygments_lexer": "ipython3",
   "version": "3.8.8"
  }
 },
 "nbformat": 4,
 "nbformat_minor": 4
}
