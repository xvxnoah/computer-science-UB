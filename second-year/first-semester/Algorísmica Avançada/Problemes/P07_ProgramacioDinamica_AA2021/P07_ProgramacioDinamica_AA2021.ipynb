{
 "cells": [
  {
   "cell_type": "markdown",
   "metadata": {},
   "source": [
    "<div style=\"padding:30px; color: white; background-color: #0071CD\">\n",
    "<center>\n",
    "<img src=\"img/logoub.jpeg\"></img>\n",
    "<center>\n",
    "<h1>Algorísmica Avançada 2021</h1>\n",
    "<h2>Problemes 7 - Programació Dinàmica</h2>\n",
    "</center>\n",
    "</div>"
   ]
  },
  {
   "cell_type": "code",
   "execution_count": 1,
   "metadata": {},
   "outputs": [
    {
     "data": {
      "text/html": [
       "<style>.container { width:100% !important; }</style>"
      ],
      "text/plain": [
       "<IPython.core.display.HTML object>"
      ]
     },
     "metadata": {},
     "output_type": "display_data"
    }
   ],
   "source": [
    "from IPython.core.display import display, HTML\n",
    "display(HTML(\"<style>.container { width:100% !important; }</style>\"))"
   ]
  },
  {
   "cell_type": "markdown",
   "metadata": {},
   "source": [
    "# Programació dinàmica vs Recursió"
   ]
  },
  {
   "cell_type": "markdown",
   "metadata": {},
   "source": [
    "Quan tenim un algorisme recursiu que crida múltiples vegades el mateix subproblema, cal veure si hi ha la possibilitat de convertir-ho en un algorisme de programació dinàmica. El cas de <b>Fibonacci</b> és un clar exemple ja que per a calcular el fibonacci d'un número en concret cal haver calculat el fibonnaci dels seus dos números anteriors.\n",
    "\n",
    "Al fer-ho recursivament estarem generant el següent arbre de crides:\n",
    "<img src=\"img/fibonacci.png\">\n",
    "Com podeu observar, moltes de les crides que fem ens les podem estalviar doncs amb calcular un sol cop el fibonacci de cada nombre en tenim suficient. La programació dinàmica ens ajuda en aquest cas."
   ]
  },
  {
   "cell_type": "markdown",
   "metadata": {},
   "source": [
    "<div class=\"alert alert-success\">\n",
    "    <h1>Problema 1.1: Fibonacci recursiu</h1>\n",
    "    <p>\n",
    "        Implementeu la funció <b>fib_rec</b>. Donat un nombre enter positiu o zero, $n\\in\\mathbb{Z}^+$, ha de retornar el nombre de fibonacci, $F(n)$ que li correspon. <br>\n",
    "        Per exemple: <br>\n",
    "        $$F(0)=0, \\quad F(1)=1, \\quad F(2)=1, \\quad F(3)=2, \\quad F(4)=3, \\quad F(5)=5$$\n",
    "    <p>\n",
    "    <p><b>Quina és la complexitat de l'algorisme? (Observeu l'arbre de la imatge anterior)</b></p>\n",
    "    \n",
    "</div>"
   ]
  },
  {
   "cell_type": "code",
   "execution_count": 2,
   "metadata": {},
   "outputs": [],
   "source": [
    "def fib_rec(n):\n",
    "    \"\"\"\n",
    "    Calcula el nombre amb índex 'n' de la seqüència de Fibonacci.\n",
    "    \n",
    "    Params\n",
    "    ======\n",
    "    :n: El nombre de fibonacci que volem calcular.\n",
    "    \n",
    "    Returns\n",
    "    =======\n",
    "    :F(n): El nombre de la seqüència corresponent.\n",
    "    \"\"\"\n",
    "    \n",
    "    if (n==0) or (n==1):\n",
    "        return n\n",
    "    return fib_rec(n-1)+fib_rec(n-2)"
   ]
  },
  {
   "cell_type": "code",
   "execution_count": 3,
   "metadata": {},
   "outputs": [
    {
     "name": "stdout",
     "output_type": "stream",
     "text": [
      "[0, 1, 1, 2, 3, 5, 8, 13, 21, 34, 55, 89, 144, 233, 377, 610, 987, 1597, 2584, 4181]\n"
     ]
    }
   ],
   "source": [
    "print([fib_rec(n) for n in range(20)])"
   ]
  },
  {
   "cell_type": "markdown",
   "metadata": {},
   "source": [
    "<div class=\"alert alert-success\">\n",
    "    <h1>Problema 1.2: Fibonacci amb programació dinàmica (Bottom-Up)</h1>\n",
    "    <p>\n",
    "        Implementeu la funció <b>fib_bottom_up</b>. Seguiu una estratègia de programació dinàmica on aneu emmagatzemant càlculs realitzats prèviament.<br><br> \n",
    "        <b>Quina és la complexitat de l'algorisme?</b>\n",
    "    <p>\n",
    "        \n",
    "        \n",
    "    \n",
    "</div>"
   ]
  },
  {
   "cell_type": "code",
   "execution_count": 4,
   "metadata": {},
   "outputs": [],
   "source": [
    "def fib_bottom_up(n):\n",
    "    \"\"\"\n",
    "    Calcula el nombre amb índex 'n' de la seqüència de Fibonacci.\n",
    "    \n",
    "    Params\n",
    "    ======\n",
    "    :n: El nombre de fibonacci que volem calcular.\n",
    "    \n",
    "    Returns\n",
    "    =======\n",
    "    :F(n): El nombre de la seqüència corresponent.\n",
    "    \"\"\"\n",
    "    \n",
    "    # Emmagatzem en una llista els càlculs previs\n",
    "    # Guardem els dos primers valors 0 i 1\n",
    "    # I inicialitzem la resta de valors a zero\n",
    "    dp = [0, 1] + [0]*(n-1)\n",
    "    \n",
    "    # Anem calculant i afegint el nombre de fibonacci següent a partir dels dos anteriors\n",
    "    for i in range(2,n+1):\n",
    "        dp[i] = dp[i-1]+dp[i-2]\n",
    "    \n",
    "    # Retornem el valor demanat\n",
    "    return dp[n]"
   ]
  },
  {
   "cell_type": "code",
   "execution_count": 5,
   "metadata": {},
   "outputs": [
    {
     "name": "stdout",
     "output_type": "stream",
     "text": [
      "[0, 1, 1, 2, 3, 5, 8, 13, 21, 34, 55, 89, 144, 233, 377, 610, 987, 1597, 2584, 4181]\n"
     ]
    }
   ],
   "source": [
    "print([fib_bottom_up(n) for n in range(20)])"
   ]
  },
  {
   "cell_type": "code",
   "execution_count": 6,
   "metadata": {},
   "outputs": [],
   "source": [
    "def fib_bottom_up_v2(n):\n",
    "    \"\"\"\n",
    "    Calcula el nombre amb índex 'n' de la seqüència de Fibonacci.\n",
    "    \n",
    "    Params\n",
    "    ======\n",
    "    :n: El nombre de fibonacci que volem calcular.\n",
    "    \n",
    "    Returns\n",
    "    =======\n",
    "    :F(n): El nombre de la seqüència corresponent.\n",
    "    \"\"\"\n",
    "    \n",
    "    # Inicialitzem dues variables que ens serviran per a calcular el següent valor\n",
    "    a, b = 0, 1\n",
    "    if (n==0) or (n==1):\n",
    "        return n\n",
    "    \n",
    "    # Usem la doble assignació de python per anar calculant el següent valor a partir dels dos anteriors\n",
    "    for i in range(n-1):\n",
    "        a, b = b, a+b\n",
    "    return b"
   ]
  },
  {
   "cell_type": "code",
   "execution_count": 7,
   "metadata": {},
   "outputs": [
    {
     "name": "stdout",
     "output_type": "stream",
     "text": [
      "[0, 1, 1, 2, 3, 5, 8, 13, 21, 34, 55, 89, 144, 233, 377, 610, 987, 1597, 2584, 4181]\n"
     ]
    }
   ],
   "source": [
    "print([fib_bottom_up_v2(n) for n in range(20)])"
   ]
  },
  {
   "cell_type": "markdown",
   "metadata": {},
   "source": [
    "<div class=\"alert alert-success\">\n",
    "    <h1>Problema 1.3: Fibonacci amb programació dinàmica (Top-Down)</h1>\n",
    "    <p>\n",
    "        Implementeu la funció <b>fib_top_down</b>. Seguiu una estratègia de programació dinàmica utilitzant el mateix esquema que fibonacci recursiu però on aneu emmagatzemant els càlculs realitzats prèviament.\n",
    "    <p>    \n",
    "</div>"
   ]
  },
  {
   "cell_type": "code",
   "execution_count": 21,
   "metadata": {},
   "outputs": [],
   "source": [
    "def fib_top_down(n, dp=None):\n",
    "    \"\"\"\n",
    "    Calcula el nombre amb índex 'n' de la seqüència de Fibonacci.\n",
    "    \n",
    "    Params\n",
    "    ======\n",
    "    :n: El nombre de fibonacci que volem calcular.\n",
    "    \n",
    "    Returns\n",
    "    =======\n",
    "    :F(n): El nombre de la seqüència corresponent.\n",
    "    \"\"\"\n",
    "    \n",
    "    # 1. Inicialitzar la memòria (memo, dp, ...)\n",
    "    if dp is None:\n",
    "        dp = [0] * (n+1)\n",
    "\n",
    "    # 2. Casos base (fb(0) = 0, fb(1) = 1)\n",
    "    if (n == 0) or (n == 1):\n",
    "        return n\n",
    "    \n",
    "    # 3. Recursió\n",
    "    \n",
    "    # Cas en que ja hem calculat el valor prèviament (tallem la recursió)\n",
    "    if dp[n] != 0:\n",
    "        return dp[n]\n",
    "    \n",
    "    # Cas on no hem calculat encara el valor previ\n",
    "    dp[n] = fib_top_down(n-1, dp) + fib_top_down(n-2, dp)\n",
    "    \n",
    "    return dp[n]"
   ]
  },
  {
   "cell_type": "code",
   "execution_count": 22,
   "metadata": {},
   "outputs": [
    {
     "name": "stdout",
     "output_type": "stream",
     "text": [
      "[0, 1, 1, 2, 3, 5, 8, 13, 21, 34, 55, 89, 144, 233, 377, 610, 987, 1597, 2584, 4181]\n"
     ]
    }
   ],
   "source": [
    "print([fib_top_down(n) for n in range(20)])"
   ]
  },
  {
   "cell_type": "markdown",
   "metadata": {},
   "source": [
    " <div class=\"alert alert-success\">\n",
    "     <h1>Problema 2: Rod Cutting</h1>  \n",
    "     <p>Volem tallar una barra de N segments de longitud en trossos per maximitzar-ne el seu valor de venta. Cada segment tallat té un preu associat en funció de la seva longitud.<br>\n",
    "     Per exemple, donada una barra de 5 peces de longitud i la taula de preus següent: <br><br>\n",
    "     Long: 1 2 3 4 5<br>\n",
    "     Preu: 1 5 5 6 7<br><br>\n",
    "     Podem decidir\n",
    "     <ul>\n",
    "         <li>no tallar la barra, long=5 i per tant preu=7.\n",
    "         <li>Tallar-la en dos trossos de 1 i 4 i per tant preu=1+6=7\n",
    "         <li>Tallar-la en cinc trossos de 1 i per tant preu=5\n",
    "         <li>...\n",
    "    </ul>             \n",
    "    </p>\n",
    " </div>"
   ]
  },
  {
   "cell_type": "code",
   "execution_count": 52,
   "metadata": {},
   "outputs": [],
   "source": [
    "def rod_cutting_rec(N, prices):\n",
    "    \"\"\"\n",
    "    Algorisme recursiu.\n",
    "    \n",
    "    Params\n",
    "    ======\n",
    "    :N: Un enter amb el nombre de segments de la barra\n",
    "    :prices: Una llista amb els preus de cada longitud de segment.\n",
    "    \n",
    "    Returns\n",
    "    =======\n",
    "    :best: El millor preu de venta de les peces\n",
    "    \"\"\"\n",
    "    \n",
    "    # Casos base\n",
    "    if (N == 1):\n",
    "        return prices[0]\n",
    "    \n",
    "    if (N == 0):\n",
    "        return 0\n",
    "    \n",
    "    # Recursió\n",
    "    return max(prices[N-1-i] + rod_cutting_rec(i, prices) for i in range(N)) \n",
    "\n",
    "    # Vendre una part per si sola + la resta (preu recursiu)\n",
    "    # 5 és:\n",
    "    #   - (1€, rec(0))\n",
    "    #   - (5€, rec(1))\n",
    "    #   - (5€, rec(2))\n",
    "    #   - (6€, rec(3))\n",
    "    #   - (7€, rec(4))"
   ]
  },
  {
   "cell_type": "code",
   "execution_count": 53,
   "metadata": {},
   "outputs": [
    {
     "data": {
      "text/plain": [
       "11"
      ]
     },
     "execution_count": 53,
     "metadata": {},
     "output_type": "execute_result"
    }
   ],
   "source": [
    "rod_cutting_rec(5, [1,5,5,6,7]) # Retorna 11"
   ]
  },
  {
   "cell_type": "code",
   "execution_count": 3,
   "metadata": {},
   "outputs": [],
   "source": [
    "def rod_cutting_dp_bottom_up(N, prices):\n",
    "    \"\"\"\n",
    "    Algorisme programació dinàmica bottom up.\n",
    "    \n",
    "    Params\n",
    "    ======\n",
    "    :N: Un enter amb el nombre de segments de la barra\n",
    "    :prices: Una llista amb els preus de cada longitud de segment.\n",
    "    \n",
    "    Returns\n",
    "    =======\n",
    "    :best: El millor preu de venta de les peces\n",
    "    \"\"\"\n",
    "    # Volem començar amb peces petites i anar-les unint\n",
    "    \n",
    "    # dp indrà 6 elements, tindrà el millor de tallar 0 peces, 1 peça...\n",
    "    # 3 serà òptim fer rec(1) + rec(2), 4 serà més òptim fer rec(2) + rec(2)\n",
    "    # (també es podria fer 3+1, però no es tant òptim)\n",
    "    # 5 serà òptim amb rec(2) + rec(2) + rec(1)\n",
    "    \n",
    "    # Inicialitzar la memòria\n",
    "    dp = [0] * (N+1)\n",
    "    \n",
    "    # Recorrem la taula i mirem com podem aprofitar els càlculs fets anteriorment\n",
    "    for i in range(1, N+1):\n",
    "        max_val = -float('inf')\n",
    "        \n",
    "        # Hem de comprovar tots els talls possibles (vendre la peça separada + \n",
    "        # utilitzar un valor calculat anteriorment)\n",
    "        # Recorrem fins la posició on ens trobem\n",
    "        for j in range(i):\n",
    "            max_val = max(max_val, prices[j] + dp[i-j-1])\n",
    "        print(dp)\n",
    "        dp[i] = max_val\n",
    "    \n",
    "    print(dp)\n",
    "    return dp[N]"
   ]
  },
  {
   "cell_type": "code",
   "execution_count": 4,
   "metadata": {},
   "outputs": [
    {
     "name": "stdout",
     "output_type": "stream",
     "text": [
      "[0, 0, 0, 0, 0, 0]\n",
      "[0, 1, 0, 0, 0, 0]\n",
      "[0, 1, 5, 0, 0, 0]\n",
      "[0, 1, 5, 6, 0, 0]\n",
      "[0, 1, 5, 6, 10, 0]\n",
      "[0, 1, 5, 6, 10, 11]\n"
     ]
    },
    {
     "data": {
      "text/plain": [
       "11"
      ]
     },
     "execution_count": 4,
     "metadata": {},
     "output_type": "execute_result"
    }
   ],
   "source": [
    "rod_cutting_dp_bottom_up(5,[1,5,5,6,7]) # Retorna 11"
   ]
  },
  {
   "cell_type": "code",
   "execution_count": 60,
   "metadata": {},
   "outputs": [],
   "source": [
    "def rod_cutting_dp_top_down(N, prices, dp=None):\n",
    "    \"\"\"\n",
    "    Algorisme programació dinàmica top down.\n",
    "    \n",
    "    Params\n",
    "    ======\n",
    "    :N: Un enter amb el nombre de segments de la barra\n",
    "    :prices: Una llista amb els preus de cada longitud de segment.\n",
    "    \n",
    "    Returns\n",
    "    =======\n",
    "    :best: El millor preu de venta de les peces\n",
    "    \"\"\"\n",
    "    \n",
    "    # 1. Inicialitzar la memòria (memo, dp, ...)\n",
    "    if dp is None:\n",
    "        dp = [0] * (N+1)\n",
    "    \n",
    "    # Casos base\n",
    "    if (N == 1):\n",
    "        return prices[0]\n",
    "    \n",
    "    if (N == 0):\n",
    "        return 0\n",
    "    \n",
    "    # Si ja hem calculat el valor prèviament\n",
    "    if(dp[N] != 0):\n",
    "        return dp[N]\n",
    "    \n",
    "    # Recursió (si no hem calculat el valor encara)\n",
    "    dp[N] = max(prices[N-1-i] + rod_cutting_dp_top_down(i, prices, dp) for i in range(N)) \n",
    "    \n",
    "    return dp[N]"
   ]
  },
  {
   "cell_type": "code",
   "execution_count": 61,
   "metadata": {},
   "outputs": [
    {
     "data": {
      "text/plain": [
       "11"
      ]
     },
     "execution_count": 61,
     "metadata": {},
     "output_type": "execute_result"
    }
   ],
   "source": [
    "rod_cutting_dp_top_down(5, [1,5,5,6,7]) # Retorna 11"
   ]
  },
  {
   "cell_type": "markdown",
   "metadata": {},
   "source": [
    "<div class=\"alert alert-success\">\n",
    "    <h1>Problema 3: Subseqüència Incremental més Llarga (Longest Increasing Subsequence, LIS)</h1>\n",
    "    <p>\n",
    "        Donada una seqüència de números, per exemple: $10, 22, 9, 33, 21, 50, 41, 60, 80$, volem trobar la subsequència d'elements més llarga possible que satisfaci que els seus elements estiguin ordenats de petit a gran.<br>\n",
    "        En el cas de l'exemple donat, la subseqüència més llarga té 6 elements: $10, 22, 33, 50, 60, 80$. Observeu però, que no és única.\n",
    "    <p>\n",
    "    \n",
    "</div>"
   ]
  },
  {
   "cell_type": "markdown",
   "metadata": {},
   "source": [
    " <div class=\"alert alert-success\">\n",
    "     <h1>Problema 3.1: LIS Recursiva</h1>    \n",
    "    <p><b>Quina complexitat té aquest algorisme?</b></p>\n",
    " </div>"
   ]
  },
  {
   "cell_type": "code",
   "execution_count": 16,
   "metadata": {},
   "outputs": [],
   "source": [
    "def lis_ends_here(seq, n):\n",
    "    \"\"\"\n",
    "    Aquesta funció ens retornen la longitud de la seqüència més llarga que acaba a la posició 'n'.\n",
    "    \n",
    "    Params\n",
    "    ======\n",
    "    :seq: Llista d'elements\n",
    "    :n: Índex de la llista\n",
    "    \n",
    "    Returns\n",
    "    =======\n",
    "    :val: Longitud de la LIS suposant que finalitza a 'n'.\n",
    "    \"\"\"\n",
    "    pass\n",
    "\n",
    "\n",
    "def lis_rec(seq):\n",
    "    \"\"\"\n",
    "    Solució recursiva al problema LIS.\n",
    "    \n",
    "    Params\n",
    "    ======\n",
    "    :seq: Seqüència inicial.\n",
    "    \n",
    "    Returns\n",
    "    =======\n",
    "    :val: Longitud de LIS.\n",
    "    \"\"\"\n",
    "    pass"
   ]
  },
  {
   "cell_type": "code",
   "execution_count": 17,
   "metadata": {},
   "outputs": [
    {
     "name": "stdout",
     "output_type": "stream",
     "text": [
      "None\n",
      "None\n"
     ]
    }
   ],
   "source": [
    "print(lis_rec([1,2,0,9,3,5,4,6,8]))  # Retorna 6\n",
    "print(lis_rec([4,1,2,1]))            # Retorna 2"
   ]
  },
  {
   "cell_type": "markdown",
   "metadata": {},
   "source": [
    " <div class=\"alert alert-success\">\n",
    "     <h1>Problema 3.2: LIS amb Programació dinàmica</h1>    \n",
    "    <p><b>Quina complexitat té aquest algorisme?</b></p>\n",
    " </div>"
   ]
  },
  {
   "cell_type": "code",
   "execution_count": 41,
   "metadata": {},
   "outputs": [],
   "source": [
    "def lis_dp_bottom_up(seq):\n",
    "    \"\"\"\n",
    "    Solució al problema LIS usant programació dinàmica.\n",
    "    \n",
    "    Params\n",
    "    ======\n",
    "    :seq: Llista d'enters\n",
    "    \n",
    "    Returns\n",
    "    =======\n",
    "    :val: La longitud de la subseqüència incremental més llarga.\n",
    "    \n",
    "    \"\"\"\n",
    "    # Comprovacions inicials\n",
    "    if (seq is None) or (len(seq) == 0):\n",
    "        return 0\n",
    "    \n",
    "    n = len(seq)\n",
    "    length = 0\n",
    "    \n",
    "    # Quan comencem, cada element individual\n",
    "    # té un LIS de exactament 1, així que cada\n",
    "    # índex s'inicialitza a 1\n",
    "    dp = [1] * (n)\n",
    "    \n",
    "    mp = {i:0 for i in range(20)}\n",
    "    \n",
    "    # Iterant l'array d'esquerra a dreta, actualitzem\n",
    "    # el valor de dp[j] si es compleixen 2 condicions:\n",
    "    # 1. El valor en i és menor al valor en j\n",
    "    # 2. Actualitzar el valor de dp[j] a dp[i]+1 és millor\n",
    "    for i in range(n):\n",
    "        for j in range(i+1, n):\n",
    "            if(seq[i] < seq[j]) and (dp[j] < dp[i] + 1):\n",
    "                dp[j] = dp[i] + 1\n",
    "        \n",
    "        mp[seq[i]] = i + 1\n",
    "        # Track the LIS\n",
    "        if dp[i] > length:\n",
    "            length = dp[i]\n",
    "    \n",
    "    test = []\n",
    "    for curr in range(seq[n-1] - length+1, seq[n-1]+1, 1):\n",
    "        test.append(curr)\n",
    "        \n",
    "    print(test)\n",
    "    return length"
   ]
  },
  {
   "cell_type": "code",
   "execution_count": 42,
   "metadata": {},
   "outputs": [
    {
     "name": "stdout",
     "output_type": "stream",
     "text": [
      "[0, 1]\n",
      "2\n"
     ]
    }
   ],
   "source": [
    "#print(lis_dp_bottom_up([1,2,0,9,3,5,4,6,8])) # Retorna 6\n",
    "print(lis_dp_bottom_up([4,1,2,1]))           # Retorna 2\n",
    "#print(lis_dp_bottom_up([0,8,4,12,2,10,6,14,1,9,5,13,3,11,7,15]))"
   ]
  },
  {
   "cell_type": "markdown",
   "metadata": {},
   "source": [
    " <div class=\"alert alert-success\">\n",
    "    <h1>Problema 3: Levensthein</h1>    \n",
    "    <p>Donades dues paraules $A$ i $B$ volem trobar el cost d'edició entre elles. Les operacions que es permeten són:</p>\n",
    "    <ol>\n",
    "        <li> <b>Inserir</b> una lletra en qualsevol posició de la paraula. Per exemple, podem transformar la paraula TACA en la paraula TRACA amb només una operació d'inserció.\n",
    "        <li> <b>Eliminar</b> una lletra en qualsevol posició de la paraula. Per exemple, podem transformar la paraula TRACA en la paraula TACA amb només una operació d'eliminació.\n",
    "        <li> <b>Substituir</b> una lletra per una altra. Per exemple, podem transformar la paraula TACA en la paraula TOCA amb només una operació de substitució.\n",
    "  </ol>\n",
    "    <p>Implementeu un algorisme de programació dinàmica que ens permeti trobar el cost mínim d'edició entre les dues paraules i que també retorni les operacions que s'han de fer per transformar una paraula en l'altre. <br>\n",
    "        Per exemple, l'execució de<br> <b>levensthein('WINE', 'WAITER')</b> ha d'imprimir:\n",
    "\n",
    "<code>\n",
    "COST: 3\n",
    "[0, 1, 2, 3, 4]\n",
    "[1, 0, 1, 2, 3]\n",
    "[2, 1, 1, 2, 3]\n",
    "[3, 2, 1, 2, 3]\n",
    "[4, 3, 2, 2, 3]\n",
    "[5, 4, 3, 3, 2]\n",
    "[6, 5, 4, 4, 3]\n",
    "MAN: W W  # Ja que estem 'mantenint la lletra W entre les paraules'\n",
    "SUB: A I  # Ja que estem 'substituint' la lletra A per la I\n",
    "INS: I    # Ja que estem 'inserint' la lletra I\n",
    "SUB: T N \n",
    "SUB: E E \n",
    "INS: R   \n",
    "          # En el cas d'eliminar, podeu imprimir DEL\n",
    "</code>\n",
    "    </p>\n",
    "    \n",
    " </div>"
   ]
  },
  {
   "cell_type": "code",
   "execution_count": 78,
   "metadata": {},
   "outputs": [],
   "source": [
    "def levensthein(word_B, word_A, del_cost = 1, ins_cost = 1, sub_cost = 1):    \n",
    "    #Mirem la llargada de la linia\n",
    "    text_length = len(word_A) + 1\n",
    "\n",
    "    #Calculem la llargada del patro\n",
    "    patro_length = len(word_B) + 1\n",
    "    \n",
    "    #Inicialitzem la matriu\n",
    "    distance_matrix = [[0] * text_length for x in range(patro_length)]\n",
    "    operation_matrix = [[\"\"] * text_length for j in range(patro_length)]\n",
    "    \n",
    "    sequencia_operacions = []\n",
    "\n",
    "    for i in range(patro_length):\n",
    "        distance_matrix[i][0] = i * ins_cost\n",
    "        operation_matrix[i][0] = \"I\"\n",
    "    for j in range(text_length):\n",
    "        distance_matrix[0][j] = j * del_cost\n",
    "        operation_matrix[0][j] = \"D\"\n",
    "    operation_matrix[0][0] = 'C'\n",
    "    \n",
    "    #Omplim la matriu de distàncies:    \n",
    "    for i in range(1, patro_length):\n",
    "        for j in range(1, text_length):\n",
    "            deletion = distance_matrix[i-1][j] + del_cost\n",
    "            insertion = distance_matrix[i][j-1] + ins_cost\n",
    "            substitution = distance_matrix[i-1][j-1]\n",
    "            \n",
    "            if word_B[i-1] != word_A[j-1]:\n",
    "                substitution += sub_cost\n",
    "            \n",
    "            distance_matrix[i][j] = min(insertion, deletion, substitution)\n",
    "\n",
    "            #Omplim la matriu d'operacions\n",
    "            if distance_matrix[i][j] == substitution:\n",
    "                if word_B[i-1] != word_A[j-1]:\n",
    "                    operation_matrix[i][j] = \"S\"\n",
    "                else:\n",
    "                    operation_matrix[i][j] = \"C\"\n",
    "                    \n",
    "            elif distance_matrix[i][j] == insertion:\n",
    "                operation_matrix[i][j] = \"I\"\n",
    "                \n",
    "            else:\n",
    "                operation_matrix[i][j] = \"D\"\n",
    "                \n",
    "    #Calculem la distància final i la posició final.  \n",
    "    distancia_minima = min(distance_matrix[patro_length-1])\n",
    "    posicio_final = distance_matrix[patro_length-1].index(distancia_minima)\n",
    "\n",
    "    #Càlcul de la posició on comença la subseqüència més semblant i busqueda\n",
    "    # de les operacions realitzades.\n",
    "    x = len(word_B)\n",
    "    y = posicio_final\n",
    "    while ((x != 0) and (y != 0)):\n",
    "        if operation_matrix[x][y] == \"C\":\n",
    "            x, y = x-1, y-1\n",
    "            sequencia_operacions.append(\"C\")\n",
    "            print(\"MAN\", word_B[x], \" \", word_A[y])\n",
    "            \n",
    "        elif operation_matrix[x][y] == \"S\":\n",
    "            x, y = x-1, y-1\n",
    "            sequencia_operacions.append(\"S\")\n",
    "            print(\"SUB\", word_B[x], \" \", word_A[y])\n",
    "            \n",
    "        elif operation_matrix[x][y] == \"I\":\n",
    "            y -= 1\n",
    "            sequencia_operacions.append(\"I\")\n",
    "            print(\"INS\", word_B[x])\n",
    "            \n",
    "        else:\n",
    "            x -= 1\n",
    "            sequencia_operacions.append(\"D\")\n",
    "            print(\"DEL\", word_B[x], \" \", word_A[y])\n",
    "            \n",
    "    posicio_inicial = y\n",
    "    sequencia_operacions = sequencia_operacions[::-1]\n",
    "    \n",
    "    return distancia_minima, distance_matrix, sequencia_operacions"
   ]
  },
  {
   "cell_type": "code",
   "execution_count": 79,
   "metadata": {},
   "outputs": [
    {
     "name": "stdout",
     "output_type": "stream",
     "text": [
      "MAN E   E\n",
      "SUB N   T\n",
      "MAN I   I\n",
      "INS I\n",
      "MAN W   W\n",
      "COST  2\n",
      "[0, 1, 2, 3, 4, 5, 6]\n",
      "[1, 0, 1, 2, 3, 4, 5]\n",
      "[2, 1, 1, 1, 2, 3, 4]\n",
      "[3, 2, 2, 2, 2, 3, 4]\n",
      "[4, 3, 3, 3, 3, 2, 3]\n",
      "C\n",
      "I\n",
      "C\n",
      "S\n",
      "C\n"
     ]
    }
   ],
   "source": [
    "cost, matriu, operations = levensthein('WINE', 'WAITER')\n",
    "print(\"COST \", cost)\n",
    "\n",
    "for line in matriu:\n",
    "    print(line)\n",
    "    \n",
    "for op in operations:\n",
    "    print(op)\n",
    "# COST 3\n",
    "# [0, 1, 2, 3, 4, 5, 6]\n",
    "# [1, 0, 1, 2, 3, 4, 5]\n",
    "# [2, 1, 1, 1, 2, 3, 4]\n",
    "# [3, 2, 2, 2, 2, 3, 4]\n",
    "# [4, 3, 3, 3, 3, 2, 3]\n",
    "# MAN: W W\n",
    "# SUB: A I\n",
    "# INS: I  \n",
    "# SUB: T N\n",
    "# SUB: E E\n",
    "# INS: R  "
   ]
  },
  {
   "cell_type": "markdown",
   "metadata": {},
   "source": [
    " <div class=\"alert alert-success\">\n",
    "     <h1>Problema 5: Cent Savings</h1>    \n",
    "    <p>Volem agrupar un conjunt de preus ordenats en, com a màxim, $d+1$ grups. Cada grup de preus es suma i s'arrodoneix a la desena més propera (0, 10, 20,...). L'objectiu és trobar el mínim preu possible donada una llista i un enter $d$. Per formar els grups es talla la llista per la posició que es vulgui sense canviar-ne l'ordre.\n",
    "    <ul>\n",
    "    <li>Exemple1: Donada la llista $[13, 14]$ i $d=1$, el valor òptim és $20$ que consisteix en fer $2$ grups: $10+10$.\n",
    "    <li>Exemple2: Donada la llista $[12,15,19]$ i $d=2$, el valor òptim és 40 fent 2 grups (i no 3 que seria el màxim possible). $Grup(12)=10 + Grup(15,19)=30$\n",
    "    </ul>\n",
    "    </p>\n",
    " </div>"
   ]
  },
  {
   "cell_type": "markdown",
   "metadata": {},
   "source": [
    "<div class=\"alert alert-info\">\n",
    "Si us animeu, podeu penjar la solució a la plataforma <a href=\"https://open.kattis.com/problems/centsavings\">KATTIS</a>. <br>Heu de seleccionar Python3 com a llenguatge i fer servir el format:\n",
    "</div>"
   ]
  },
  {
   "cell_type": "markdown",
   "metadata": {},
   "source": [
    "```python\n",
    "n, d = input().split()\n",
    "n, d = int(n), int(d)\n",
    "lst = [int(a) for a in input().split()]\n",
    "\n",
    "def cent_savings(lst, d):\n",
    "    # El teu codi aquí\n",
    "\n",
    "print(f'{cent_savings(lst, d)}')\n",
    "```"
   ]
  },
  {
   "cell_type": "code",
   "execution_count": null,
   "metadata": {},
   "outputs": [],
   "source": [
    "def myround(val):\n",
    "    \"\"\"\n",
    "    Funció auxiliar per arrodonir correctament segons l'enunciat.\n",
    "    \"\"\"\n",
    "    if val%5==0:\n",
    "        val = val+1\n",
    "    return round(val, -1)\n",
    "\n",
    "def cent_savings_rec(lst, d):\n",
    "    \"\"\"\n",
    "    Algorisme recursiu.\n",
    "    \n",
    "    Params\n",
    "    ======\n",
    "    :lst: Una llista de preus \n",
    "    :d: El nombre de talls que podem fer (grups-1)\n",
    "    \n",
    "    Returns\n",
    "    =======\n",
    "    :minimal: El preu més baix assolible\n",
    "    \"\"\"\n",
    "    pass"
   ]
  },
  {
   "cell_type": "code",
   "execution_count": null,
   "metadata": {},
   "outputs": [],
   "source": [
    "cent_savings_rec([12,15,19], 2) # Retorna 40"
   ]
  },
  {
   "cell_type": "code",
   "execution_count": null,
   "metadata": {},
   "outputs": [],
   "source": [
    "def cent_savings_dp_top_down(lst, d, memo={}):  \n",
    "    \"\"\"\n",
    "    Algorisme programació dinàmica top down.\n",
    "    \n",
    "    Params\n",
    "    ======\n",
    "    :lst: Una llista de preus \n",
    "    :d: El nombre de talls que podem fer (grups-1)\n",
    "    :memo: Un diccionari de memòria.\n",
    "    \n",
    "    Returns\n",
    "    =======\n",
    "    :minimal: El preu més baix assolible\n",
    "    \"\"\"\n",
    "    \n",
    "    pass"
   ]
  },
  {
   "cell_type": "code",
   "execution_count": null,
   "metadata": {},
   "outputs": [],
   "source": [
    "cent_savings_dp_top_down([12,15,19], 2) # Retorna 40"
   ]
  },
  {
   "cell_type": "code",
   "execution_count": null,
   "metadata": {},
   "outputs": [],
   "source": [
    "def cent_savings_dp_bottom_up(lst, d):\n",
    "    \"\"\"\n",
    "    Algorisme programació dinàmica bottom up.\n",
    "    \n",
    "    Params\n",
    "    ======\n",
    "    :lst: Una llista de preus \n",
    "    :d: El nombre de talls que podem fer (grups-1)\n",
    "    \n",
    "    Returns\n",
    "    =======\n",
    "    :minimal: El preu més baix assolible\n",
    "    \"\"\"\n",
    "    \n",
    "    pass"
   ]
  },
  {
   "cell_type": "code",
   "execution_count": null,
   "metadata": {},
   "outputs": [],
   "source": [
    "cent_savings_dp_bottom_up([12,15,19], 2) # Retorna 40"
   ]
  }
 ],
 "metadata": {
  "kernelspec": {
   "display_name": "Python 3",
   "language": "python",
   "name": "python3"
  },
  "language_info": {
   "codemirror_mode": {
    "name": "ipython",
    "version": 3
   },
   "file_extension": ".py",
   "mimetype": "text/x-python",
   "name": "python",
   "nbconvert_exporter": "python",
   "pygments_lexer": "ipython3",
   "version": "3.8.8"
  }
 },
 "nbformat": 4,
 "nbformat_minor": 4
}
