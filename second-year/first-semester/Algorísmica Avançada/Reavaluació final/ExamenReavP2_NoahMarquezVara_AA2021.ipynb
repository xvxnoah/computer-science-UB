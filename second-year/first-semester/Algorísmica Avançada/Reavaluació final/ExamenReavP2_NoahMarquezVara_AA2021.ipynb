{
 "cells": [
  {
   "cell_type": "markdown",
   "metadata": {},
   "source": [
    "<div style=\"padding:30px; color: white; background-color: #0071CD\">\n",
    "<center>\n",
    "<img src=\"img/logoub.jpeg\"></img>\n",
    "<center>\n",
    "<h1>Algorísmica Avançada 2021</h1>\n",
    "<h2>Examen Reavaluació (2n Parcial)</h2>\n",
    "</center>\n",
    "</div>"
   ]
  },
  {
   "cell_type": "markdown",
   "metadata": {},
   "source": [
    "<div class=\"alert alert-info\">\n",
    "    <h3>Abans d'entregar, comproveu...</h3>\n",
    "    <ol>\n",
    "        <li> El vostre codi funciona correctament en els exemples que us hem donat.\n",
    "        <li> El codi segueix el format que es demana. Per exemple si es demana programació dinàmica, no podeu implementar un algorisme greedy.\n",
    "        <li> Podeu haver fet funcions auxiliars però no modifiqueu la capçalera ni el retorn de la funció principal.\n",
    "        <li> Heu comentat el codi per entendre el que esteu fent.\n",
    "    </ol>\n",
    "    \n",
    "</div>"
   ]
  },
  {
   "cell_type": "code",
   "execution_count": 10,
   "metadata": {},
   "outputs": [
    {
     "data": {
      "text/html": [
       "<style>.container { width:100% !important; }</style>"
      ],
      "text/plain": [
       "<IPython.core.display.HTML object>"
      ]
     },
     "metadata": {},
     "output_type": "display_data"
    }
   ],
   "source": [
    "from IPython.core.display import display, HTML\n",
    "display(HTML(\"<style>.container { width:100% !important; }</style>\"))"
   ]
  },
  {
   "cell_type": "code",
   "execution_count": 11,
   "metadata": {},
   "outputs": [],
   "source": [
    "from matplotlib import pyplot as plt\n",
    "import numpy as np \n",
    "import math"
   ]
  },
  {
   "cell_type": "markdown",
   "metadata": {},
   "source": [
    "<div class=\"alert alert-success\">\n",
    "    <h1>Problema 1: Subseqüència Incremental més Llarga (Longest Increasing Subsequence, LIS)</h1>\n",
    "    <p>\n",
    "        Donada una seqüència de números, per exemple: $10, 22, 9, 33, 21, 50, 41, 60, 80$, volem trobar la subsequència d'elements més llarga possible que satisfaci que els seus elements estiguin ordenats de petit a gran (sense canviar l'ordre inicial).<br>\n",
    "        En el cas de l'exemple donat, la subseqüència més llarga té 6 elements: $10, 22, 33, 50, 60, 80$. <br>\n",
    "        Implementeu la funció <b>lis</b> que, donada una llista retorni la longitud de la LIS. <br><br>Per a resoldre aquest problema, heu d'usar una estructura de <b>programació dinàmica</b>. Podeu seguir qualsevol de les dues estructures de programació dinàmica vistes a classe.\n",
    "    <p>\n",
    "    \n",
    "</div>"
   ]
  },
  {
   "cell_type": "code",
   "execution_count": 12,
   "metadata": {},
   "outputs": [],
   "source": [
    "# Procediré a resoldre el problema de LIS mitjançant l'estructura dinàmica de programació \"bottom_up\"\n",
    "def lis(seq):\n",
    "    \"\"\"\n",
    "    Aquesta funció retorna la longitud de la subseqüència més llarga de la llista passada com a paràmetre.\n",
    "    \n",
    "    Params\n",
    "    ======\n",
    "    :seq: La llista inicial de la que en volem extreure la LIS\n",
    "    \n",
    "    Returns\n",
    "    =======\n",
    "    :val: La longitud de la LIS.\n",
    "    \"\"\"\n",
    "    # Fem les comprovacions inicials:\n",
    "    #   1. Si no ens han donat cap seqüència\n",
    "    #   2. Si la seqüència que ens han donat està buida\n",
    "    if (seq is None) or (len(seq) == 0):\n",
    "        return 0\n",
    "    \n",
    "    n = len(seq)\n",
    "    length = 0\n",
    "    \n",
    "    # Quan comencem, cada element individual té un LIS exactament d'1, així\n",
    "    # que cada índex s'inicialitza a 1\n",
    "    dp = [1] * (n)\n",
    "    \n",
    "    # Iterant l'array d'esquerra a dreta, actualitzem el valor de dp[j] si\n",
    "    # es compleixen dues condicions:\n",
    "    #   1. El valor en i és menor al valor en j (ja que volem subseqüència incremental)\n",
    "    #   2. Si actualitzar el valor de dp[j] a dp[i]+1 és millor\n",
    "    for i in range(n):\n",
    "        for j in range(i+1, n):\n",
    "            if(seq[i] < seq[j]) and (dp[j] < dp[i] + 1):\n",
    "                dp[j] = dp[i] + 1\n",
    "        \n",
    "        if dp[i] > length:\n",
    "            length = dp[i]\n",
    "            \n",
    "    return length"
   ]
  },
  {
   "cell_type": "code",
   "execution_count": 13,
   "metadata": {},
   "outputs": [
    {
     "data": {
      "text/plain": [
       "6"
      ]
     },
     "execution_count": 13,
     "metadata": {},
     "output_type": "execute_result"
    }
   ],
   "source": [
    "lis([10,22,9,33,21,50,41,60,80]) # Retorna 6"
   ]
  },
  {
   "cell_type": "code",
   "execution_count": 14,
   "metadata": {},
   "outputs": [
    {
     "data": {
      "text/plain": [
       "11"
      ]
     },
     "execution_count": 14,
     "metadata": {},
     "output_type": "execute_result"
    }
   ],
   "source": [
    "lis([2,12,22,5,7,26,25,8,19,10,17,21,19,21,26,23,22,25,26,21]) # Retorna 11"
   ]
  },
  {
   "cell_type": "markdown",
   "metadata": {},
   "source": [
    "<div class=\"alert alert-success\">\n",
    "    <h1>Problema 2: Multiplicació</h1>\n",
    "    <p>\n",
    "        Considereu els nombres del $0$ al $M<10$ (ambdós inclosos) on $M$ és un nombre senar. <br>\n",
    "        Donat un valor $N$, volem trobar, si existeixen, dos nombres $A,B$ de $\\dfrac{M+1}{2}$ xifres tals que: $$A\\times N = B$$ i on $A$ i $B$ estan formats per xifres del $0$ al $M$ i no comparteixen cap xifra.</p>\n",
    "    <p><b>Exemple:</b><br>\n",
    "        Per a $M=9, N=62$, hem de buscar dos nombres de $\\dfrac{9+1}{2}=5$ xifres: $A=abcde$ i $B=fghij$ tal que $A\\times 62 = B$ i tal que $a,b,c,d,e,f,g,h,i,j$ siguin totes diferents.<br>\n",
    "    Una solució possible és: $$A=01283,\\ B=79546\\ \\ \\text{ ja que }\\ \\ 1283\\times 62 = 79546$$\n",
    "    Heu d'usar <b>backtracking</b> per a resoldre aquest problema.\n",
    "    </p>\n",
    "    \n",
    "</div>"
   ]
  },
  {
   "cell_type": "code",
   "execution_count": 15,
   "metadata": {},
   "outputs": [],
   "source": [
    "# Funció per comprovar si el número que volem assignar no l'hem assignat anteriorment\n",
    "def isPossibleMove(A, B, num):\n",
    "    # Condició base\n",
    "    if len(A) == 0:\n",
    "        return True\n",
    "    \n",
    "    # Comprovem la resta de nombres en A\n",
    "    for i in range(len(A)):\n",
    "        if A[i] == num:\n",
    "            return False\n",
    "    \n",
    "    # Condició base\n",
    "    if len(B) == 0:\n",
    "        return True\n",
    "    \n",
    "    else:\n",
    "        # Comprovem la resta de nombres en B\n",
    "        for i in range(len(B)):\n",
    "            if B[i] == num:\n",
    "                return False\n",
    "    return True\n",
    "\n",
    "# Funció per comprovar si els números que estem considerant compleixen la condició de: A x N = B\n",
    "def check_mult(A, B, N):\n",
    "    a = 0\n",
    "    b = 0\n",
    "    \n",
    "    length = len(A)-1\n",
    "    \n",
    "    # Passem de format llista a un nombre decimal fent ús de la funció pow, ja que segons la seva posició\n",
    "    # el nombre será centena, desena...\n",
    "    for i in range(len(A)):\n",
    "        a += A[i] * pow(10, length)\n",
    "        b += B[i] * pow(10, length)\n",
    "        length -= 1\n",
    "    \n",
    "    # Comprovem si es compleix la condició de l'enunciat\n",
    "    return a * N == b\n",
    "\n",
    "# Funció per seguir amb l'esquema de backtracking per tal de resoldre el problema\n",
    "def mult_backtracking(A, B, N, M, xifres):\n",
    "    # Solution found: si els dos nombres tenen la llargada esperada\n",
    "    if (len(A) == xifres) and (len(B) == xifres):\n",
    "        # Si compleixen la condició que demana l'enunciat\n",
    "        if check_mult(A, B, N):\n",
    "            return True\n",
    "        \n",
    "        return False\n",
    "    \n",
    "    # for each possible moves: cada posició dels nombres (de la llista) només pot tenir valors entre\n",
    "    # 0 i M i no es poden repetir\n",
    "    for i in range(M+1):\n",
    "        # if this move is valid: si el número que anem a afegir és exclusiu i no l'hem fet servir anteriorment\n",
    "        if isPossibleMove(A, B, i):\n",
    "            # Comencem afegint primer els nombres en A\n",
    "            if len(A) != xifres:\n",
    "                # Select this move and place\n",
    "                A.append(i)\n",
    "                \n",
    "                # Si es compleix la condició, retornem els nombres\n",
    "                if mult_backtracking(A, B, N, M, xifres):\n",
    "                    return A, B\n",
    "                \n",
    "                # unplace that selected move\n",
    "                A.pop()\n",
    "            \n",
    "            # Després passem a afegir els elements en B\n",
    "            else:\n",
    "                # Select this move and place\n",
    "                B.append(i)\n",
    "                \n",
    "                # Si es compleix la condició, retornem els nombres\n",
    "                if mult_backtracking(A, B, N, M, xifres):\n",
    "                    return A, B\n",
    "                \n",
    "                # unplace that selected move\n",
    "                B.pop()\n",
    "                \n",
    "    # Don't explore anymore, no solution in this path            \n",
    "    return False\n",
    "        \n",
    "        \n",
    "def mult(M, N):   \n",
    "    \"\"\"\n",
    "    Aquesta funció soluciona el problema de la multiplicació. Donat un nombre N, volem trobar dos nombres\n",
    "    A i B tal que A*N=B i tal que A,B estiguin formats per (M+1)/2 xifres diferents i diferents entre si.\n",
    "    \n",
    "    Params\n",
    "    ======\n",
    "    :M: El nombre de dígits a considerar\n",
    "    :N: El valor que ha de satisfer l'equació A*N=B\n",
    "    \n",
    "    Returns\n",
    "    =======\n",
    "    :A, B: Si existeixen, o bé False\n",
    "    \"\"\"\n",
    "    \n",
    "    # Càlcul del número de xifres que tindran els dos nombres\n",
    "    xifres = (M+1)/2\n",
    "    \n",
    "    # Llistes que utilitzarem a l'hora de fer backtracking per tal d'anar provant les diferents combinacions\n",
    "    A = []\n",
    "    B = []\n",
    "    \n",
    "    # Llista on guardarem el resultat: A, B si existeixen, o bé False\n",
    "    result = []\n",
    "    \n",
    "    # Cridem a la funció de backtracking\n",
    "    result = mult_backtracking(A, B, N, M, xifres)\n",
    "    \n",
    "    # Si exiteixen les solucions, les retornem\n",
    "    if result:\n",
    "        return print_solution(result)\n",
    "    \n",
    "    return False\n",
    "\n",
    "# Funció auxiliar per tal de retornar els dos nombres trobats, ja que result és una llista de llistes\n",
    "def print_solution(result):\n",
    "    a = 0\n",
    "    b = 0\n",
    "    \n",
    "    length = len(result[0])-1\n",
    "    \n",
    "    # Passem de format llista a un nombre decimal fent ús de la funció pow, ja que segons la seva posició\n",
    "    # el nombre será centena, desena...\n",
    "    for i in range(length + 1):\n",
    "        a += result[0][i] * pow(10, length)\n",
    "        b += result[1][i] * pow(10, length)\n",
    "        length -= 1\n",
    "    \n",
    "    return a, b"
   ]
  },
  {
   "cell_type": "code",
   "execution_count": 16,
   "metadata": {},
   "outputs": [
    {
     "data": {
      "text/plain": [
       "(152, 304)"
      ]
     },
     "execution_count": 16,
     "metadata": {},
     "output_type": "execute_result"
    }
   ],
   "source": [
    "mult(5, 2) # Una solució possible és (152, 304) ja que 152 x 2 = 304 i estem utilitzant els nombres 012345"
   ]
  },
  {
   "cell_type": "code",
   "execution_count": 17,
   "metadata": {},
   "outputs": [
    {
     "data": {
      "text/plain": [
       "False"
      ]
     },
     "execution_count": 17,
     "metadata": {},
     "output_type": "execute_result"
    }
   ],
   "source": [
    "mult(7, 31) # Retorna False"
   ]
  },
  {
   "cell_type": "code",
   "execution_count": 18,
   "metadata": {},
   "outputs": [
    {
     "data": {
      "text/plain": [
       "(1283, 79546)"
      ]
     },
     "execution_count": 18,
     "metadata": {},
     "output_type": "execute_result"
    }
   ],
   "source": [
    "mult(9, 62) # Una solució possible és (1283, 79546) ja que 01283 x 62 = 79546 i estem utilitzant els nombres 0123456789."
   ]
  }
 ],
 "metadata": {
  "kernelspec": {
   "display_name": "Python 3",
   "language": "python",
   "name": "python3"
  },
  "language_info": {
   "codemirror_mode": {
    "name": "ipython",
    "version": 3
   },
   "file_extension": ".py",
   "mimetype": "text/x-python",
   "name": "python",
   "nbconvert_exporter": "python",
   "pygments_lexer": "ipython3",
   "version": "3.6.2"
  }
 },
 "nbformat": 4,
 "nbformat_minor": 4
}
