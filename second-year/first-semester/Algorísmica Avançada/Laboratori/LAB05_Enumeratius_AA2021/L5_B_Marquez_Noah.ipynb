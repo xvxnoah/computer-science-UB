{
 "cells": [
  {
   "cell_type": "markdown",
   "metadata": {},
   "source": [
    "<div style=\"padding:30px; color: white; background-color: #0071CD\">\n",
    "<center>\n",
    "<img src=\"img/logoub.jpeg\"></img>\n",
    "<center>\n",
    "<h1>Algorísmica Avançada 2021</h1>\n",
    "<h2>Laboratori 5 - Enumeratius, Ramificació i Poda</h2>\n",
    "</center>\n",
    "</div>"
   ]
  },
  {
   "cell_type": "code",
   "execution_count": 1,
   "metadata": {},
   "outputs": [
    {
     "data": {
      "text/html": [
       "<style>.container { width:100% !important; }</style>"
      ],
      "text/plain": [
       "<IPython.core.display.HTML object>"
      ]
     },
     "metadata": {},
     "output_type": "display_data"
    }
   ],
   "source": [
    "import sys\n",
    "sys.path.insert(0, '../../')\n",
    "\n",
    "from IPython.core.display import display, HTML\n",
    "display(HTML(\"<style>.container { width:100% !important; }</style>\"))"
   ]
  },
  {
   "cell_type": "markdown",
   "metadata": {},
   "source": [
    "# Backtracking"
   ]
  },
  {
   "cell_type": "markdown",
   "metadata": {},
   "source": [
    "El <b>backtracking</b> és una tècnica d'exploració exhaustiva, és a dir, que explora tots els possibles estats d'un problema. La implementació d'un algorisme mitjançant backtracking no és gaire diferent a les estratègies de recursió que hem vist fins ara peró amb un matís important que veurem a continuació. Tots els algorismes de backtracking es caracteritzen per anar avançant fins que es pugui i, en cas d'arribar a un punt on no podem seguir explorant, <b>desfer el camí fins a l'últim punt possible</b> i explorar els següents estats.<br><br>\n",
    "Un exemple per al problema de les N-Reines (N=4) el podeu veure representat en la figura següent.<br>\n",
    "Observeu com inicialment es col·loca una reina a la primera casella (0,0) i, al no arribar a una solució, s'acaba movent a la posició (1,0).\n",
    "<img src=\"https://i.imgur.com/FYu8t3s.gif\" width='20%'/>\n"
   ]
  },
  {
   "cell_type": "markdown",
   "metadata": {},
   "source": [
    "## Com programem algorismes usant backtracking?\n",
    "\n",
    "Tot algorimse de backtracking ha de tenir, com a mínim, els següents tres blocs de codi."
   ]
  },
  {
   "cell_type": "markdown",
   "metadata": {},
   "source": [
    "<img src=\"img/backscheme.png\" width='40%'/>"
   ]
  },
  {
   "cell_type": "markdown",
   "metadata": {},
   "source": [
    "<ol>\n",
    "    <li><b>Solució trobada</b>: Hem de tenir una forma de comprovar si hem arribat a una solució. En el cas que aquest sigui l'únic objectiu del problema, ja haurem acabat i simplement haurem de desfer les crides recursives.\n",
    "    <li><b>Exploració</b>: Donat un estat actual, mirem quins moviments podem fer (si és que en podem fer algun!). Triem un dels moviments (seguint un criteri, o no) i cridem recursivament la funció esperant trobar una solució al problema. En el cas que el resultat d'una exploració no hagi retornat cap solució vàlida, hem de desfer el moviment que havíem fet.\n",
    "    <li><b>Estat no vàlid</b>: En el cas que durant l'exploració ens trobem amb un estat que no es vàlid per seguir explorant, per exemple, no podem fer cap altre moviment i tampoc hem resolt el problema, avisem a les crides anteriors d'això per a que puguin desfer-lo.\n",
    "</ol>"
   ]
  },
  {
   "cell_type": "markdown",
   "metadata": {},
   "source": [
    "<div class=\"alert alert-success\">\n",
    "    <h1>Problema 1: Lights Out!</h1>\n",
    "    <img src=\"https://upload.wikimedia.org/wikipedia/commons/a/a9/LightsOutIllustration.svg\" width='70%'>\n",
    "    <p>\n",
    "        Lights Out és un joc que consisteix en encendre o apagar totes les llums d'un tauler de dimensió $W\\times H$ en el <b>mínim nombre de clics possibles</b>. L'objectiu d'aquest problema és una mica diferent. Donades dues configuracions de tauler (per exemple la primera i última imatge de la figura anterior), volem trobar el mínim nombre de clics que ens permeten transformar un tauler en l'altre.<br><br>\n",
    "        Cada cel·la de la graella té dos estats possibles (encesa/apagada) i al fer clic sobre una cel·la es canvia l'estat d'ella mateixa i de les cel·les adjacents horitzontals i verticals com podeu veure representat també en la figura anterior.<br><br>\n",
    "        Implementeu les dues funcions <b>compare_grids</b> i <b>solve_lights_out</b>. \n",
    "        <ol>\n",
    "            <li>La funció <b>compare_grids</b> ha de retornar un valor de similitud entre dues graelles.\n",
    "            <li>La funció <b>solve_lights_out</b> ha d'implementar estratègies de backtracking i/o ramificació i poda per tal d'optimitzar el màxim el temps d'execució. Podeu plantejar-vos també usar cues de prioritat per prioritzar l'expansió de certs estats en concret.\n",
    "        </ol>        \n",
    "    La classe <b>LightsOut</b> conté una sola variable, <b>grid</b> amb la representació de cada posició de la graella.<br>\n",
    "    Té implementades les funcions <b>click, board_id, show_board</b> que s'expliquen a continuació.    \n",
    "    </p>\n",
    "    \n",
    "</div>"
   ]
  },
  {
   "cell_type": "code",
   "execution_count": 2,
   "metadata": {},
   "outputs": [],
   "source": [
    "from lights_out import LightsOut\n",
    "import random\n",
    "from matplotlib import pyplot as plt"
   ]
  },
  {
   "cell_type": "markdown",
   "metadata": {},
   "source": [
    "### Generació de taulers aleatoris"
   ]
  },
  {
   "cell_type": "code",
   "execution_count": 3,
   "metadata": {},
   "outputs": [],
   "source": [
    "# Generem dos configuracions aleatòries\n",
    "W, H = 3,4\n",
    "shuffle = 100\n",
    "\n",
    "# Inicialitzem dos objectes amb la dimensió de la graella\n",
    "a = LightsOut(W, H) # Configuració inicial\n",
    "b = LightsOut(W, H) # Configuració objectiu\n",
    "\n",
    "# Clicks aleatoris\n",
    "for _ in range(shuffle):\n",
    "    i, j = random.randint(0, len(b.grid)-1), random.randint(0, len(b.grid[0])-1)\n",
    "    b = b.click(i,j)\n",
    "    \n",
    "for _ in range(shuffle):\n",
    "    i, j = random.randint(0, len(a.grid)-1), random.randint(0, len(a.grid[0])-1)\n",
    "    a = a.click(i,j)"
   ]
  },
  {
   "cell_type": "markdown",
   "metadata": {},
   "source": [
    "### Mostrem els dos taulells generats"
   ]
  },
  {
   "cell_type": "code",
   "execution_count": 4,
   "metadata": {},
   "outputs": [
    {
     "data": {
      "image/png": "[encoded data removed]",
      "text/plain": [
       "<Figure size 720x360 with 2 Axes>"
      ]
     },
     "metadata": {
      "needs_background": "light"
     },
     "output_type": "display_data"
    }
   ],
   "source": [
    "fig, axs = plt.subplots(1,2,figsize=(10,5))\n",
    "\n",
    "a.show_board(ax = axs[0])\n",
    "axs[0].set_title('Configuració inicial')\n",
    "b.show_board(ax = axs[1])\n",
    "axs[1].set_title('Configuració objectiu')\n",
    "\n",
    "plt.show()"
   ]
  },
  {
   "cell_type": "markdown",
   "metadata": {},
   "source": [
    "### Ús de la variable 'grid' i de les funcions 'board_id()', 'click()' i 'show_board()'"
   ]
  },
  {
   "cell_type": "code",
   "execution_count": 5,
   "metadata": {},
   "outputs": [
    {
     "data": {
      "text/plain": [
       "[['-', 'X', '-', 'X'], ['X', '-', '-', 'X'], ['-', 'X', '-', 'X']]"
      ]
     },
     "execution_count": 5,
     "metadata": {},
     "output_type": "execute_result"
    }
   ],
   "source": [
    "# Podem accedir a a la graella amb la variable 'grid'\n",
    "a.grid"
   ]
  },
  {
   "cell_type": "code",
   "execution_count": 6,
   "metadata": {},
   "outputs": [
    {
     "data": {
      "text/plain": [
       "-1895081432520960518"
      ]
     },
     "execution_count": 6,
     "metadata": {},
     "output_type": "execute_result"
    }
   ],
   "source": [
    "# Podem usar un identificador únic de cada graella cridant a board_id()\n",
    "a.board_id()"
   ]
  },
  {
   "cell_type": "code",
   "execution_count": 7,
   "metadata": {},
   "outputs": [
    {
     "data": {
      "image/png": "[encoded data removed]",
      "text/plain": [
       "<Figure size 1080x288 with 3 Axes>"
      ]
     },
     "metadata": {
      "needs_background": "light"
     },
     "output_type": "display_data"
    }
   ],
   "source": [
    "# Inicialitzem una figura amb tres subfigures i hi mostrem en primer lloc la configuració inicial\n",
    "fig, axs = plt.subplots(1,3,figsize=(15,4))\n",
    "a.show_board(ax = axs[0])\n",
    "axs[0].set_title('Configuració inicial')\n",
    "\n",
    "# Triem un punt aleatori i mostrem el click.\n",
    "i, j = random.randint(0, len(a.grid)-1), random.randint(0, len(a.grid[0])-1)\n",
    "a.show_board(ax = axs[1], show_click=(i,j))\n",
    "axs[1].set_title(f'Click a la casella ({i},{j})')\n",
    "\n",
    "# Executem el click i mirem el resultat\n",
    "new_a = a.click(i,j)\n",
    "new_a.show_board(ax = axs[2])\n",
    "axs[2].set_title(f'Configuració després del click ({i},{j})')\n",
    "\n",
    "plt.show()"
   ]
  },
  {
   "cell_type": "code",
   "execution_count": 8,
   "metadata": {},
   "outputs": [],
   "source": [
    "from queue import PriorityQueue\n",
    "\n",
    "def compare_grids(l1, l2):\n",
    "    \"\"\"\n",
    "    Aquesta funció assigna una puntuació a la similitud entre l1 i l2.\n",
    "    \n",
    "    Params\n",
    "    ======\n",
    "    :l1, l2: Dos objectes de tipus LightsOut\n",
    "    \n",
    "    Returns\n",
    "    =======\n",
    "    :score: Una puntuació entre aquests dos elements.\n",
    "    \"\"\"\n",
    "    # Farem una implementació básica en la que recorrem\n",
    "    # les caselles dels dos taulers i comprovem a cada casella\n",
    "    # si està en el mateix estat (encès o apagat)\n",
    "    \n",
    "    # Inicialitzem la puntuació entre els dos taulers (l1 i l2) a 0\n",
    "    score = 0\n",
    "    \n",
    "    # Com he comentat abans, recorrem totes les casellescomprovant si els dos taulers en aquella posició es troben\n",
    "    # en el mateix estat (encès o apagat)\n",
    "    for i in range(len(l1.grid)): # per cada columna\n",
    "        for j in range(len(l1.grid[0])): # per cada fila\n",
    "            if l1.grid[i][j] == l2.grid[i][j]:\n",
    "                score += 1\n",
    "            \n",
    "    return score\n",
    "\n",
    "def solve_lights_out(ini, tar):\n",
    "    \"\"\"\n",
    "    Aquesta funció soluciona el problema Lights Out i retorna una solució de moviments mínims.\n",
    "    \n",
    "    Params\n",
    "    ======\n",
    "    :ini, tar: Dos objectes de tipus LightsOut\n",
    "    \n",
    "    Returns\n",
    "    =======\n",
    "    :expanded: Número de taulers que s'han expandit\n",
    "    :best_moves: La seqüència de moviments que s'han de realitzar per arribar d'un tauler a l'altre en el format [(0,0), (3,2), (1,2),...]\n",
    "    \"\"\"\n",
    "    # Inicialització dels valors que haurem de retornar\n",
    "    expanded = 0\n",
    "    best_moves = []\n",
    "    \n",
    "    # Crida a la funció auxiliar per tal de fer el backtracking i anar construïnt la nostra solució (i sobretot, amb el menor número de clicks\n",
    "    # possible)\n",
    "    # Les configuracions tenen un id que les identifica, si dues tenen la mateixa configuració tindràn el mateix id; per això les configuracions\n",
    "    # ja provades les guardarem en un set\n",
    "    # També guardarem en un set els clicks que fem i que poden arribar a la configuració del target\n",
    "    expanded, best_moves = backtracking_lights_out(ini, tar, expanded, best_moves, set(), set())\n",
    "    \n",
    "    # Aquest return ja és el del nombre total de taulers que s'han expandit i quina és la millor seqüència de moviments que s'han realitzat\n",
    "    # per arribar d'un tauler a l'altre, en format d'una llista de tuples\n",
    "    return expanded, best_moves\n",
    "\n",
    "def backtracking_lights_out(ini, tar, exp, best_moves, clicks, visited):\n",
    "        \n",
    "        # Comprovació de si s'ha trobat la solució seguint l'esquema de backtracking (if solution == true).\n",
    "        # Les condicions per haver trobat la configuració target i per saber si em d'actualitzar la millor solució són les següents:\n",
    "        #     1. Si el id del tauler ini (tauler actual) i del tauler tar són els mateixos, voldrà dir que ja hem aconseguit la configuració objectiu. \n",
    "        #     2. Si encara no tenim res a best_moves (len == 0) vol dir que és el primer cop que trobem un seguit de clicks possibles per arribar\n",
    "        #        a la configuració final, per tant actualitzem best_moves amb els clicks actuals que ens han portat a una solució i retornem best_moves\n",
    "        #        i el nombre de taulers expandits\n",
    "        #     3. O bé si ja teniem una solució a best_moves, però era amb un nombre més gran de clicks que els que portem en aquesta iteració, actualitzem best_moves\n",
    "        #        i retornem el mateix que en el cas 2.\n",
    "        if ini.board_id() == tar.board_id():\n",
    "            if len(best_moves)==0 or len(best_moves)>len(clicks):\n",
    "                best_moves = clicks.copy()    \n",
    "                return exp, best_moves\n",
    "            \n",
    "        #Per cada crida a la funció recursiva, haurem expandit un tauler més (situo l'increment després de la comprovació de l'if ja que considero que en\n",
    "        # l'hipotètic cas en que ini i tar fosin iguals a la primera crida a la funcio de backtracking_lights_out, no hauriem expandit cap tauler)\n",
    "        exp+=1\n",
    "        \n",
    "        # Per tal de continuar explorant (keep exploring de l'esquema), s'han de complir un seguit de condicions:\n",
    "        #     1. Si encara no hem trobat solució ja que best_moves és buit.\n",
    "        #     2. O bé si la configuració que estem provant no és més gran que la solució que ja tenim guardada a best_moves.\n",
    "        #     3. I la condició excloent de si aquesta configuració no ha estat provada anteriorment (ho sabem perquè tenim un set on guardem els id's de les\n",
    "        #        configuracions de taulers ja provades) ja que no serà solució\n",
    "        if (len(best_moves)==0 or len(best_moves)>len(clicks)) and ini.board_id() not in visited:\n",
    "            # Farem ús d'una PriorityQueue per ordenar els possibles clicks a realitzar en el tauler actual segons el score que ens retorni compare_grids desprès\n",
    "            # de fer click en una certa posició del tauler. Els ordenarem de major a menor, per començar a provar pels clicks que ens ofereixen una millor similitud\n",
    "            # amb el target.\n",
    "            cua = PriorityQueue()\n",
    "            \n",
    "            # Recorrem totes les caselles del tauler (for each possible moves de l'esquema)\n",
    "            for i in range(len(ini.grid)):\n",
    "                for j in range(len(ini.grid[0])):\n",
    "                    # Si la present casella (i,j) no està dins dels clicks que ja hem realitzat anteriorment (if this move is valid,\n",
    "                    # de l'esquema), l'afegim a la Priority Queue.\n",
    "                    if (i,j) not in clicks:\n",
    "                        # Per tal d'ordenar els clicks dins de la Priority Queue cridarem a la funció compare_grids amb el tauler actual\n",
    "                        # havent fet click a la casella que estem tractant i el target, per tal de que ens retorni un score (grau de\n",
    "                        # similitud entre els dos taulers)\n",
    "                        cua.put((compare_grids(ini.click(i,j),tar),(i,j)))\n",
    "            \n",
    "            # Mentre hi hagi algún click a fer a la cua\n",
    "            while not cua.empty():\n",
    "                # Agafem el click de major score de la cua (alhora es farà el dequeue)\n",
    "                click = cua.get()[1]\n",
    "                \n",
    "                # Per tal de cridar recursivament a la funció backtracking_lights_out, seleccionem el click (afegint-lo a clicks)\n",
    "                # i fem la crida (select this move and place, de l'esquema)\n",
    "                clicks.add((click[0],click[1]))\n",
    "                \n",
    "                # Fem les crides recursives\n",
    "                exp, best_moves = backtracking_lights_out(ini.click(click[0],click[1]), tar, exp, best_moves, clicks, visited)\n",
    "                \n",
    "                # Desfem els clicks necessàris d'haver cridat a la funció recursiva (unplace that selected move, de l'esquema)\n",
    "                clicks.discard((click[0],click[1]))\n",
    "                \n",
    "        # Si hem arribat fins aquí, vol dir que no hi ha solució en aquesta configuració, per tant l'afegim al conjunt de visitades\n",
    "        # (fent ús del seu id). Equival a l'última part de l'esquema.\n",
    "        visited.add(ini.board_id())\n",
    "        return exp, best_moves\n",
    "    \n",
    "def show_steps(ini, tar, steps):\n",
    "    \"\"\"\n",
    "    Mostra una figura per pas donat un tauler inicial i un conjunt de passos\n",
    "    \n",
    "    Params\n",
    "    ======\n",
    "    :ini: Un objecte de la classe LightsOut amb la configuració original\n",
    "    :tar: Un objecte de la classe LightsOut amb la configuració objectiu\n",
    "    :steps: Una llista de passos amb el format [(0,0), (3,2), (1,2),...]\n",
    "    \"\"\"\n",
    "    fig, axs = plt.subplots(1, len(steps)+2, figsize=(30,5))\n",
    "    axs = axs.flatten()\n",
    "    for i, step in enumerate(steps):\n",
    "        ini.show_board(ax=axs[i], show_click=step)\n",
    "        axs[i].set_title(f\"Click at {step}\")\n",
    "        ini = ini.click(*step)\n",
    "    ini.show_board(ax=axs[i+1])\n",
    "    axs[i+1].set_title(f'Result after {len(steps)} steps')\n",
    "    tar.show_board(ax=axs[i+2])\n",
    "    axs[i+2].set_title(f'Target configuration')\n",
    "    plt.show()"
   ]
  },
  {
   "cell_type": "markdown",
   "metadata": {},
   "source": [
    "Proveu-ho aquí:"
   ]
  },
  {
   "cell_type": "code",
   "execution_count": 9,
   "metadata": {},
   "outputs": [],
   "source": [
    "expanded, moves = solve_lights_out(a,b)"
   ]
  },
  {
   "cell_type": "code",
   "execution_count": 10,
   "metadata": {},
   "outputs": [
    {
     "name": "stdout",
     "output_type": "stream",
     "text": [
      "Expanded boards: 22288\n"
     ]
    },
    {
     "data": {
      "image/png": "[encoded data removed]",
      "text/plain": [
       "<Figure size 2160x360 with 10 Axes>"
      ]
     },
     "metadata": {
      "needs_background": "light"
     },
     "output_type": "display_data"
    }
   ],
   "source": [
    "print('Expanded boards:',expanded)\n",
    "show_steps(a, b,moves)"
   ]
  },
  {
   "cell_type": "markdown",
   "metadata": {},
   "source": [
    "<div class=\"alert alert-success\">\n",
    "    <h1>Problema 2: Roomba!</h1>\n",
    "    <p>\n",
    "        En el nostre pis quadrat, tenim una roomba endollada a la seva base de càrrega. Volem que visiti un seguit de punts que hem embrutat i que ho faci en el menor temps possible. Si el nostre pis és de $W\\times H$ cel·les i la roomba està situada inicialment a les coordenades $(x_0,y_0)$ volem trobar el menor nombre de passos possibles $p$ d'un recorregut que comenci i acabi a $(x_0,y_0)$ i que visiti tots els punts.<br><br>\n",
    "        Implementeu la funció <b>solve_roomba</b> utilitzant estratègies de backtracking i ramificació i poda. Ha de retornar els taulers expandits i un camí que comenci i acabi a $(x_0,y_0)$ passant per tots els punts que es demanen. També heu d'implementar les funcions <b>inferior_bound</b> i <b>superior_bound</b> per a que retornin una cota inferior i superior, respectivament.\n",
    "        <ol>\n",
    "            <li><b>Cota inferior</b>: Considereu que tots els punts estan alinets horitzontalment amb la roomba. Quin seria el cost de visitar tots els punts en aquest cas?\n",
    "            <li><b>Cota superior</b>: Trobeu una solució, no òptima evidentment, usant una estratègia greedy. Com a mínim ja tindrem una solució que, segurament, no serà la millor però la podrem fer servir per comparar durant l'execució del nostre algorisme.\n",
    "        </ol>\n",
    "        La classe <b>Roomba</b> conté quatre variables:\n",
    "        <ol>\n",
    "            <li><b>H, W</b>: amb les dimensions del pis.\n",
    "            <li><b>origin</b>: una parella $(x_0,y_0)$ amb l'estació de càrrega de la roomba.\n",
    "            <li><b>points</b>: una llista de parelles diferents entre elles $(i,j)$ amb els punts que s'han de netejar.\n",
    "        </ol>\n",
    "    </p>\n",
    "    \n",
    "</div>"
   ]
  },
  {
   "cell_type": "code",
   "execution_count": 11,
   "metadata": {},
   "outputs": [],
   "source": [
    "from roomba import Roomba"
   ]
  },
  {
   "cell_type": "code",
   "execution_count": 12,
   "metadata": {
    "scrolled": true
   },
   "outputs": [
    {
     "data": {
      "image/png": "[encoded data removed]",
      "text/plain": [
       "<Figure size 864x432 with 1 Axes>"
      ]
     },
     "metadata": {
      "needs_background": "light"
     },
     "output_type": "display_data"
    }
   ],
   "source": [
    "# Inicialitzem un tauler aleatori\n",
    "H, W = 10,20\n",
    "r = Roomba(H, W)\n",
    "num_points = 10\n",
    "\n",
    "points = random.sample([(i,j) for i in range(H) for j in range(W)], num_points)\n",
    "origin = random.choice([(i,j) for i in range(H) for j in range(W)])\n",
    "while origin in points:\n",
    "    origin = random.choice([(i,j) for i in range(H) for j in range(W)])\n",
    "\n",
    "# Afegim els punts a netejar i l'orígen\n",
    "r.set_points(points)\n",
    "r.set_origin(origin)\n",
    "\n",
    "# Mostrem la graella\n",
    "r.show_board()"
   ]
  },
  {
   "cell_type": "markdown",
   "metadata": {},
   "source": [
    "## Distància de Manhattan\n",
    "La distància de manhattan ens permet trobar la distància entre dos punts d'una graella. A diferència de la <b>distància euclidiana</b> (blava), la <b>distància de manhattan</b> (vermella) no contempla la distància en línia recta sinó que té en compte la morfologia de la grella. D'aquesta forma ens dóna una distància real entre dos punts d'una ciutat quadriculada o del taulell del problema que volem resoldre."
   ]
  },
  {
   "cell_type": "markdown",
   "metadata": {},
   "source": [
    "<img src='https://static.packt-cdn.com/products/9781787121515/graphics/bd978c4c-8251-489d-bcda-5ce7b7b825dd.png' width='20%'>"
   ]
  },
  {
   "cell_type": "code",
   "execution_count": 13,
   "metadata": {},
   "outputs": [],
   "source": [
    "def manhattan_dist(point1, point2):\n",
    "    \"\"\"\n",
    "    Donats dos punts point1, point2, retorna la distància de manhattan\n",
    "    \n",
    "    Params\n",
    "    ======\n",
    "    :point1, point2: Dos punts amb el format point1=(a1,b1), point2=(a2,b2)\n",
    "    \n",
    "    Returns\n",
    "    =======\n",
    "    :dist: La distància de manhattan entre els dos punts. dist = |a1-a2| + |b1-b2|\n",
    "    \n",
    "    \"\"\"\n",
    "    a1, b1 = point1\n",
    "    a2, b2 = point2\n",
    "    return abs(a1-a2)+abs(b1-b2)"
   ]
  },
  {
   "cell_type": "code",
   "execution_count": 14,
   "metadata": {},
   "outputs": [],
   "source": [
    "def superior_bound(roomba):\n",
    "    \"\"\"\n",
    "    Retorna la cota superior inicial per al problema de la Roomba usant una estratègia greedy.\n",
    "    \n",
    "    Params\n",
    "    ======\n",
    "    :roomba: Un objecte de la classe Roomba. Podeu accedir a les variables roomba.points, roomba.origin, roomba.W, roomba.H\n",
    "    \n",
    "    Returns\n",
    "    =======\n",
    "    :sup: La cota inferior incial per a aquest problema. \n",
    "    \"\"\"\n",
    "    # Una possible solució per calcular una cota\n",
    "    # superior és una que passi per tots els punts\n",
    "    # usant una estratègia greedy; si el camí que\n",
    "    # portem és més gran que aquesta cota superior\n",
    "    # ja no continuem\n",
    "    \n",
    "    # Inicialitzem la cota superior a 0\n",
    "    sup = 0\n",
    "    \n",
    "    # Inicialitzem la posició inicial amb l'origen\n",
    "    # de la roomba\n",
    "    pos = roomba.origin\n",
    "    \n",
    "    # Inicialitzem la llista de punts que falten per\n",
    "    # visitar amb tots els punts que ha de visitar/netejar la roomba\n",
    "    points = roomba.points.copy()\n",
    "    \n",
    "    # Iterem mentre la roomba tingui encara punts a visitar\n",
    "    while (len(points) > 0):\n",
    "        # Calcularem el punt (a netejar) que està més\n",
    "        # a prop de la roomba usant una estratègia greedy,\n",
    "        # recorrent-los tots\n",
    "        \n",
    "        # height & width del tauler, seria recorrer\n",
    "        # tots els punts del tauler\n",
    "        minimum_distance = roomba.H * roomba.W \n",
    "        \n",
    "        # El punt més proper (el mínim) abans de\n",
    "        # calcular un altre és quedar-nos on estem\n",
    "        minimum_point = pos \n",
    "        \n",
    "        # Recorrem tots els punts\n",
    "        # Pel càlcul de la distància a un punt farem\n",
    "        # servir la distància de manhattan ja que no\n",
    "        # contempla la distància en línia recta sinó que té en compte \n",
    "        # la morfologia de la graella. D'aquesta forma\n",
    "        # ens dóna una distància real entre dos punts\n",
    "        # d'una ciutat quadriculada o del taulell del\n",
    "        # problema que volem resoldre.\n",
    "        for point in points:\n",
    "            distance = manhattan_dist(pos, point)\n",
    "            \n",
    "            # Si la distància calculada es menor\n",
    "            # que la que ja teniem, l'actualitzem\n",
    "            if(distance < minimum_distance):\n",
    "                minimum_point = point\n",
    "                minimum_distance = distance\n",
    "        \n",
    "        # Un cop trobat el punt que està més a prop\n",
    "        # de la roomba, sumem la distància fins aquest\n",
    "        # punt a la cota superior i movem la roomba a\n",
    "        # la nova posició\n",
    "        # Actualitzem també la llista de punts restants a\n",
    "        # netejar eliminant de la llista el punt actual\n",
    "        sup += minimum_distance\n",
    "        pos = minimum_point\n",
    "        points.remove(minimum_point)\n",
    "        \n",
    "    # Quan ja haguem visitat tots els punts a netejar per\n",
    "    # la roomba, haurem de sumar a la cota superior la\n",
    "    # distancia que té fins tornar a l'origen (i.e. base de càrrega)\n",
    "    # Per calcular aquesta distància, utilitzarem la distància de manhattan\n",
    "    sup += manhattan_dist(pos, roomba.origin)\n",
    "    \n",
    "    return sup\n",
    "\n",
    "def inferior_bound(roomba):\n",
    "    \"\"\"\n",
    "    Retorna la cota inferior inicial per al problema de la Roomba. Considereu que tots els punts estan alineats i calculeu-ne el cost de visitar-los tots i tornar a la base de càrrega.\n",
    "    \n",
    "    Params\n",
    "    ======\n",
    "    :roomba: Un objecte de la classe Roomba. Podeu accedir a les variables roomba.points, roomba.origin, roomba.W, roomba.H\n",
    "    \n",
    "    Returns\n",
    "    =======\n",
    "    ::\n",
    "    \"\"\"\n",
    "    # Si considerem que tots els punts estan alineats,\n",
    "    # el cost de visitar-los tots serà la longitud de\n",
    "    # la llista de punts a visitar * 2 (ja que em de\n",
    "    # tornar a la base de càrrega)\n",
    "    # Segons l'enunciat hauriem d'implementar el següent: inf = len(roomba.points) * 2\n",
    "    # Tot i així, implementaré una cota inferior més òptima que m'assegura una distància menor, que serà calcular la distància de manhattan fins al punt més proper i tornar a la base\n",
    "    # de càrrega\n",
    "    inf = float('inf')\n",
    "    \n",
    "    for point in roomba.points:\n",
    "        dist = manhattan_dist(roomba.origin, point)\n",
    "        \n",
    "        if dist < inf:\n",
    "            inf = dist\n",
    "    \n",
    "    return inf * 2"
   ]
  },
  {
   "cell_type": "code",
   "execution_count": 15,
   "metadata": {},
   "outputs": [],
   "source": [
    "def solve_roomba(roomba):\n",
    "    \"\"\"\n",
    "    Soluciona el problema de trobar el camí mínim en una graella 2-Dimensional passant per un seguit de punts.\n",
    "    \n",
    "    Params\n",
    "    ======\n",
    "    :roomba: Un objecte de la classe Roomba\n",
    "    \n",
    "    Returns\n",
    "    =======\n",
    "    :expanded: Número de taulers que s'han expandit\n",
    "    :best_moves: La seqüència de moviments que ha de realitzar la roomba per visitar tots els punts amb el format [(0,0), (0,1), (0,2),...,(0,0)]\n",
    "    \"\"\"\n",
    "    # Inicialitzem les cotes superior i inferior\n",
    "    sup_bound = superior_bound(roomba)\n",
    "    inf_bound = inferior_bound(roomba)\n",
    "    \n",
    "    # Inicialitzem el nombre de taulers que s'hauran expandit\n",
    "    expanded = 0\n",
    "    \n",
    "    # Inicialitzem la llista de tuples amb la seqüència de moviments que ha de realitzar la roomba per visitar tots els punts\n",
    "    best_moves = []\n",
    "    \n",
    "    # Fem la crida a la funció auxiliar que ens farà el backtracing per tal de construir el millor camí possible\n",
    "    expanded, best_moves, sb = backtracking_roomba(roomba, [roomba.origin], best_moves, 0, sup_bound, inf_bound, expanded)\n",
    "    \n",
    "    # best_moves ens guarda l'ordre de les caselles que em de visitar, però no el recorregut que haurem de fer per anar d'una casella a un altre\n",
    "    # ja que si retornem directament best_moves, el path de la roomba creuarà caselles en diagonal, cosa que en el problema no pot fer (estaria seguint\n",
    "    # la distància euclidiana entre els punts).\n",
    "    # best_moves és de l'estil [(0,0), ... punts a visitar ..., (0,0)]\n",
    "    # Per tant, implementarem el recorregut que ha de seguir la roomba a continuació:\n",
    "    \n",
    "    # len(best_moves) serà == 0 només en el cas que hi hagi un sol punt a netejar en tot el tauler, per tant haurem de considerar aquest cas (en l'else més abaix)\n",
    "    if(len(best_moves) != 0):\n",
    "        # Inicialitzem una nova llista amb el primer punt de la llista de best_moves (és a dir, l'origen)\n",
    "        path = [best_moves[0]]\n",
    "    \n",
    "        # Farem un bucle len(best_moves)-1 cops, ja que si per exemple tenim 5 punts, tindrem 4 subrecorreguts a fer:\n",
    "        #     1. Del primer punt al segon\n",
    "        #     2. Del segon punt al tercer\n",
    "        #     3. Del tercer punt al quart\n",
    "        #     4. Del quart punt al cinquè\n",
    "    \n",
    "        for i in range(len(best_moves)-1):\n",
    "            # Separem les coordenades i,j del punt actual i del següent\n",
    "            i0, j0 = best_moves[i]\n",
    "            i1, j1 = best_moves[i+1]\n",
    "        \n",
    "            # Mentre els punts no estiguin a la mateixa fila, iterem fins que ho estiguin i per cada iteració afegim el moviment al recorregut\n",
    "            while i0 != i1:\n",
    "                # Si el punt actual es troba en una fila superior al següent punt, haurem de baixar de fila (augmentar en 1)\n",
    "                if i0 < i1:\n",
    "                    i0 += 1\n",
    "            \n",
    "                # En canvi si el punt actual es troba en una fila inferior al següent punt, haurem de pujar (disminuir en 1)\n",
    "                else:\n",
    "                    i0 -= 1\n",
    "            \n",
    "                # Afegim el moviment (punt al que ens hem mogut) al recorregut\n",
    "                path.append((i0, j0))\n",
    "            \n",
    "            # Mateix procediment per les columnes\n",
    "            while j0 != j1:\n",
    "                # Si el punt actual es troba en una columna més a l'esquerra que el següent punt, ens movem a la dreta (augmentar en 1)\n",
    "                if j0 < j1:\n",
    "                    j0 += 1\n",
    "                \n",
    "                # En canvi si el punt actual es troba en una columna més a la dreta que el següent punt, ens movem a l'esquerra (disminuir en 1)\n",
    "                else:\n",
    "                    j0 -= 1\n",
    "            \n",
    "                # Afegim el moviment (punt al que ens hem mogut) al recorregut\n",
    "                path.append((i0, j0))\n",
    "            \n",
    "        # Copiem el recorregut que hem construït a best_moves\n",
    "        best_moves = path.copy()\n",
    "    \n",
    "        # Retornem el número de taulers que s'han expandit i la seqüència de moviments que ha de realitzar la roomba per visitar tots els punts\n",
    "        return expanded, best_moves\n",
    "  \n",
    "    # Cas en que len(best_moves) sigui igual a 0, només passarà quan hi hagi un sol punt a netejar, ja que inferior bound == superior bound\n",
    "    else:\n",
    "        moves = [roomba.origin]\n",
    "        \n",
    "        for point in roomba.points:\n",
    "            moves.append(point)\n",
    "            \n",
    "        moves.append(roomba.origin)\n",
    "    \n",
    "        path = [moves[0]]\n",
    "        \n",
    "        for i in range(len(moves)-1):\n",
    "            # Separem les coordenades i,j del punt actual i del següent\n",
    "            i0, j0 = moves[i]\n",
    "            i1, j1 = moves[i+1]\n",
    "        \n",
    "            # Mentre els punts no estiguin a la mateixa fila, iterem fins que ho estiguin i per cada iteració afegim el moviment al recorregut\n",
    "            while i0 != i1:\n",
    "                # Si el punt actual es troba en una fila superior al següent punt, haurem de baixar de fila (augmentar en 1)\n",
    "                if i0 < i1:\n",
    "                    i0 += 1\n",
    "            \n",
    "                # En canvi si el punt actual es troba en una fila inferior al següent punt, haurem de pujar (disminuir en 1)\n",
    "                else:\n",
    "                    i0 -= 1\n",
    "            \n",
    "                # Afegim el moviment (punt al que ens hem mogut) al recorregut\n",
    "                path.append((i0, j0))\n",
    "            \n",
    "            # Mateix procediment per les columnes\n",
    "            while j0 != j1:\n",
    "                # Si el punt actual es troba en una columna més a l'esquerra que el següent punt, ens movem a la dreta (augmentar en 1)\n",
    "                if j0 < j1:\n",
    "                    j0 += 1\n",
    "                \n",
    "                # En canvi si el punt actual es troba en una columna més a la dreta que el següent punt, ens movem a l'esquerra (disminuir en 1)\n",
    "                else:\n",
    "                    j0 -= 1\n",
    "            \n",
    "                # Afegim el moviment (punt al que ens hem mogut) al recorregut\n",
    "                path.append((i0, j0))\n",
    "            \n",
    "        best_moves = path.copy()\n",
    "       \n",
    "        return expanded, best_moves\n",
    "        \n",
    "def backtracking_roomba(roomba, path, best_moves, dist, sup_bound, inf_bound, exp):\n",
    "    # Si la superior bound és igual a la inferior bound, ens trobem a la millor situació possible (solution found de l'esquema de backtracking)\n",
    "    # Per com he implementat les cotes inferiors i superiors, només és possible que siguin iguals si només existeix un punt a netejar. Podria també\n",
    "    # fer aquesta comprovació abans de cridar a la funció de backtracking\n",
    "    if inf_bound == sup_bound:\n",
    "        return exp, best_moves, sup_bound\n",
    "    \n",
    "    # Exp ens compta el número de taulers que s'han expandit (igual al nombre de crides a la present funció)\n",
    "    exp += 1\n",
    "    \n",
    "    # Guardem la posició actual\n",
    "    pos = path[-1]\n",
    "    \n",
    "    # Si el camí actual ja té tots els punts que ha de visitar/netejar la roomba:\n",
    "    if len(path) == len(roomba.points) + 1:\n",
    "        # Mateix cas que solution found, però ara l'únic camí que queda és fins a l'origen ja que la roomba ha de tornar a la base\n",
    "        # Per calcular aquesta distància fem ús de la distància de manhattan\n",
    "        distance_point = manhattan_dist(pos, roomba.origin)\n",
    "        \n",
    "        # Si la cota superior és més gran que la distància recorreguda fins ara més la distància fins l'origen, l'actualitzem\n",
    "        if sup_bound >= (dist + distance_point):\n",
    "            sup_bound = dist + distance_point\n",
    "            \n",
    "            # Afegim al path tornar a l'origen\n",
    "            path += [roomba.origin]\n",
    "            \n",
    "            # Fem una còpia del camí que tenim\n",
    "            best_moves = path.copy()\n",
    "    \n",
    "    # Si encara hi ha punts a visitar/netejar\n",
    "    else:\n",
    "        # Iterem per tots els punts que ha de visitar la roomba, sempre que el punt no s'hagi visitat anteriorment (for each possible moves de l'esquema)\n",
    "        for point in roomba.points:\n",
    "            if point not in path:\n",
    "                # Calculem la distància de manhattan des de la nostra posició fins al punt\n",
    "                distance_point = manhattan_dist(pos, point)\n",
    "                \n",
    "                # Si la distància calculada més la distància que portem és estrictament inferior a la superior bound (si és igual ja la tenim de superior_bound),\n",
    "                # cridem recursivament a la funció\n",
    "                # if this move is valid (de l'esquema)\n",
    "                if sup_bound > (dist + distance_point):\n",
    "                    exp, best_moves, sup_bound = backtracking_roomba(roomba, path + [point], best_moves, dist + distance_point, sup_bound, inf_bound, exp)\n",
    "                    \n",
    "    # Si hem arribat aquí retornem les variables necessàries que puguin canviar de valor en les crides recursives\n",
    "    return exp, best_moves, sup_bound"
   ]
  },
  {
   "cell_type": "code",
   "execution_count": 16,
   "metadata": {},
   "outputs": [
    {
     "data": {
      "image/png": "[encoded data removed]",
      "text/plain": [
       "<Figure size 288x288 with 1 Axes>"
      ]
     },
     "metadata": {
      "needs_background": "light"
     },
     "output_type": "display_data"
    }
   ],
   "source": [
    "H, W = 3,3\n",
    "r = Roomba(H, W)\n",
    "r.set_origin((0,0))\n",
    "r.set_points([(0,2),(1,1),(2,0)])\n",
    "\n",
    "expanded, path = solve_roomba(r)\n",
    "r.show_board(path=path)"
   ]
  },
  {
   "cell_type": "markdown",
   "metadata": {},
   "source": [
    "<div class=\"alert alert-info\">\n",
    "<center>\n",
    "  <h1>Entrega</h1>\n",
    "</center>\n",
    "\n",
    "<p>\n",
    "L'entrega es farà a través del campus virtual. Teniu fins el dia <b>30 de Desembre a les 23:55</b> per entregar la pràctica. A la tasca que obrirem al campus, <b>només heu d'entregar aquest fitxer .ipynb</b>. El notebook ha de tenir com a nom:\n",
    "</p>\n",
    "<p>\n",
    "    <code>L5_Grup_Cognom_Nom.ipynb</code>\n",
    "</p>\n",
    "    <br>\n",
    "On 'Grup' és una sola lletra que identifica el grup on esteu matriculats. Els grups disponibles són: A, B, C, F.\n",
    "\n",
    "És imprescindible que respecteu el format de les funcions i que el vostre codi estigui degudament comentat.<br><br>\n",
    "</div>"
   ]
  }
 ],
 "metadata": {
  "kernelspec": {
   "display_name": "Python 3 (ipykernel)",
   "language": "python",
   "name": "python3"
  },
  "language_info": {
   "codemirror_mode": {
    "name": "ipython",
    "version": 3
   },
   "file_extension": ".py",
   "mimetype": "text/x-python",
   "name": "python",
   "nbconvert_exporter": "python",
   "pygments_lexer": "ipython3",
   "version": "3.9.8+"
  }
 },
 "nbformat": 4,
 "nbformat_minor": 4
}
