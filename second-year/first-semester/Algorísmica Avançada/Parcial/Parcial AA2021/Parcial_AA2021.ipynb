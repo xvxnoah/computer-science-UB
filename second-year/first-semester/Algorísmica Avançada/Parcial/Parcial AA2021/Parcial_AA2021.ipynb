{
 "cells": [
  {
   "cell_type": "markdown",
   "metadata": {},
   "source": [
    "<div style=\"padding:30px; color: white; background-color: #0071CD\">\n",
    "<center>\n",
    "<img src=\"img/logoub.jpeg\"></img>\n",
    "<center>\n",
    "<h1>Algorísmica Avançada 2021</h1>\n",
    "<h2>Examen parcial</h2>\n",
    "</center>\n",
    "</div>"
   ]
  },
  {
   "cell_type": "code",
   "execution_count": 1,
   "metadata": {},
   "outputs": [
    {
     "data": {
      "text/html": [
       "<style>.container { width:100% !important; }</style>"
      ],
      "text/plain": [
       "<IPython.core.display.HTML object>"
      ]
     },
     "metadata": {},
     "output_type": "display_data"
    }
   ],
   "source": [
    "import sys\n",
    "sys.path.insert(0, '../../')\n",
    "\n",
    "from IPython.core.display import display, HTML\n",
    "display(HTML(\"<style>.container { width:100% !important; }</style>\"))"
   ]
  },
  {
   "cell_type": "markdown",
   "metadata": {},
   "source": [
    "<div class=\"alert alert-success\">\n",
    "    <h1>Problema 1: MineSweeper (Busca-mines) (4.5 punts)</h1>\n",
    "    <p>\n",
    "       El joc del busca-mines és tradicionalment conegut i està implementat a la majoria d'ordinadors. Donada una graella, l'objectiu és identificar on es troben totes les bombes sense clicar-les ja que, en cas de fer-ho, aquestes exploten. Per anar avançant en la identificació d'on estan situades les bombes, el jugador pot clicar a una casella i aquesta queda descoberta. Es poden donar tres casos diferents:\n",
    "        <ol>\n",
    "            <li> Si la casella conté una bomba, es retornarà el text \"<b>BOOOOM!</b>\"\n",
    "            <li> Si la casella conté un número, aquesta serà l'única casella descoberta.\n",
    "            <li> Si la casella està buida, es descobriran totes les caselles buides o amb números accessibles des d'aquesta. Podeu veure un exemple en la imatge següent:<br>\n",
    "            <img src=\"img/minesweeper.png\">\n",
    "        </ol>\n",
    "    </p>    \n",
    "    Us donem una llibreria que implementa el joc del busca-mines i vosaltres heu d'implementar la funció <b>click</b>.<br><br> \n",
    "    <b>Informació important</b>\n",
    "    <ol>\n",
    "    <li> L'única variable que heu de fer servir de la classe <b>MineSweeper</b> és <b>grid</b> (matriu). Podeu accedir als elements d'aquesta matriu fent <code>grid[i][j]</code>.\n",
    "    <li> Cada element de la matriu és un element de la classe <b>Cell</b>. Variables importants d'aquesta classe:\n",
    "        <ol>\n",
    "            <li>La variable <b>mine</b> és un booleà que indica si hi ha una bomba, o no, en aquesta cel·la.\n",
    "            <li>La variable <b>num</b> retorna el número de la cel·la. Si aquest número és 0, es tracta d'una cel·la sense número. Les bombes tenen com a número -1.\n",
    "            <li>La variable <b>discovered</b> controla si aquesta cel·la ha estat descoberta. A l'inici totes les cel·les tenen la variable a False.\n",
    "            <li>La variable <b>neighbours</b> retorna totes les cel·les veïnes d'una cel·la (connexió a 8). \n",
    "        </ol>\n",
    "    </ol>\n",
    "    \n",
    "</div>"
   ]
  },
  {
   "cell_type": "code",
   "execution_count": 2,
   "metadata": {},
   "outputs": [],
   "source": [
    "from minesweeper import *"
   ]
  },
  {
   "cell_type": "code",
   "execution_count": 3,
   "metadata": {},
   "outputs": [
    {
     "name": "stdout",
     "output_type": "stream",
     "text": [
      "---------------------\n",
      "|   | \u001b[1m\u001b[34m1\u001b[0m | \u001b[1m\u001b[31mB\u001b[0m | \u001b[1m\u001b[34m1\u001b[0m |   | \n",
      "---------------------\n",
      "|   | \u001b[1m\u001b[34m1\u001b[0m | \u001b[1m\u001b[34m1\u001b[0m | \u001b[1m\u001b[34m2\u001b[0m | \u001b[1m\u001b[34m1\u001b[0m | \n",
      "---------------------\n",
      "|   |   |   | \u001b[1m\u001b[34m1\u001b[0m | \u001b[1m\u001b[31mB\u001b[0m | \n",
      "---------------------\n",
      "| \u001b[1m\u001b[34m1\u001b[0m | \u001b[1m\u001b[34m1\u001b[0m |   | \u001b[1m\u001b[34m1\u001b[0m | \u001b[1m\u001b[34m1\u001b[0m | \n",
      "---------------------\n",
      "| \u001b[1m\u001b[31mB\u001b[0m | \u001b[1m\u001b[34m1\u001b[0m |   |   |   | \n",
      "---------------------\n",
      "Objecte cell de la posició 0,2: Cell(0, 2, mine=True, num=-1)\n",
      "\n",
      "Hi ha una mina a la posició 0,2?\n",
      "True\n"
     ]
    }
   ],
   "source": [
    "# Exemple\n",
    "# Creem un objecte MineSweeper: (vertical, horitzontal, numero de bombes)\n",
    "m = MineSweeper(5,5,3)\n",
    "\n",
    "# Visualitzem la graella \n",
    "m.display_grid(show_hidden=True)\n",
    "\n",
    "# Obtenim l'objecte de la classe Cell de la posició 0,2\n",
    "print(\"Objecte cell de la posició 0,2:\",m.grid[0][2])\n",
    "\n",
    "# Mirem si hi ha una bomba a la posició 0,2\n",
    "print(\"\\nHi ha una mina a la posició 0,2?\")\n",
    "print(m.grid[0][2].mine)"
   ]
  },
  {
   "cell_type": "code",
   "execution_count": 4,
   "metadata": {},
   "outputs": [
    {
     "name": "stdout",
     "output_type": "stream",
     "text": [
      "Graella Inicial\n",
      "---------------------\n",
      "| X | X | X | X | X | \n",
      "---------------------\n",
      "| X | X | X | X | X | \n",
      "---------------------\n",
      "| X | X | X | X | X | \n",
      "---------------------\n",
      "| X | X | X | X | X | \n",
      "---------------------\n",
      "| X | X | X | X | X | \n",
      "---------------------\n",
      "\n",
      "Graella després de descobrir la posició 0,1\n",
      "---------------------\n",
      "| X | \u001b[1m\u001b[34m1\u001b[0m | X | X | X | \n",
      "---------------------\n",
      "| X | X | X | X | X | \n",
      "---------------------\n",
      "| X | X | X | X | X | \n",
      "---------------------\n",
      "| X | X | X | X | X | \n",
      "---------------------\n",
      "| X | X | X | X | X | \n",
      "---------------------\n"
     ]
    }
   ],
   "source": [
    "m = MineSweeper(5,5,3)\n",
    "\n",
    "print(\"Graella Inicial\")\n",
    "# Visualitzem la graella \n",
    "m.display_grid(show_hidden=False)\n",
    "\n",
    "#descobrim la cel·la 0,1\n",
    "m.grid[0][1].discovered = True\n",
    "\n",
    "print(\"\\nGraella després de descobrir la posició 0,1\")\n",
    "# vsiaulizem la graella \n",
    "m.display_grid(show_hidden=False)"
   ]
  },
  {
   "cell_type": "code",
   "execution_count": 5,
   "metadata": {
    "scrolled": false
   },
   "outputs": [],
   "source": [
    "def click(m, x, y):    \n",
    "    \"\"\"\n",
    "    Implementa la funció de descoberta. Es fa click a la posició (x,y) de la matriu.\n",
    "    Heu de modificar la variable 'discovered'=True de les cel·les que quedin descobertes.\n",
    "    Retorneu BOOOOM! en el cas que es faci click sobre una bomba.\n",
    "    \n",
    "    Params\n",
    "    ======   \n",
    "    :m: Un objecte de la classe MineSweeper.\n",
    "    :x: Coordenada vertical del click. \n",
    "    :y: Coordenada horitzontal del click. \n",
    "    \"\"\"\n",
    "    \n",
    "    return 'BOOOOM!'"
   ]
  },
  {
   "cell_type": "markdown",
   "metadata": {},
   "source": [
    "Comproveu la vostra solució. L'execució de la cel·la següent ha de mostrar les tres imatges (en vertical) que teniu a continuació."
   ]
  },
  {
   "cell_type": "markdown",
   "metadata": {},
   "source": [
    "```python\n",
    "# Comprovació 1: Totes les cel·les que no són bombes queden descobertes.\n",
    "m = MineSweeper(5,5,3) # Inicialitzem una graella de 5x5 amb 3 bombes\n",
    "m.display_grid(show_hidden=False)\n",
    "\n",
    "click(m,2,2) # Fem clic a la posició (2,2), centre de la graella\n",
    "click(m,0,4) # Fem clic a la posició (0,4), cantonada superior dreta\n",
    "\n",
    "m.display_grid(show_hidden=False)\n",
    "m.display_grid(show_hidden=True)\n",
    "```\n",
    "<img src=\"img/minesweeper_result.png\">"
   ]
  },
  {
   "cell_type": "code",
   "execution_count": 6,
   "metadata": {},
   "outputs": [
    {
     "name": "stdout",
     "output_type": "stream",
     "text": [
      "---------------------\n",
      "| X | X | X | X | X | \n",
      "---------------------\n",
      "| X | X | X | X | X | \n",
      "---------------------\n",
      "| X | X | X | X | X | \n",
      "---------------------\n",
      "| X | X | X | X | X | \n",
      "---------------------\n",
      "| X | X | X | X | X | \n",
      "---------------------\n",
      "---------------------\n",
      "| X | X | X | X | X | \n",
      "---------------------\n",
      "| X | X | X | X | X | \n",
      "---------------------\n",
      "| X | X | X | X | X | \n",
      "---------------------\n",
      "| X | X | X | X | X | \n",
      "---------------------\n",
      "| X | X | X | X | X | \n",
      "---------------------\n",
      "---------------------\n",
      "|   | \u001b[1m\u001b[34m1\u001b[0m | \u001b[1m\u001b[31mB\u001b[0m | \u001b[1m\u001b[34m1\u001b[0m |   | \n",
      "---------------------\n",
      "|   | \u001b[1m\u001b[34m1\u001b[0m | \u001b[1m\u001b[34m1\u001b[0m | \u001b[1m\u001b[34m2\u001b[0m | \u001b[1m\u001b[34m1\u001b[0m | \n",
      "---------------------\n",
      "|   |   |   | \u001b[1m\u001b[34m1\u001b[0m | \u001b[1m\u001b[31mB\u001b[0m | \n",
      "---------------------\n",
      "| \u001b[1m\u001b[34m1\u001b[0m | \u001b[1m\u001b[34m1\u001b[0m |   | \u001b[1m\u001b[34m1\u001b[0m | \u001b[1m\u001b[34m1\u001b[0m | \n",
      "---------------------\n",
      "| \u001b[1m\u001b[31mB\u001b[0m | \u001b[1m\u001b[34m1\u001b[0m |   |   |   | \n",
      "---------------------\n"
     ]
    }
   ],
   "source": [
    "# Comprovació 1: Totes les cel·les que no són bombes queden descobertes.\n",
    "m = MineSweeper(5,5,3) # Inicialitzem una graella de 5x5 amb 3 bombes\n",
    "m.display_grid(show_hidden=False)\n",
    "\n",
    "click(m,2,2) # Fem clic a la posició (2,2)\n",
    "click(m,0,4) # Fem clic a la posició (0,4)\n",
    "\n",
    "m.display_grid(show_hidden=False)\n",
    "m.display_grid(show_hidden=True)"
   ]
  },
  {
   "cell_type": "code",
   "execution_count": 7,
   "metadata": {},
   "outputs": [
    {
     "name": "stdout",
     "output_type": "stream",
     "text": [
      "-------------\n",
      "| X | X | X | \n",
      "-------------\n",
      "| X | X | X | \n",
      "-------------\n",
      "| X | X | X | \n",
      "-------------\n",
      "BOOOOM!\n",
      "-------------\n",
      "| \u001b[1m\u001b[31mB\u001b[0m | \u001b[1m\u001b[31mB\u001b[0m | \u001b[1m\u001b[34m1\u001b[0m | \n",
      "-------------\n",
      "| \u001b[1m\u001b[31mB\u001b[0m | \u001b[1m\u001b[34m3\u001b[0m | \u001b[1m\u001b[34m1\u001b[0m | \n",
      "-------------\n",
      "| \u001b[1m\u001b[34m1\u001b[0m | \u001b[1m\u001b[34m1\u001b[0m |   | \n",
      "-------------\n"
     ]
    }
   ],
   "source": [
    "# Comprovació 2: Es clica una bomba\n",
    "m = MineSweeper(3,3,3)\n",
    "m.display_grid(show_hidden=False)  # Fem print de la graella inicial on tot són caràcters X\n",
    "print(click(m,1,0))                # Fem clic a la posició (1,0) -> Ha de fer print 'BOOOOM!'\n",
    "m.display_grid(show_hidden=True)   # Mirem on éren les bombes"
   ]
  },
  {
   "cell_type": "markdown",
   "metadata": {},
   "source": [
    "<div class=\"alert alert-success\">\n",
    "    <h1>Problema 2: Repostatge de vehicles (No òptim) (4.5 punts)</h1>\n",
    "    <p>\n",
    "       Hem de fer un trajecte des d’un punt d’origen $S$ fins a un destí $D$. El dipòsit del cotxe permet recórrer un màxim de $K$ quilòmetres. A més, al llarg del trajecte, trobem un conjunt de benzineres $B_1,\\dots,B_n$. Cada benziera té la benzina a un preu diferent que podem notar com $p_{B_i},\\ \\ \\forall i=1,\\dots,n$. Implementeu un algorisme greedy (no cal que sigui l'òptim) per anar des de $S$ fins a $D$.<br><br>\n",
    "       Implementeu un algorisme que, donat $K$, una llista de distàncies entre l'orígen i les benzineres on l'últim element és el destí, i una llista  de preus de benzina, retorni el nombre de cops que haurem de parar a repostar i el preu tota del trajecte.<br><br>\n",
    "       Per exemple, si tenim un cotxe que pot fer 10km sense repostar, el destí està a 30km i tenim benzineres als punts: 8, 14, 16, 18, 23, 27 amb preus 0.9, 1.2, 0.6, 1.2, 2.1, 1.7 respectivament, podem executar:<br><br><center><b>refill_prices(10, [8, 14, 16, 18, 23, 27, 30], [0.9, 1.2, 0.6, 1.2, 2.1, 1.7])</center><br> i ens haurà de retornar quatre valors:\n",
    "        <ul>\n",
    "            <li> <b>True/False</b> depenent de si existeix, o no, una solució al problema.\n",
    "            <li> <b>Nombre de benzineres on hem de fer parada.</b> En cas que no existeixi solució, retornarà el nombre de benzineres que hem visitat abans d'exhaurir el carburant.\n",
    "            <li> <b>Llista dels quilòmetres que formen part de la solució.</b>\n",
    "            <li> <b>Cost total del trajecte. </b>\n",
    "        </ul></b><b></b>\n",
    "    </p>    \n",
    "    Podeu usar el següent algorisme Greedy:<br>\n",
    "    <ol>\n",
    "        <li> Ens movem fins la benzinera de més baix cost a la que podem arribar.\n",
    "        <li> Omplim el dipòsit al màxim. \n",
    "        <li> Busquem la propera benzinera a la que podem arribar amb el cost més baix.\n",
    "        <li> Tornem al punt 1.\n",
    "    </ol>\n",
    "    \n",
    "</div>"
   ]
  },
  {
   "cell_type": "markdown",
   "metadata": {},
   "source": [
    "<div class=\"alert alert-info\">\n",
    "    En el fitxer adjunt <code>refill.py</code> trobareu la solució del problema que vam resoldre a classe (sense costos).\n",
    "</div>"
   ]
  },
  {
   "cell_type": "code",
   "execution_count": 8,
   "metadata": {},
   "outputs": [],
   "source": [
    "def refill_prices(K, stations, prices):\n",
    "    \"\"\"\n",
    "    Repostatge no oòptim de vehicles amb costos.\n",
    "    \n",
    "    Params\n",
    "    ======\n",
    "    :K: dipòsit del vehicle\n",
    "    :stations: llista de benzineres. L'últim element és el destí.\n",
    "    :prices: Llista de preus. Té un element menys que 'stations'.\n",
    "    \n",
    "    Returns\n",
    "    =======\n",
    "    :exists: Booleà True/False depenent de si existeix o no solució al problema.\n",
    "    :num_stops: Número de benzineres a les que hem de parar.\n",
    "    :stops: Quilòmetres de les benzineres on fem parada.\n",
    "    :value: Cost del trajecte.\n",
    "    \n",
    "    \"\"\"\n",
    "    \n",
    "    exists = False    \n",
    "    stops = []\n",
    "    num_stops = len(stops)\n",
    "    value = 0.0\n",
    "    \n",
    "    return exists, num_stops, stops, value"
   ]
  },
  {
   "cell_type": "code",
   "execution_count": 9,
   "metadata": {},
   "outputs": [
    {
     "name": "stdout",
     "output_type": "stream",
     "text": [
      "(False, 0, [], 0.0)\n"
     ]
    }
   ],
   "source": [
    "print(refill_prices(10, [8, 14, 16, 18, 23, 27, 30], [0.9, 1.2, 0.6, 1.2, 2.1, 1.7]))\n",
    "# Retorna (True, 4, [8, 16, 18, 27], 29.7)"
   ]
  },
  {
   "cell_type": "code",
   "execution_count": 10,
   "metadata": {},
   "outputs": [
    {
     "name": "stdout",
     "output_type": "stream",
     "text": [
      "(False, 0, [], 0.0)\n"
     ]
    }
   ],
   "source": [
    "print(refill_prices(200, [50, 100, 200, 250, 300, 350, 400, 450, 550, 600], [0.70, 0.90, 0.80, 0.85, 0.75, 1.00, 0.95, 0.80, 1.10]))\n",
    "# Retorna (True, 4, [50, 200, 300, 450], 350.0) en el cas no òptim .\n",
    "#         (True, 4, [50, 200, 300, 450], 305.0) en el cas òptim."
   ]
  },
  {
   "cell_type": "markdown",
   "metadata": {},
   "source": [
    "<div class=\"alert alert-success\">\n",
    "    <h1>Problema 3: Repostatge de vehicles (Òptim) (1 punt)</h1>\n",
    "    <p>\n",
    "       Modifiqueu l'algorisme anterior per a que la solució sigui òptima. <br>\n",
    "       En aquest cas, només haureu d'omplir el dipòsit amb els litres necessaris per a arribar a la benzinera de menor cost. <br>\n",
    "       Comproveu que la solució que obteniu amb aquest algorisme és inferior a la solució del Problema 2.\n",
    "    </p>    \n",
    "   \n",
    "</div>"
   ]
  },
  {
   "cell_type": "code",
   "execution_count": 11,
   "metadata": {},
   "outputs": [],
   "source": [
    "def refill_prices_optim(K, stations, prices):\n",
    "    \"\"\"\n",
    "    Repostatge òptim de vehicles amb costos. \n",
    "    \n",
    "    Params\n",
    "    ======\n",
    "    :K: dipòsit del vehicle\n",
    "    :stations: llista de benzineres. L'últim element és el destí.\n",
    "    :prices: Llista de preus. Té un element menys que 'stations'.\n",
    "    \n",
    "    Returns\n",
    "    =======\n",
    "    :exists: Booleà True/False depenent de si existeix o no solució al problema.\n",
    "    :num_stops: Número de benzineres a les que hem de parar.\n",
    "    :stops: Quilòmetres de les benzineres on fem parada.\n",
    "    :value: Cost del trajecte.\n",
    "    \n",
    "    \"\"\"\n",
    "    \n",
    "    exists = False    \n",
    "    stops = []\n",
    "    num_stops = len(stops)\n",
    "    value = 0.0\n",
    "    \n",
    "    return exists, num_stops, stops, value\n",
    "        "
   ]
  },
  {
   "cell_type": "code",
   "execution_count": 12,
   "metadata": {},
   "outputs": [
    {
     "name": "stdout",
     "output_type": "stream",
     "text": [
      "(False, 0, [], 0.0)\n"
     ]
    }
   ],
   "source": [
    "print(refill_prices_optim(10, [8, 14, 16, 18, 23, 27, 30], [0.9, 1.2, 0.6, 1.2, 2.1, 1.7]))\n",
    "# Retorna (True, 4, [8, 16, 18, 27], 20.7)"
   ]
  },
  {
   "cell_type": "code",
   "execution_count": 13,
   "metadata": {},
   "outputs": [
    {
     "name": "stdout",
     "output_type": "stream",
     "text": [
      "(False, 0, [], 0.0)\n"
     ]
    }
   ],
   "source": [
    "print(refill_prices_optim(200, [50, 100, 200, 250, 300, 350, 400, 450, 550, 600], [0.70, 0.90, 0.80, 0.85, 0.75, 1.00, 0.95, 0.80, 1.10]))\n",
    "# Retorna (True, 4, [50, 200, 300, 450], 305.0)"
   ]
  }
 ],
 "metadata": {
  "kernelspec": {
   "display_name": "Python 3",
   "language": "python",
   "name": "python3"
  },
  "language_info": {
   "codemirror_mode": {
    "name": "ipython",
    "version": 3
   },
   "file_extension": ".py",
   "mimetype": "text/x-python",
   "name": "python",
   "nbconvert_exporter": "python",
   "pygments_lexer": "ipython3",
   "version": "3.7.6"
  }
 },
 "nbformat": 4,
 "nbformat_minor": 4
}
