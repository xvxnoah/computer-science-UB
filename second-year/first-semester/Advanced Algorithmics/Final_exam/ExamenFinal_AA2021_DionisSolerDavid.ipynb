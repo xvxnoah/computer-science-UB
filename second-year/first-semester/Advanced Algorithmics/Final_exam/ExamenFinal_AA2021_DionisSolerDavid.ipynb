{
 "cells": [
  {
   "cell_type": "markdown",
   "metadata": {},
   "source": [
    "<div style=\"padding:30px; color: white; background-color: #0071CD\">\n",
    "<center>\n",
    "<img src=\"img/logoub.jpeg\"></img>\n",
    "<center>\n",
    "<h1>Algorísmica Avançada 2021</h1>\n",
    "<h2>Examen Final - Avaluació única</h2>\n",
    "</center>\n",
    "</div>"
   ]
  },
  {
   "cell_type": "code",
   "execution_count": 21,
   "metadata": {},
   "outputs": [
    {
     "data": {
      "text/html": [
       "<style>.container { width:100% !important; }</style>"
      ],
      "text/plain": [
       "<IPython.core.display.HTML object>"
      ]
     },
     "metadata": {},
     "output_type": "display_data"
    }
   ],
   "source": [
    "from IPython.core.display import display, HTML\n",
    "display(HTML(\"<style>.container { width:100% !important; }</style>\"))"
   ]
  },
  {
   "cell_type": "code",
   "execution_count": 22,
   "metadata": {},
   "outputs": [],
   "source": [
    "import networkx as nx\n",
    "import numpy as np\n",
    "from matplotlib import pyplot as plt"
   ]
  },
  {
   "cell_type": "markdown",
   "metadata": {},
   "source": [
    "### Funcions auxiliars"
   ]
  },
  {
   "cell_type": "code",
   "execution_count": 23,
   "metadata": {},
   "outputs": [],
   "source": [
    "def plot_network(G):\n",
    "    \"\"\"\n",
    "    Donat un graf, mostra una figura amb el contigut de l'atribut 'lang'\n",
    "    \"\"\"\n",
    "    plt.figure()\n",
    "    plt.margins(0.2)\n",
    "\n",
    "    pos = nx.kamada_kawai_layout(G)\n",
    "    nx.draw(G, pos=pos, with_labels=True)\n",
    "\n",
    "    pos_attrs = {}\n",
    "    for node, coords in pos.items():\n",
    "        pos_attrs[node] = (coords[0], coords[1] + 0.2)\n",
    "\n",
    "    node_attrs = nx.get_node_attributes(G, 'lang')\n",
    "    custom_node_attrs = {}\n",
    "    for node, attr in node_attrs.items():\n",
    "        custom_node_attrs[node] = attr\n",
    "\n",
    "    nx.draw_networkx_labels(G, pos_attrs, labels=custom_node_attrs)\n",
    "    plt.show()\n",
    "    \n",
    "    \n",
    "def is_prime(n):\n",
    "    \"\"\"\n",
    "    Donat un enter 'n' retorna True si és un nombre primer o False si no ho és\n",
    "    \"\"\"\n",
    "    if n < 2: \n",
    "         return False;\n",
    "    if n % 2 == 0:             \n",
    "         return n == 2\n",
    "    k = 3\n",
    "    while k*k <= n:\n",
    "        if n % k == 0:\n",
    "            return False\n",
    "        k += 2\n",
    "    return True"
   ]
  },
  {
   "cell_type": "markdown",
   "metadata": {},
   "source": [
    "<div class=\"alert alert-success\">\n",
    "    <h1>Problema 1: Languages</h1>\n",
    "    <p>Sigui $G$ un graf que representa un territori format per diferents pobles. Dos pobles (nodes) de $G$ estan connectats si són pobles veïns.<br>En aquest territori, cada poble parla una única llengua. Direm que dos pobles formen part de la mateixa comunitat si parlen la mateixa llengua i són pobles veïns.<br><br>Implementeu una funció <b>language</b> que, donat un graf, ens retorni el nombre de comunitats que parlen el mateix llenguatge. Podeu veure els exemples a continuació.<br>\n",
    "   \n",
    "</div>"
   ]
  },
  {
   "cell_type": "code",
   "execution_count": 24,
   "metadata": {},
   "outputs": [],
   "source": [
    "def language(G):\n",
    "    communities = {}\n",
    "    visited = set()\n",
    "    \n",
    "    for node in G.nodes():\n",
    "        if node not in visited:\n",
    "            node_lang = G.nodes()[node]['lang']\n",
    "            if node_lang not in communities:\n",
    "                communities[node_lang] = 1\n",
    "            else:\n",
    "                communities[node_lang] +=1\n",
    "            visited.add(node)\n",
    "            for nei in G.neighbors(node):\n",
    "                nei_lang = G.nodes()[nei]['lang']\n",
    "                if nei not in visited and nei_lang == node_lang:\n",
    "                    visited.add(nei)\n",
    "    \n",
    "    return communities"
   ]
  },
  {
   "cell_type": "code",
   "execution_count": 25,
   "metadata": {},
   "outputs": [
    {
     "data": {
      "image/png": "[encoded data removed]",
      "text/plain": [
       "<Figure size 432x288 with 1 Axes>"
      ]
     },
     "metadata": {},
     "output_type": "display_data"
    },
    {
     "data": {
      "text/plain": [
       "{'Navi': 1, 'Klingon': 1}"
      ]
     },
     "execution_count": 25,
     "metadata": {},
     "output_type": "execute_result"
    }
   ],
   "source": [
    "G = nx.Graph([(1,2), (2,3), (3,1)])\n",
    "\n",
    "G.nodes[1]['lang'] = 'Navi'\n",
    "G.nodes[2]['lang'] = 'Klingon'\n",
    "G.nodes[3]['lang'] = 'Klingon'\n",
    "\n",
    "plot_network(G)\n",
    "language(G)\n",
    "# Ha de retornar {'Navi': 1, 'Klingon': 1} ja que els dos territoris on es parla Klingon formen part de la mateixa comunitat"
   ]
  },
  {
   "cell_type": "code",
   "execution_count": 26,
   "metadata": {},
   "outputs": [
    {
     "data": {
      "image/png": "[encoded data removed]",
      "text/plain": [
       "<Figure size 432x288 with 1 Axes>"
      ]
     },
     "metadata": {},
     "output_type": "display_data"
    },
    {
     "data": {
      "text/plain": [
       "{'Navi': 1, 'Klingon': 2}"
      ]
     },
     "execution_count": 26,
     "metadata": {},
     "output_type": "execute_result"
    }
   ],
   "source": [
    "G = nx.Graph([(1,2), (2,3), (3,1), (1,4)])\n",
    "\n",
    "G.nodes[1]['lang'] = 'Navi'\n",
    "G.nodes[2]['lang'] = 'Klingon'\n",
    "G.nodes[3]['lang'] = 'Klingon'\n",
    "G.nodes[4]['lang'] = 'Klingon'\n",
    "\n",
    "plot_network(G)\n",
    "language(G) \n",
    "# Ha de retornar {'Navi': 1, 'Klingon': 2} ja que la comunitat on es parla navi separa dues comunitats on es parla Klingon"
   ]
  },
  {
   "cell_type": "code",
   "execution_count": 27,
   "metadata": {},
   "outputs": [
    {
     "data": {
      "image/png": "[encoded data removed]",
      "text/plain": [
       "<Figure size 432x288 with 1 Axes>"
      ]
     },
     "metadata": {},
     "output_type": "display_data"
    },
    {
     "data": {
      "text/plain": [
       "{'Navi': 2, 'Klingon': 2, 'Parsel': 2}"
      ]
     },
     "execution_count": 27,
     "metadata": {},
     "output_type": "execute_result"
    }
   ],
   "source": [
    "G = nx.Graph([(1,2), (2,3), (3,4), (3,1), (4,5), (5,2), (4,1), (3,5), (3,6), (5,6), (7,8)])\n",
    "G.nodes[1]['lang'] = 'Navi'\n",
    "G.nodes[2]['lang'] = 'Klingon'\n",
    "G.nodes[3]['lang'] = 'Parsel'\n",
    "G.nodes[4]['lang'] = 'Navi'\n",
    "G.nodes[5]['lang'] = 'Klingon'\n",
    "G.nodes[6]['lang'] = 'Navi'\n",
    "G.nodes[7]['lang'] = 'Parsel'\n",
    "G.nodes[8]['lang'] = 'Klingon'\n",
    "\n",
    "plot_network(G)\n",
    "language(G)\n",
    "# Ha de retornar {'Navi': 2, 'Klingon': 2, 'Parsel': 2}"
   ]
  },
  {
   "cell_type": "markdown",
   "metadata": {},
   "source": [
    "<div class=\"alert alert-success\">\n",
    "    <h1>Problema 2: Kangaroos</h1>\n",
    "    <p>Tenim uns cangurs que volem amagar. Cada cangur té una alçada representada per un nombre enter. <br>\n",
    "        Podem amagar un cangur dins de la bossa d'un altre cangur sempre que el cangur gran faci, com a mínim, <b>dos cops l'alçada del cangur més petit</b>. Per exemple podem amagar un cangur d'alçada $5$ dins d'un cangur amb alçada $10$, podem amagar un cangur d'alçada $2$ dins un cangur d'alçada $7$ però no podem amagar un cangur d'alçada $5$ dins un d'alçada $7$.<br>\n",
    "        <b>Cada cangur pot amagar, com a màxim, a un altre cangur.</b></p>\n",
    "    <br>\n",
    "    Implementeu una funció <b>kangaroo</b> que, seguint una estratègia <b>greedy</b>, retorni el mínim nombre de cangurs visibles després d'amagar tots els cangurs possibles. <br>\n",
    "    Expliqueu, al requadre següent, l'estratègia greedy que heu seguit a l'hora d'implementar la solució.\n",
    "</div>"
   ]
  },
  {
   "cell_type": "markdown",
   "metadata": {},
   "source": [
    "<div class=\"alert alert-warning\">\n",
    "    <b>Expliqueu aquí l'estratègia greedy que heu seguit:</b>\n",
    "    <p>Hem fet un algoritma d'avaricia començant del més gran al més petit. Aixi ens assegurem que la distancia entre els kangoors d'un conjunt es la menor (dintra de que te que ser el doble entre el gran i el petit). Si fos de menor a major aixo no passaria perque agafariem el següent gran mes petit pero no ens assegurariem que fessim els grups més optims<p>\n",
    "    <ol>\n",
    "        <li> Ordenem la llista de kangoors de major a menor</li>\n",
    "        <li> Mentres la llista de kangoors no sigui buida:\n",
    "            <ol>\n",
    "                <li>Agafem el primer element de llista i l'eliminem: pop(0)</li>\n",
    "                <li>Mirem quin es el següent mes gran que pot cabra i si el trobem l'eliminem de la llista també</li>\n",
    "                <li>Sumem 1 al total dels grups</li>\n",
    "            </ol>\n",
    "        </li>\n",
    "    </ol>\n",
    "</div>"
   ]
  },
  {
   "cell_type": "code",
   "execution_count": 28,
   "metadata": {},
   "outputs": [],
   "source": [
    "def kangaroo(lst):\n",
    "    \n",
    "    lst.sort(reverse=True)\n",
    "    num = 0\n",
    "        \n",
    "    while len(lst)>0:\n",
    "        kang = lst.pop(0)\n",
    "        for small_kang in lst:\n",
    "            if kang // small_kang >=2:\n",
    "                lst.remove(small_kang)\n",
    "                break\n",
    "        num +=1\n",
    "    \n",
    "    \n",
    "    return num"
   ]
  },
  {
   "cell_type": "code",
   "execution_count": 29,
   "metadata": {},
   "outputs": [
    {
     "data": {
      "text/plain": [
       "5"
      ]
     },
     "execution_count": 29,
     "metadata": {},
     "output_type": "execute_result"
    }
   ],
   "source": [
    "lst = [2,5,7,6,9,8,4,2]\n",
    "\n",
    "kangaroo(lst) # Retorna 5\n"
   ]
  },
  {
   "cell_type": "code",
   "execution_count": 30,
   "metadata": {},
   "outputs": [
    {
     "data": {
      "text/plain": [
       "11"
      ]
     },
     "execution_count": 30,
     "metadata": {},
     "output_type": "execute_result"
    }
   ],
   "source": [
    "lst = [9,24,1,3,17,26,27,4,21,15,17,1,19,22,6,27,4,4,10,16]\n",
    "kangaroo(lst) # Retorna 11"
   ]
  },
  {
   "cell_type": "markdown",
   "metadata": {},
   "source": [
    "<div class=\"alert alert-success\">\n",
    "    <h1>Problema 3: Gold mine</h1>\n",
    "    <p>Considereu una mina vertical en forma de graella $M$ de mida $H \\times W$ on $H$ és l'alçada (profunditat) de la mina i $W$ és l'amplada. <br>\n",
    "        Cada posició de la graella $M(i,j)$ té un valor enter indicant quant d'or hi ha en aquella casella.<br>\n",
    "        Tenim una exploradora que vol recollir el <b>màxim d'or possible anant des de dalt de tot de la mina fins a la màxima profunditat possible</b>. <br>Pot començar en el punt que més li convingui i, al baixar al següent nivell, pot decidir fer-ho en una de les tres cel·les adjacents (o dos en el cas que es trobi en un marge).</p>    \n",
    "     <img src=\"img/goldmine.png\" width='50%'/><br>\n",
    "    Implementeu una funció anomenada <b>gold_mine</b> que, usant <b>programació dinàmica</b>, retorni el valor màxim d'or que pot recollir l'exploradora.\n",
    "</div>"
   ]
  },
  {
   "cell_type": "code",
   "execution_count": 31,
   "metadata": {},
   "outputs": [],
   "source": [
    "def superior_neighbors(M, y, x):\n",
    "    # retorna les posicions dels veis superiors possibles\n",
    "    neighs = []\n",
    "    if x!=0:\n",
    "        neighs.append((y+1, x-1))\n",
    "        \n",
    "    neighs.append((y+1, x))\n",
    "    \n",
    "    if x<len(M[0])-1:\n",
    "        neighs.append((y+1, x+1))\n",
    "    return neighs\n",
    "\n",
    "def maximal_paths(M, memo):\n",
    "    for y in range(len(M)-1):\n",
    "        for x in range(len(M[0])):\n",
    "            actual = memo[y][x]\n",
    "            for nei in superior_neighbors(M,y,x):\n",
    "                memo_nei_value = memo[nei[0]][nei[1]]\n",
    "                before_nei_value = M[nei[0]][nei[1]]\n",
    "                new_nei_value = actual + before_nei_value\n",
    "                \n",
    "                memo[nei[0]][nei[1]] = max(memo_nei_value, new_nei_value)\n",
    "    return memo\n",
    "\n",
    "def find_max_path(memo):\n",
    "    return max(memo[-1])\n",
    "\n",
    "def gold_mine(M):\n",
    "    \"\"\"\n",
    "    Retorna el valor màxim que pot obtenir l'exploradora.\n",
    "    \n",
    "    Params\n",
    "    ======\n",
    "    :M: Una matriu de nombre enters de tipus numpy.array\n",
    "    \n",
    "    Returns\n",
    "    =======\n",
    "    :gold: El valor total de l'or que pot recol·lectar.\n",
    "    \"\"\"\n",
    "    \n",
    "    # Mateix algoritma que minimal_paths del seam-carving pero fen max\n",
    "    \n",
    "    memo = M.copy()\n",
    "    \n",
    "    min_paths = maximal_paths(M, memo)\n",
    "    \n",
    "    gold = find_max_path(min_paths)\n",
    "    return gold"
   ]
  },
  {
   "cell_type": "code",
   "execution_count": 32,
   "metadata": {},
   "outputs": [
    {
     "data": {
      "text/plain": [
       "11"
      ]
     },
     "execution_count": 32,
     "metadata": {},
     "output_type": "execute_result"
    }
   ],
   "source": [
    "M = np.array([[1,2,3],\n",
    "              [4,5,6],\n",
    "              [3,2,0]])\n",
    "gold_mine(M) # Retorna 11"
   ]
  },
  {
   "cell_type": "code",
   "execution_count": 33,
   "metadata": {},
   "outputs": [
    {
     "data": {
      "text/plain": [
       "694"
      ]
     },
     "execution_count": 33,
     "metadata": {},
     "output_type": "execute_result"
    }
   ],
   "source": [
    "M = np.array([[53, 69, 49, 11],\n",
    "              [ 4, 16, 51, 34],\n",
    "              [64, 53, 41, 93],\n",
    "              [30, 87, 58, 36],\n",
    "              [38, 53, 10, 60],\n",
    "              [92, 91, 91, 42],\n",
    "              [89, 68, 55, 76],\n",
    "              [45, 73, 97, 41],\n",
    "              [15, 29, 48, 25],\n",
    "              [53, 51, 40, 31]])\n",
    "gold_mine(M) # Retorna 694"
   ]
  },
  {
   "cell_type": "markdown",
   "metadata": {},
   "source": [
    "<div class=\"alert alert-success\">\n",
    "    <h1>Problema 4: Prime Ring </h1>\n",
    "    <p>Disposem de nombres enters de $1,\\dots,N$ que volem col·locar en un cercle de forma que, per a qualsevols dos nombres adjacents, la seva suma sigui un nombre primer. <br>        \n",
    "        Implementeu una funció anomenada <b>prime_ring</b> que, donat un valor enter $N$ retorni, si existeix, una configuració del cercle usant <b>backtracking</b>.<br>\n",
    "        Observeu una de les solucions per a $N=8$ a continuació. Com podeu veure, totes les parelles de veïns tenen com a suma un nombre primer: <br><br>$$1+2,\\quad 2+3,\\quad 3+8,\\quad 8+5,\\quad 5+6,\\quad 6+7,\\quad 7+4,\\quad 4+1$$ són nombres primers.\n",
    "        <img src=\"img/prime_ring.png\" width='20%'/>\n",
    "        Hi ha moltes solucions possibles, podeu retornar-ne una qualsevol. </p><br>\n",
    "        Us donem implementada la funció <b>is_prime</b> que comprova si un nombre és primer o no.    \n",
    "</div>"
   ]
  },
  {
   "cell_type": "code",
   "execution_count": 34,
   "metadata": {},
   "outputs": [
    {
     "name": "stdout",
     "output_type": "stream",
     "text": [
      "False\n",
      "True\n"
     ]
    }
   ],
   "source": [
    "# Exemple d'us\n",
    "print(is_prime(1+8))\n",
    "print(is_prime(3+10))"
   ]
  },
  {
   "cell_type": "code",
   "execution_count": 35,
   "metadata": {},
   "outputs": [],
   "source": [
    "def prime_ring(N):\n",
    "    board = []\n",
    "    \n",
    "    board = prime_ring_backtracking(N, board)\n",
    "    \n",
    "    return board\n",
    "\n",
    "def prime_ring_backtracking(N, board):\n",
    "    if len(board) == N:\n",
    "        return is_prime(board[0]+board[-1])\n",
    "    for num in range(1, N+1):\n",
    "        if len(board)==0:\n",
    "            board.append(num)\n",
    "        elif num not in board:\n",
    "            before_item = board[-1]\n",
    "            if is_prime(before_item + num):\n",
    "                board.append(num)\n",
    "                if prime_ring_backtracking(N, board):\n",
    "                    return board\n",
    "                else:\n",
    "                    board.pop()\n",
    "                \n",
    "    return False\n",
    "             \n",
    "        "
   ]
  },
  {
   "cell_type": "code",
   "execution_count": 36,
   "metadata": {},
   "outputs": [
    {
     "data": {
      "text/plain": [
       "False"
      ]
     },
     "execution_count": 36,
     "metadata": {},
     "output_type": "execute_result"
    }
   ],
   "source": [
    "prime_ring(5) # Retorna False"
   ]
  },
  {
   "cell_type": "code",
   "execution_count": 37,
   "metadata": {
    "scrolled": true
   },
   "outputs": [
    {
     "data": {
      "text/plain": [
       "[1, 2, 3, 8, 5, 6, 7, 4]"
      ]
     },
     "execution_count": 37,
     "metadata": {},
     "output_type": "execute_result"
    }
   ],
   "source": [
    "prime_ring(8) # Una de les solucions possibles és [1, 2, 3, 8, 5, 6, 7, 4]"
   ]
  },
  {
   "cell_type": "code",
   "execution_count": 38,
   "metadata": {},
   "outputs": [
    {
     "data": {
      "text/plain": [
       "[1, 2, 3, 4, 7, 6, 5, 12, 11, 8, 9, 10]"
      ]
     },
     "execution_count": 38,
     "metadata": {},
     "output_type": "execute_result"
    }
   ],
   "source": [
    "prime_ring(12) # Una de les solucions possibles és [1, 2, 3, 4, 7, 6, 5, 12, 11, 8, 9, 10]"
   ]
  },
  {
   "cell_type": "code",
   "execution_count": 39,
   "metadata": {},
   "outputs": [
    {
     "name": "stdout",
     "output_type": "stream",
     "text": [
      "N=2 : [1, 2]\n",
      "N=3 : False\n",
      "N=4 : [1, 2, 3, 4]\n",
      "N=5 : False\n",
      "N=6 : [1, 4, 3, 2, 5, 6]\n",
      "N=7 : False\n",
      "N=8 : [1, 2, 3, 8, 5, 6, 7, 4]\n",
      "N=9 : False\n",
      "N=10: [1, 2, 3, 4, 7, 6, 5, 8, 9, 10]\n",
      "N=11: False\n",
      "N=12: [1, 2, 3, 4, 7, 6, 5, 12, 11, 8, 9, 10]\n"
     ]
    }
   ],
   "source": [
    "for i in range(2, 13):\n",
    "    print(f\"N={i:<2}:\",prime_ring(i))"
   ]
  },
  {
   "cell_type": "code",
   "execution_count": null,
   "metadata": {},
   "outputs": [],
   "source": []
  }
 ],
 "metadata": {
  "kernelspec": {
   "display_name": "Python 3",
   "language": "python",
   "name": "python3"
  },
  "language_info": {
   "codemirror_mode": {
    "name": "ipython",
    "version": 3
   },
   "file_extension": ".py",
   "mimetype": "text/x-python",
   "name": "python",
   "nbconvert_exporter": "python",
   "pygments_lexer": "ipython3",
   "version": "3.8.8"
  }
 },
 "nbformat": 4,
 "nbformat_minor": 4
}
