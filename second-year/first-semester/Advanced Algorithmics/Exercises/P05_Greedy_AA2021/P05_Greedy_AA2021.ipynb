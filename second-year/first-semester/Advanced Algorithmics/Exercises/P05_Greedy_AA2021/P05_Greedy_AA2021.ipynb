{
 "cells": [
  {
   "cell_type": "markdown",
   "metadata": {},
   "source": [
    "<div style=\"padding:30px; color: white; background-color: #0071CD\">\n",
    "<center>\n",
    "<img src=\"img/logoub.jpeg\"></img>\n",
    "<center>\n",
    "<h1>Algorísmica Avançada 2021</h1>\n",
    "<h2>Problemes 5 - Greedy</h2>\n",
    "</center>\n",
    "</div>"
   ]
  },
  {
   "cell_type": "code",
   "execution_count": 51,
   "metadata": {},
   "outputs": [
    {
     "data": {
      "text/html": [
       "<style>.container { width:100% !important; }</style>"
      ],
      "text/plain": [
       "<IPython.core.display.HTML object>"
      ]
     },
     "metadata": {},
     "output_type": "display_data"
    }
   ],
   "source": [
    "from IPython.core.display import display, HTML\n",
    "display(HTML(\"<style>.container { width:100% !important; }</style>\"))"
   ]
  },
  {
   "cell_type": "markdown",
   "metadata": {},
   "source": [
    "<div class=\"alert alert-success\">\n",
    "    <h1>Problema 1: Retornar el canvi</h1>\n",
    "    <p>\n",
    "        Escriu un algorisme que, donat un preu $X$ i un pagament $P$, en euros, ens retorni el canvi. És a dir, quants bitllets i quantes monedes de cada valor cal retornar.<br><br>\n",
    "        Exemple:<br>\n",
    "        A l'executar <b>change(30.75, 40)</b> ha de retornar la llista [(5,1),(2,2),(0.20,1),(0.05,1)] ja que hem de retornar 1 bitllet de 5 euros, 2 monedes de 2 euros, 1 moneda de 20 cèntims i 1 moneda de 5 cèntims.\n",
    "    </p>    \n",
    "    \n",
    "</div>"
   ]
  },
  {
   "cell_type": "code",
   "execution_count": 52,
   "metadata": {},
   "outputs": [],
   "source": [
    "from collections import defaultdict\n",
    "\n",
    "def change(X, P, coins = [.01, .02, .05, .1, .2, .5, 1, 2, 5, 10, 20, 50, 100, 200, 500]):\n",
    "    \"\"\"\n",
    "    Soluciona el problema de retornar el canvi.\n",
    "    \n",
    "    Params\n",
    "    ======\n",
    "    :X: Preu \n",
    "    :P: Pagament. Ha de ser superior o igual a X.\n",
    "    :coins: Llista de monedes o bitllets de la moneda que estiguem considerant. Per defecte, euros.\n",
    "    \n",
    "    Returns\n",
    "    =======\n",
    "    :lst: Llista de monedes o bitllets i la quantitat de cada un d'ells amb el format següent. lst = [(value, quantity)] on:\n",
    "        :value: és un valor existent dins la llista 'coins'\n",
    "        :quantity: és el nombre de monedes/bitllets amb valor 'value'.\n",
    "    \n",
    "    \"\"\"\n",
    "    # Calculem el canvi:\n",
    "    canvi = P - X\n",
    "    \n",
    "    # Aquí guardarem la solució del problema com a diccionari. La clau serà la moneda.\n",
    "    # La funció int retorna 0\n",
    "    solution = defaultdict(int)\n",
    "    \n",
    "    # Agafem la moneda més gran, en aquest cas el billet de 500\n",
    "    n = len(coins) - 1\n",
    "    \n",
    "    # Comprovem si hem acabat, és a dir, si el valor que ens queda és inferior a la moneda més petita\n",
    "    while canvi >= coins[0]:\n",
    "        # Comprovem si podem pagar amb aquesta moneda\n",
    "        while coins[n] > canvi:\n",
    "            # Disminuïm la moneda\n",
    "            n -= 1\n",
    "            \n",
    "        # Afegim la solució\n",
    "        solution[coins[n]] += 1\n",
    "            \n",
    "        # Modifiquem el valor que ens falta per retornar\n",
    "        canvi = round(canvi - coins[n], 2) # el 2 és el nombre de decimals a arrodonir\n",
    "        \n",
    "    lst = [(k, solution[k]) for k in solution] #key\n",
    "    #lst = [(k,v) for k,v in solution.items] #key & value\n",
    "    #lst = solution.items() # ja ens dona la parella clau valor\n",
    "    return lst"
   ]
  },
  {
   "cell_type": "code",
   "execution_count": 46,
   "metadata": {},
   "outputs": [
    {
     "data": {
      "text/plain": [
       "[(5, 1), (2, 2), (0.2, 1), (0.05, 1)]"
      ]
     },
     "execution_count": 46,
     "metadata": {},
     "output_type": "execute_result"
    }
   ],
   "source": [
    "change(30.75, 40) # Retorna: [(5, 1), (2, 2), (0.2, 1), (0.05, 1)]"
   ]
  },
  {
   "cell_type": "markdown",
   "metadata": {},
   "source": [
    "<div class=\"alert alert-success\">\n",
    "    <h1>Problema 2: Repostatge de vehicles</h1>\n",
    "    <p>\n",
    "       Hem de fer un trajecte des d’un punt d’origen $S$ i un destí $D$. El dipòsit del cotxe permet recórrer un màxim de $K$ quilòmetres. Es demana trobar el nombre mínim de parades per a fer provisió de carburant durant el trajecte.<br><br>\n",
    "       Implementeu un algorisme que, donat $K$ i una llista de distàncies entre l'orígen i les benzineres, on l'últim element de la llista és el destí, retorni el nombre de cops que haurem de parar a repostar.<br><br>\n",
    "       Per exemple, si tenim un cotxe que pot fer 10km sense repostar, el destí està a 30km i tenim benzineres als punts: 8, 14, 16, 18, 23, 27 podem executar:<br><br><center><b>refill(10, [8, 14, 16, 18, 23, 27, 30])</center> i ens haurà de retornar tres valors: (True, 3, [8, 18, 27]).\n",
    "        <ul>\n",
    "            <li> <b>True/False</b> depenent de si existeix, o no, una solució al problema.\n",
    "            <li> <b>Nombre de benzineres on hem de fer parada.</b> En cas que no existeixi solució, retornarà el nombre de benzineres que hem visitat abans d'exhaurir el carburant.\n",
    "            <li> <b>Llista dels quilòmetres que formen part de la solució.</b>\n",
    "        </ul></b><b></b>\n",
    "    </p>    \n",
    "    \n",
    "</div>"
   ]
  },
  {
   "cell_type": "code",
   "execution_count": 49,
   "metadata": {},
   "outputs": [],
   "source": [
    "def refill(K, stations):   \n",
    "    \"\"\"\n",
    "    Soluciona el problema de repostatge de vehicles.\n",
    "    \n",
    "    Params\n",
    "    ======\n",
    "    :K: quilòmetres que pot fer el cotxe amb el dipòsit ple.\n",
    "    :stations: Punt quilomètric on es troba cada benzinera. L'últim element d'aquesta llista és el destí del trajecte.\n",
    "    \n",
    "    Returns\n",
    "    =======\n",
    "    :exists_solution: Si existeix o no solució al problema (True/False)\n",
    "    :num_stops: Nombre de parades que hem de fer.\n",
    "    :stops: Parades on ens aturarem (punt quilomètric).    \n",
    "    \"\"\"\n",
    "    car = 0 # Posició actual del cotxe\n",
    "    petrol = K # Carburant restant\n",
    "    total_distance = 0 # Distància que hem recorregut fins al moment\n",
    "    stops = [] # Benzineres on anire parant\n",
    "    \n",
    "    # Comprovem si encara no hem arribat al final\n",
    "    while (car < len(stations)):\n",
    "        # Modifiquem la benxima que ens queda i comprovem si podem arribar\n",
    "        petrol -= (stations[car] - total_distance)\n",
    "        \n",
    "        # Si és negativa vol dir que no he pogut arribar\n",
    "        if petrol < 0:\n",
    "            return False, len(stops), stops\n",
    "        \n",
    "        # Actualitzem la distància recorreguda\n",
    "        total_distance = stations[car]\n",
    "        \n",
    "        # Comprovem si encara estem en una benzinera (el proper valor de la llista no és l'última benzinera)\n",
    "        # Si no podem arribar a la propera benzinera amb la benzina que ens queda, repostem\n",
    "        if (car < len(stations)-1) and petrol < (stations[car+1] - stations[car]):\n",
    "            petrol = K\n",
    "            stops.append(stations[car])\n",
    "        \n",
    "        # Movem el cotxe a la benzinera següent\n",
    "        car += 1\n",
    "    \n",
    "        \n",
    "    return True, len(stops), stops"
   ]
  },
  {
   "cell_type": "code",
   "execution_count": 50,
   "metadata": {},
   "outputs": [
    {
     "name": "stdout",
     "output_type": "stream",
     "text": [
      "(True, 3, [8, 18, 27])\n",
      "(True, 2, [14, 27])\n",
      "(False, 3, [18, 36, 55])\n"
     ]
    }
   ],
   "source": [
    "print(refill(10, [8, 14, 16, 18, 23, 27, 30]))    # Retorna (True, 3, [8, 18, 27])\n",
    "print(refill(15, [8, 14, 16, 18, 23, 27, 30]))    # Retorna (True, 2, [14, 27])\n",
    "print(refill(20, [16, 18, 36, 55, 78, 80, 120]))  # Retorna (False, 3, [18, 36, 55])"
   ]
  },
  {
   "cell_type": "markdown",
   "metadata": {},
   "source": [
    "<div class=\"alert alert-success\">\n",
    "    <h1>Problema 3: Problema de la motxilla</h1>\n",
    "    <img src='https://upload.wikimedia.org/wikipedia/commons/f/fd/Knapsack.svg' width='20%'>\n",
    "    <p>\n",
    "       Disposem d'una motxilla que té una capacitat màxima de $K$ quilos. Tenim una llista de $n$ elements $E$, on cada element està representat per dos valors: el seu pes, $w$, i el seu valor $v$. És a dir:\n",
    "        $$E = \\{(w_e, v_e),\\ \\ \\ \\forall e=1,\\dots,n\\}$$\n",
    "       Volem maximitzar el valor de la motxilla, omplint-la amb els elements de $E$. Concretament, volem trobar:\n",
    "        $$\\max_A\\{A\\subset E\\ |\\ \\sum_{a\\in A}w_a<=K \\}$$\n",
    "    </p>    \n",
    "    Implementa un algorisme greedy que trobi una solució al problema. <b>Aquesta solució és òptima?</b>\n",
    "</div>"
   ]
  },
  {
   "cell_type": "markdown",
   "metadata": {},
   "source": [
    "<div class=\"alert alert-success\">\n",
    "<b>Ampliació:</b> Modifiqueu la solució per a solucionar dos variacions diferents del problema de la motxilla:\n",
    "    <ol>\n",
    "        <li> <b>Variant 1:</b> Considereu que tenim 'infinits' objectes iguals per a qualsevol objecte de la llista E, és a dir, que podeu anar posant un mateix objecte múltiples vegades. <b>L'algorisme és òptim en aquest cas?</b>\n",
    "        <li> <b>Variant 2:</b> Considereu que podem posar la fracció que vulguem de cada objecte, és a dir, que podem partir un objecte en trossos (disminuint, és clar, el seu pes i el seu valor). <b>L'algorisme és òptim en aquest cas?</b>\n",
    "    </ol>\n",
    "    </div>"
   ]
  },
  {
   "cell_type": "code",
   "execution_count": 6,
   "metadata": {},
   "outputs": [],
   "source": [
    "def knapsack(K, E):\n",
    "    \"\"\"\n",
    "    Implementació del problema de la motxilla.\n",
    "    \n",
    "    Params\n",
    "    ======\n",
    "    :K: Pes màxim que la motxilla pot carregar\n",
    "    :E: Elements disponibles representats com una llista de tuples E=[(w,v)] on:\n",
    "        :w: Pes de l'objecte.\n",
    "        :v: Valor de l'objecte.\n",
    "        \n",
    "    Returns\n",
    "    =======    \n",
    "    :selected_elems: La llista dels elements escollits.\n",
    "    :total_weight: El pes total dels objectes que hem afegit.\n",
    "    :total_value: El valor total dels objectes que hem afegit.\n",
    "    \"\"\"\n",
    "    # Base Case\n",
    "    if n == 0 or W == 0 :\n",
    "        return 0\n",
    "  \n",
    "    # If weight of the nth item is more than Knapsack of capacity\n",
    "    # W, then this item cannot be included in the optimal solution\n",
    "    if (wt[n-1] > W):\n",
    "        return knapSack(W, wt, val, n-1)\n",
    "  \n",
    "    # return the maximum of two cases:\n",
    "    # (1) nth item included\n",
    "    # (2) not included\n",
    "    else:\n",
    "        return max(val[n-1] + knapSack(W-wt[n-1], wt, val, n-1),\n",
    "                   knapSack(W, wt, val, n-1))\n",
    "    return [], 0, 0"
   ]
  },
  {
   "cell_type": "code",
   "execution_count": 7,
   "metadata": {},
   "outputs": [
    {
     "name": "stdout",
     "output_type": "stream",
     "text": [
      "([], 0, 0)\n",
      "([], 0, 0)\n",
      "([], 0, 0)\n"
     ]
    }
   ],
   "source": [
    "print(knapsack(15, [(12,4), (1,2), (4,10), (1,1), (2,2)]))\n",
    "print(knapsack(25, [(24,24), (10,18), (10,18), (7,10)]))\n",
    "print(knapsack(5,  [(3,2),(2,3),(5,6)]))"
   ]
  },
  {
   "cell_type": "markdown",
   "metadata": {},
   "source": [
    "<div class=\"alert alert-success\">\n",
    "    <h1>Problema 4: Nombre màxim de $N$ dígits tals que sumin $S$</h1>\n",
    "    <p>\n",
    "        Escriu una funció que retorni el nombre més gran possible de $N$ dígits tals que, sumats, tinguin com a valor $S$. En el cas que aquest nombre no existeixi, ha de retornar -1.<br><br>\n",
    "        Exemple:<br>\n",
    "        A l'executar <b>largest_num(2, 9)</b> ha de retornar 90 ja que és el valor de 2 dígits més gran tals que sumen 9.<br>\n",
    "        A l'executar <b>largest_num(2, 20)</b> ha de retornar -1 ja que no existeix. \n",
    "    </p>     \n",
    "    \n",
    "</div>"
   ]
  },
  {
   "cell_type": "code",
   "execution_count": 8,
   "metadata": {},
   "outputs": [],
   "source": [
    "def largest_num(N, S):\n",
    "    return 0"
   ]
  },
  {
   "cell_type": "code",
   "execution_count": 9,
   "metadata": {},
   "outputs": [
    {
     "name": "stdout",
     "output_type": "stream",
     "text": [
      "0\n",
      "0\n",
      "0\n"
     ]
    }
   ],
   "source": [
    "print(str(largest_num(2,9)))   # Retorna 90\n",
    "print(str(largest_num(3,20)))  # Retorna 992\n",
    "print(str(largest_num(5,560))) # Retorna -1"
   ]
  },
  {
   "cell_type": "markdown",
   "metadata": {},
   "source": [
    "<div class=\"alert alert-success\">\n",
    "    <h1>Problema 5: Cercles inscrits en rectangles</h1>\n",
    "    <p>\n",
    "        Considera dues seqüències de nombres: $A_1, A_2,\\dots,A_N$ i $B_1, B_2,\\dots,B_N$. Fent parelles d'aquests elements $(A_i, B_j)$, podem crear rectangles de base $A_i$ i alçada $B_j$ on $0\\leq i,j\\leq N$.\n",
    "        Escriu una funció que retorni quin és el valor màxim de $S$, definit com la suma de tots els diàmetres dels cercles que es poden inscriure dins dels rectangles.<br><br>\n",
    "    <b>Apunt:</b> Un cercle està incrit en un rectangle si està totalment contingut a dins i el seu diàmetre és igual a un dels dos costats del rectangle. <br>Per exemple:\n",
    "    </p> \n",
    "        <img src='img/inscribed.png' width=20%></img>\n",
    "        \n",
    "   \n",
    "    \n",
    "</div>"
   ]
  },
  {
   "cell_type": "code",
   "execution_count": 10,
   "metadata": {},
   "outputs": [
    {
     "data": {
      "text/plain": [
       "0"
      ]
     },
     "execution_count": 10,
     "metadata": {},
     "output_type": "execute_result"
    }
   ],
   "source": [
    "def inscribed_circles(A, B):\n",
    "    return 0\n",
    "            \n",
    "inscribed_circles([8,8,10,12], [15,20,3,5]) # Retorna 30"
   ]
  }
 ],
 "metadata": {
  "kernelspec": {
   "display_name": "Python 3",
   "language": "python",
   "name": "python3"
  },
  "language_info": {
   "codemirror_mode": {
    "name": "ipython",
    "version": 3
   },
   "file_extension": ".py",
   "mimetype": "text/x-python",
   "name": "python",
   "nbconvert_exporter": "python",
   "pygments_lexer": "ipython3",
   "version": "3.8.8"
  }
 },
 "nbformat": 4,
 "nbformat_minor": 4
}
