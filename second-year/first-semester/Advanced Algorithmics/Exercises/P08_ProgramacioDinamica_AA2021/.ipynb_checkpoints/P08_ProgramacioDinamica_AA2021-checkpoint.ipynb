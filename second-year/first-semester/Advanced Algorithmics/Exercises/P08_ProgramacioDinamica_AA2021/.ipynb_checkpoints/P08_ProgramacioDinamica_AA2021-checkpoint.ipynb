{
 "cells": [
  {
   "cell_type": "markdown",
   "metadata": {},
   "source": [
    "<div style=\"padding:30px; color: white; background-color: #0071CD\">\n",
    "<center>\n",
    "<img src=\"img/logoub.jpeg\"></img>\n",
    "<center>\n",
    "<h1>Algorísmica Avançada 2021</h1>\n",
    "<h2>Problemes 8 - Programació Dinàmica</h2>\n",
    "</center>\n",
    "</div>"
   ]
  },
  {
   "cell_type": "code",
   "execution_count": 1,
   "metadata": {},
   "outputs": [
    {
     "data": {
      "text/html": [
       "<style>.container { width:100% !important; }</style>"
      ],
      "text/plain": [
       "<IPython.core.display.HTML object>"
      ]
     },
     "metadata": {},
     "output_type": "display_data"
    }
   ],
   "source": [
    "from IPython.core.display import display, HTML\n",
    "display(HTML(\"<style>.container { width:100% !important; }</style>\"))"
   ]
  },
  {
   "cell_type": "code",
   "execution_count": 2,
   "metadata": {},
   "outputs": [],
   "source": [
    "import networkx as nx\n",
    "from matplotlib import pyplot as plt\n",
    "import numpy as np"
   ]
  },
  {
   "cell_type": "markdown",
   "metadata": {},
   "source": [
    "<div class=\"alert alert-success\">\n",
    "    <h1>Problema 1: Problema de la motxilla</h1>\n",
    "    <p>\n",
    "        Implementeu la funció <b>knapsack</b>. Donat un nombre enter positiu, $W$, que defineix la capacitat (en Kg) màxima de la motxilla, una llista d'enters, $weights$, que definex el pes dels objectes i una llista d'enters, $values$, que indica el valor dels objectes, retorneu el valor màxim que podem ficar dins la motxilla. <br>\n",
    "    <p>\n",
    "    <p><b>Quina és la complexitat de l'algorisme?</b></p>\n",
    "    \n",
    "</div>"
   ]
  },
  {
   "cell_type": "code",
   "execution_count": 3,
   "metadata": {},
   "outputs": [],
   "source": [
    "def knapsack(W, weights, values, n):\n",
    "    # Inicialitzem la taula de programació dinàmica.\n",
    "    # Cada cel·la (i,w) ens retornarà el valor màxim que\n",
    "    # podem obtenir considerant els 'i' primers objectes\n",
    "    # tals que el seu pes total és inferior o igual a w.\n",
    "    K = [[0 for x in range(W+1)]for x in range (n+1)]\n",
    "    \n",
    "    # La variable i ens controla els diferents objectes que tenim.\n",
    "    # L'usem per accedir a la llista de 'values'\n",
    "    for i in range(n+1):\n",
    "        \n",
    "        # La variable w ens controla el pes total que estem considerant fins \n",
    "        # al moment\n",
    "        for w in range(W+1):\n",
    "            \n",
    "            # Si no tenim cap objecte o si el pes màxim que estem considerant\n",
    "            # és 0, no podem posar cap objecte.\n",
    "            if(i==0) or (w==0):\n",
    "                K[i][w] = 0 # També podríem posar un 'continue' doncs ja ho hem\n",
    "                            # inicialitzat tot a zero.\n",
    "            \n",
    "            # En el cas en que l'objecte a considerar estigui dins el pes permès,\n",
    "            # mirem si el podem afegir (si maximitza el valor)\n",
    "            elif weights[i-1] <= w:\n",
    "                K[i][w] = max(values[i-1] + K[i-1][w-weights[i-1]], K[i-1][w])\n",
    "            \n",
    "            # En cas que l'objecte no estigui dins el pes permès, no modifiquem el\n",
    "            # valor\n",
    "            else:\n",
    "                K[i][w] = K[i-1][w]\n",
    "    \n",
    "    # El cas que ens interessa \n",
    "    value = K[n][W]\n",
    "    \n",
    "    # Print\n",
    "    for line in K:\n",
    "        print(line)\n",
    "    # end print\n",
    "    \n",
    "    # Llista on guardarem els elements que inserirem a la motxilla\n",
    "    backtrack_items = []\n",
    "    \n",
    "    # Mida de la motxilla\n",
    "    max_cap = W\n",
    "    \n",
    "    # Backtracking per veure quins elements hem seleccionat\n",
    "    for i in range(len(weights), 0, -1):\n",
    "        if K[i][max_cap] != K[i-1][max_cap]:\n",
    "            backtrack_items.append(i)\n",
    "            pos_item = i-1\n",
    "            max_cap -= weights[pos_item]\n",
    "        \n",
    "    print(backtrack_items)\n",
    "    return value"
   ]
  },
  {
   "cell_type": "code",
   "execution_count": 4,
   "metadata": {},
   "outputs": [
    {
     "name": "stdout",
     "output_type": "stream",
     "text": [
      "[0, 0, 0, 0, 0]\n",
      "[0, 6, 6, 6, 6]\n",
      "[0, 6, 10, 16, 16]\n",
      "[0, 6, 10, 16, 18]\n",
      "[3, 1]\n",
      "18\n"
     ]
    }
   ],
   "source": [
    "W = 4\n",
    "weights = [1, 2, 3]\n",
    "values = [6, 10, 12]\n",
    "n = len(values)\n",
    "print(knapsack(W, weights, values, n))"
   ]
  },
  {
   "cell_type": "code",
   "execution_count": 5,
   "metadata": {},
   "outputs": [
    {
     "name": "stdout",
     "output_type": "stream",
     "text": [
      "[0, 0, 0, 0, 0, 0, 0, 0, 0, 0, 0, 0, 0, 0, 0, 0, 0, 0, 0, 0, 0, 0, 0, 0, 0, 0, 0, 0, 0, 0, 0, 0, 0, 0, 0, 0, 0, 0, 0, 0, 0]\n",
      "[0, 0, 0, 0, 0, 0, 0, 0, 0, 0, 60, 60, 60, 60, 60, 60, 60, 60, 60, 60, 60, 60, 60, 60, 60, 60, 60, 60, 60, 60, 60, 60, 60, 60, 60, 60, 60, 60, 60, 60, 60]\n",
      "[0, 0, 0, 0, 0, 0, 0, 0, 0, 0, 60, 60, 60, 60, 60, 60, 60, 60, 60, 60, 100, 100, 100, 100, 100, 100, 100, 100, 100, 100, 160, 160, 160, 160, 160, 160, 160, 160, 160, 160, 160]\n",
      "[0, 0, 0, 0, 0, 0, 0, 0, 0, 0, 60, 60, 60, 60, 60, 60, 60, 60, 60, 60, 100, 100, 100, 100, 100, 100, 100, 100, 100, 100, 160, 160, 160, 160, 160, 160, 160, 160, 160, 160, 180]\n",
      "[3, 1]\n",
      "180\n"
     ]
    }
   ],
   "source": [
    "W = 40\n",
    "weights = [10, 20, 30]\n",
    "values = [60, 100, 120]\n",
    "n = len(values)\n",
    "print(knapsack(W, weights, values, n))"
   ]
  },
  {
   "cell_type": "markdown",
   "metadata": {},
   "source": [
    "<div class=\"alert alert-success\">\n",
    "    <h1>Problema 2: Travelling Salesman Problem</h1>\n",
    "    <p>\n",
    "        Implementeu la funció <b>travelling_salesman</b>. Seguiu una estratègia de programació dinàmica on aneu emmagatzemant càlculs realitzats prèviament.<br><br> \n",
    "        <b>Quina és la complexitat de l'algorisme?</b>\n",
    "    <p>\n",
    "        \n",
    "        \n",
    "    \n",
    "</div>"
   ]
  },
  {
   "cell_type": "code",
   "execution_count": 6,
   "metadata": {},
   "outputs": [],
   "source": [
    "from itertools import combinations\n",
    "from collections import defaultdict\n",
    "\n",
    "def travelling_salesman(G):\n",
    "    \"\"\"\n",
    "    Aquesta funció implementa la solució al TSP (Travelling Salesman Problem)\n",
    "    \n",
    "    Params\n",
    "    ======\n",
    "    :G: Un objecte de la classe nx.DiGraph\n",
    "    \n",
    "    Returns\n",
    "    =======\n",
    "    :value: El cost mínim de visitar tots els nodes\n",
    "    \"\"\"\n",
    "    # Construïm la matriu d'adjacència de G. Aquesta matriu té a cada parella de nodes connectats (i,j) el cost de l'aresta.\n",
    "    adjMatrix = nx.adjacency_matrix(G)\n",
    "    n = len(G.nodes())\n",
    "    \n",
    "    # Inicialitzem un diccionari de tipus defaultdict. En el cas d'accedir a una clau inexistent, li posarem el valor infinit.\n",
    "    memo = defaultdict(lambda: float('inf'))\n",
    "    \n",
    "    # Els nodes es diuen 0,1,...,n-1\n",
    "    # Inserim al diccionari:\n",
    "    # Clau: (Node, tupla).\n",
    "    # Valor: El cost inicial de viatjar des del node 0 al node x. El node 0 serà el nostre node inicial sempre.\n",
    "    for x in range(1, n):\n",
    "        memo[x , ()] = adjMatrix[0,x]\n",
    "        \n",
    "    \n",
    "    # Considerem diferents longituds de camins. Com que considerem el zero com a node inicial,\n",
    "    # estarem considerant camins de longitud size + 1.\n",
    "    for size in range(1, n):\n",
    "        \n",
    "        # El node a visitar a continuació pot ser qualsevol\n",
    "        for k in range(1,n): # iterate over the 1..N nodes as candiates to be visited\n",
    "            \n",
    "            # Considerem tots els ordres possibles de visitar 'size' nodes.\n",
    "            # Això consisteix en fer (n-1)! / (size!*(n-size-1)!) operacions.\n",
    "            # S seran els nodes que hem visitat abans de visitar k\n",
    "            for S in combinations(range(1,n),size): \n",
    "                \n",
    "                # Si el node k està en aquesta combinació, no ens interessa, ja que no el volem visitar dos cops.\n",
    "                if k in S: \n",
    "                    continue\n",
    "                    \n",
    "                # Per a cada node 'j' que conté S:\n",
    "                # - Mirem tots els nodes que conté S i que no són j (nodes ja visitats)\n",
    "                # - Actualitzem el millor cost. \n",
    "                # -- Pot ser que sigui un cost que ja havíem trobat venint d'una altra branca: memo[k,S]\n",
    "                # -- Pot ser que haguem trobat un nou millor cost: adjMatrix[j,k] + memo[j,tup]\n",
    "                for j in S:\n",
    "                    tup = tuple([ i for i in S if i!=j ])\n",
    "                    memo[k,S] = min(memo[k,S], adjMatrix[j,k] + memo[j,tup])\n",
    "    \n",
    "    \n",
    "    # Només ens falta tornar al node 0. Considerem els diferents camins que hi porten i escollim el mínim.\n",
    "    value = min([memo[k,tuple([ i for i in range(1,n) if i!=k])] + adjMatrix[k,0] for k in range(1,n)])\n",
    "            \n",
    "    return value"
   ]
  },
  {
   "cell_type": "code",
   "execution_count": 7,
   "metadata": {},
   "outputs": [
    {
     "data": {
      "image/png": "[encoded data removed]",
      "text/plain": [
       "<Figure size 576x504 with 1 Axes>"
      ]
     },
     "metadata": {},
     "output_type": "display_data"
    },
    {
     "data": {
      "text/plain": [
       "9"
      ]
     },
     "execution_count": 7,
     "metadata": {},
     "output_type": "execute_result"
    }
   ],
   "source": [
    "# Matriu d'adjacència del graf que volem crear\n",
    "A = np.array([[0,4,1,9],\n",
    "              [3,0,6,11],\n",
    "              [4,1,0,2],\n",
    "              [6,5,-4,0]])\n",
    "#A = np.array([[0,3,4,6],[4,0,1,5],[1,6,0,-4],[9,11,2,0]])\n",
    "#A = np.array([[0,10,15,20],[10,0,35,25],[15,35,0,30],[20,25,30,0]])\n",
    "G = nx.from_numpy_matrix(A,create_using=nx.DiGraph)\n",
    "\n",
    "fig = plt.figure(figsize=(8,7))\n",
    "\n",
    "# Si voleu executar grafs amb més de 4 nodes, podeu canviar el layout a spring_layout\n",
    "pos=nx.planar_layout(G) \n",
    "nx.draw(G, pos,with_labels=True,connectionstyle='arc3, rad = 0.08', ax=fig.gca())\n",
    "labels = nx.get_edge_attributes(G,'weight')\n",
    "nx.draw_networkx_edge_labels(G,pos,edge_labels=labels,label_pos=0.3)\n",
    "plt.show()\n",
    "\n",
    "res = travelling_salesman(G)\n",
    "res"
   ]
  },
  {
   "cell_type": "markdown",
   "metadata": {},
   "source": [
    "<div class=\"alert alert-success\">\n",
    "    <h1>Problema 3: Train Sorting</h1>\n",
    "    <p>\n",
    "        Implementeu la funció <b>train_sorting</b>. Seguiu una estratègia de programació dinàmica .\n",
    "    <p>  \n",
    "     <p>L'Èric és enginyer. Condueix trens però també organitza els vagons dins cada tren. Prefereix posar els vagons en ordre decreixent de pes, amb el vagó més pesat al davant del tren.\n",
    "     Malauradament, classificar els vagons de tren no és fàcil. Els vagons arriben a l'estació de tren en un ordre predeterminat i no es pot simplement agafar un vagó i col·locar-lo en un lloc qualsevol.\n",
    "     Quan arriba un vagó, l'Èric pot afegir-lo al principi o al final del seu tren, o negar-se a afegir-lo. El tren resultant ha de ser el més llarg possible, però els vagons que conté han d'estar ordenats per pes.</p>\n",
    "     <p>Tenint en compte els pesos dels vagons en l'ordre en què arriben, quin és el tren més llarg que pot fer l'Èric?</p>\n",
    "</div>"
   ]
  },
  {
   "cell_type": "code",
   "execution_count": 8,
   "metadata": {},
   "outputs": [],
   "source": [
    "def train_sorting(values):\n",
    "    \"\"\"\n",
    "    Calcula la longitd màxima que pot tenir el tren\n",
    "    \n",
    "    Params\n",
    "    ======\n",
    "    :values: Vector d'enters que indica el pes del vagons en l'ordre en que arriben a l'estació\n",
    "    \n",
    "    Returns\n",
    "    =======\n",
    "    :d: La longitud màxima del tren\n",
    "    \"\"\"\n",
    "    pass"
   ]
  },
  {
   "cell_type": "code",
   "execution_count": 9,
   "metadata": {},
   "outputs": [
    {
     "name": "stdout",
     "output_type": "stream",
     "text": [
      "None\n"
     ]
    }
   ],
   "source": [
    "values = [1,2,3,2,5,3]\n",
    "print(train_sorting(values))"
   ]
  },
  {
   "cell_type": "markdown",
   "metadata": {},
   "source": [
    " <div class=\"alert alert-success\">\n",
    "     <h1>Problema 4: Longest Palindromic Subsequence</h1>  \n",
    "     <p>Donada una seqüencia de text, volem trobar la longitud del palindom més llarg. Un palíndrom és una paraula que es llegeix igual d'esquerra a dreta que de dreta a esquerra.<br><br>\n",
    "     Exemple: BBABCBCAB <br>\n",
    "     Solució: longitud 7 ( BABCBAB )<br><br>\n",
    "    </p>\n",
    "    <p>Trobeu una solució bottom-up amb programació dinàmica</p>\n",
    "    <p><b>Pista:</b> si el primer i l'últim caràcter de la cadena és el mateix : $lps(str) = 2 + lps(str[1:n-2])$</p>\n",
    "    <p>en cas contrari: $lps(str) = max(lps(str[0:n-2],str[1:n-1])$</p>\n",
    " </div>"
   ]
  },
  {
   "cell_type": "code",
   "execution_count": 14,
   "metadata": {},
   "outputs": [],
   "source": [
    "# Aquí teniu la solució per força bruta\n",
    "def longest_palindrom_subsequence_brute_force(seq, i,j):\n",
    "    \"\"\"\n",
    "    Algorisme de força bruta (recursiu) \n",
    "    \n",
    "    Params\n",
    "    ======\n",
    "    :seq: Una cadena de text\n",
    "    :prices: Una llista amb els preus de cada longitud de segment.\n",
    "    \n",
    "    Returns\n",
    "    =======\n",
    "    :d: La longitud del palindrom més llarg\n",
    "    \"\"\"\n",
    "    # cas base 1, sequencia d'un únic caràcter\n",
    "    if i == j:\n",
    "        return 1\n",
    "    \n",
    "    # cas base 2, sequencia de dos caràcters\n",
    "    if (seq[i] == seq[j]) and (i + 1 == j):\n",
    "        return 2\n",
    "    \n",
    "    # Si els dos elements son iguals\n",
    "    if (seq[i] == seq[j]):\n",
    "        return longest_palindrom_subsequence_brute_force(seq, i + 1, j - 1) + 2\n",
    "    \n",
    "    # Si son diferents\n",
    "    return max(longest_palindrom_subsequence_brute_force(seq, i, j - 1),\n",
    "               longest_palindrom_subsequence_brute_force(seq, i + 1, j))\n"
   ]
  },
  {
   "cell_type": "code",
   "execution_count": 15,
   "metadata": {},
   "outputs": [
    {
     "name": "stdout",
     "output_type": "stream",
     "text": [
      "7\n"
     ]
    }
   ],
   "source": [
    "seq = 'BBABCBCAB'\n",
    "print(longest_palindrom_subsequence_brute_force(seq,0,len(seq)-1))"
   ]
  },
  {
   "cell_type": "code",
   "execution_count": 33,
   "metadata": {},
   "outputs": [],
   "source": [
    "def lps_dp_v1(seq):ªn = len(seq)\n",
    "    \n",
    "    # Creem una taula per guardar els resultats\n",
    "    # dels subproblemes\n",
    "    dp = [[0 for x in range(n)] for y in range(n)]\n",
    "    \n",
    "    # Strings de len == 1 són palíndroms de len == 1\n",
    "    for i in range(n):\n",
    "        dp[i][i] = 1\n",
    "        \n",
    "    # Construïm la taula. Note that the lower diagonal\n",
    "    # values of table are useless and not filled in the\n",
    "    # process.\n",
    "    # cl is length of substring\n",
    "    for cl in range(2, n+1):\n",
    "        for i in range(n-cl+1):\n",
    "            j = i+cl-1\n",
    "            \n",
    "            if seq[i] == seq[j] and cl == 2:\n",
    "                dp[i][j] = 2\n",
    "            elif seq[i] == seq[j]:\n",
    "                dp[i][j] = dp[i+1][j-1] + 2\n",
    "            else:\n",
    "                dp[i][j] = max(dp[i][j-1], dp[i+1][j])\n",
    "                \n",
    "    return dp[0][n-1]"
   ]
  },
  {
   "cell_type": "code",
   "execution_count": 34,
   "metadata": {},
   "outputs": [
    {
     "name": "stdout",
     "output_type": "stream",
     "text": [
      "7\n"
     ]
    }
   ],
   "source": [
    "seq = 'BBABCBCAB'\n",
    "print(lps_dp_v1(seq))"
   ]
  }
 ],
 "metadata": {
  "kernelspec": {
   "display_name": "Python 3",
   "language": "python",
   "name": "python3"
  },
  "language_info": {
   "codemirror_mode": {
    "name": "ipython",
    "version": 3
   },
   "file_extension": ".py",
   "mimetype": "text/x-python",
   "name": "python",
   "nbconvert_exporter": "python",
   "pygments_lexer": "ipython3",
   "version": "3.8.8"
  }
 },
 "nbformat": 4,
 "nbformat_minor": 4
}
