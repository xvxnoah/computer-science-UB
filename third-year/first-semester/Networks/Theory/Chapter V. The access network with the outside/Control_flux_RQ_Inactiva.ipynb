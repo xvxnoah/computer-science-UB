{
 "cells": [
  {
   "cell_type": "markdown",
   "metadata": {},
   "source": [
    "## Exemple\n",
    "S’envia un conjunt de 1000 bits fent servir RQ inactiva. Quina és la utilització de la línia per tasses de bit de 1kbps i 1 Mbps. Medis:\n",
    "1. 1km de parell trenat (v=2·10 8 m/ s)\n",
    "2. 200 km de línia llogada (v=2·10 8 m/ s)\n",
    "3. 50.000 km d’enllaç satèl·lit (v= 3·10 8 m/ s)"
   ]
  },
  {
   "cell_type": "code",
   "execution_count": 2,
   "metadata": {},
   "outputs": [],
   "source": [
    "import sympy as sp"
   ]
  },
  {
   "cell_type": "code",
   "execution_count": 6,
   "metadata": {},
   "outputs": [
    {
     "data": {
      "text/latex": [
       "$\\displaystyle \\frac{t_{prop}}{t_{tx}}$"
      ],
      "text/plain": [
       "t_prop/t_tx"
      ]
     },
     "execution_count": 6,
     "metadata": {},
     "output_type": "execute_result"
    }
   ],
   "source": [
    "sp.var('v')\n",
    "sp.var('t_prop')\n",
    "sp.var('t_tx')\n",
    "a = t_prop/t_tx\n",
    "a"
   ]
  },
  {
   "cell_type": "code",
   "execution_count": 7,
   "metadata": {},
   "outputs": [
    {
     "data": {
      "text/latex": [
       "$\\displaystyle \\frac{1}{\\frac{2 t_{prop}}{t_{tx}} + 1}$"
      ],
      "text/plain": [
       "1/(2*t_prop/t_tx + 1)"
      ]
     },
     "execution_count": 7,
     "metadata": {},
     "output_type": "execute_result"
    }
   ],
   "source": [
    "U = 1/(1+2*a)\n",
    "U"
   ]
  },
  {
   "cell_type": "code",
   "execution_count": 13,
   "metadata": {},
   "outputs": [
    {
     "name": "stdout",
     "output_type": "stream",
     "text": [
      "1.0  seg.\n"
     ]
    }
   ],
   "source": [
    "# cas 1. vel 1kb/s\n",
    "L = 1000 #bits\n",
    "v_tx = 1E3 #bits/seg\n",
    "ttx = L/v_tx\n",
    "print(ttx, \" seg.\")"
   ]
  },
  {
   "cell_type": "code",
   "execution_count": 14,
   "metadata": {},
   "outputs": [],
   "source": [
    "# cas a.- 1km parell trenat\n",
    "tprop = 1E3/2E8"
   ]
  },
  {
   "cell_type": "code",
   "execution_count": 15,
   "metadata": {},
   "outputs": [
    {
     "data": {
      "text/latex": [
       "$\\displaystyle 0.999990000099999$"
      ],
      "text/plain": [
       "0.999990000099999"
      ]
     },
     "execution_count": 15,
     "metadata": {},
     "output_type": "execute_result"
    }
   ],
   "source": [
    "U_cas1a = U.subs(t_tx, ttx).subs(t_prop,tprop)\n",
    "U_cas1a"
   ]
  },
  {
   "cell_type": "code",
   "execution_count": 16,
   "metadata": {},
   "outputs": [],
   "source": [
    "# cas b. 200km linia llogada coure\n",
    "tprop = 200E3/2E8"
   ]
  },
  {
   "cell_type": "code",
   "execution_count": 17,
   "metadata": {},
   "outputs": [
    {
     "data": {
      "text/latex": [
       "$\\displaystyle 0.998003992015968$"
      ],
      "text/plain": [
       "0.998003992015968"
      ]
     },
     "execution_count": 17,
     "metadata": {},
     "output_type": "execute_result"
    }
   ],
   "source": [
    "U_cas1b = U.subs(t_tx, ttx).subs(t_prop,tprop)\n",
    "U_cas1b"
   ]
  },
  {
   "cell_type": "code",
   "execution_count": 18,
   "metadata": {},
   "outputs": [],
   "source": [
    "# cas c. 50.000 km d’enllaç satèl·lit (v= 3·10 8 m/ s)\n",
    "tprop = 50E6/3E8"
   ]
  },
  {
   "cell_type": "code",
   "execution_count": 19,
   "metadata": {},
   "outputs": [
    {
     "data": {
      "text/latex": [
       "$\\displaystyle 0.75$"
      ],
      "text/plain": [
       "0.750000000000000"
      ]
     },
     "execution_count": 19,
     "metadata": {},
     "output_type": "execute_result"
    }
   ],
   "source": [
    "U_cas1c = U.subs(t_tx, ttx).subs(t_prop,tprop)\n",
    "U_cas1c"
   ]
  },
  {
   "cell_type": "code",
   "execution_count": 20,
   "metadata": {},
   "outputs": [
    {
     "name": "stdout",
     "output_type": "stream",
     "text": [
      "0.001  seg.\n"
     ]
    }
   ],
   "source": [
    "# cas 2. vel = 1Mb/s\n",
    "L = 1000 #bits\n",
    "v_tx = 1E6 #bits/seg\n",
    "ttx = L/v_tx\n",
    "print(ttx, \" seg.\")"
   ]
  },
  {
   "cell_type": "code",
   "execution_count": 21,
   "metadata": {},
   "outputs": [],
   "source": [
    "# cas a.- 1km parell trenat\n",
    "tprop = 1E3/2E8"
   ]
  },
  {
   "cell_type": "code",
   "execution_count": 22,
   "metadata": {},
   "outputs": [
    {
     "data": {
      "text/latex": [
       "$\\displaystyle 0.99009900990099$"
      ],
      "text/plain": [
       "0.990099009900990"
      ]
     },
     "execution_count": 22,
     "metadata": {},
     "output_type": "execute_result"
    }
   ],
   "source": [
    "U_cas2a = U.subs(t_tx, ttx).subs(t_prop,tprop)\n",
    "U_cas2a"
   ]
  },
  {
   "cell_type": "code",
   "execution_count": 23,
   "metadata": {},
   "outputs": [
    {
     "data": {
      "text/latex": [
       "$\\displaystyle 0.333333333333333$"
      ],
      "text/plain": [
       "0.333333333333333"
      ]
     },
     "execution_count": 23,
     "metadata": {},
     "output_type": "execute_result"
    }
   ],
   "source": [
    "# cas b. 200km linia llogada coure\n",
    "tprop = 200E3/2E8\n",
    "U_cas2b = U.subs(t_tx, ttx).subs(t_prop,tprop)\n",
    "U_cas2b"
   ]
  },
  {
   "cell_type": "code",
   "execution_count": 24,
   "metadata": {},
   "outputs": [
    {
     "data": {
      "text/latex": [
       "$\\displaystyle 0.00299102691924227$"
      ],
      "text/plain": [
       "0.00299102691924227"
      ]
     },
     "execution_count": 24,
     "metadata": {},
     "output_type": "execute_result"
    }
   ],
   "source": [
    "# cas c. 50.000 km d’enllaç satèl·lit (v= 3·10 8 m/ s)\n",
    "tprop = 50E6/3E8\n",
    "U_cas2c = U.subs(t_tx, ttx).subs(t_prop,tprop)\n",
    "U_cas2c"
   ]
  },
  {
   "cell_type": "markdown",
   "metadata": {},
   "source": [
    "RQ INACTIVA AMB ERRORS\n",
    "\n",
    "U = (1 - Pe)/(1+2a)"
   ]
  },
  {
   "cell_type": "markdown",
   "metadata": {},
   "source": [
    "RQ Continua:\n",
    "\n",
    "K = mida del buffer \n",
    "1+2a\n",
    "\n",
    "U = 1 K >= 1+2a\n",
    "o bé\n",
    "U = K/(1+2a) k < 1+2a\n",
    "\n",
    "NO ERRORS CONSIDERATS!!!\n"
   ]
  }
 ],
 "metadata": {
  "kernelspec": {
   "display_name": "Python 3",
   "language": "python",
   "name": "python3"
  },
  "language_info": {
   "codemirror_mode": {
    "name": "ipython",
    "version": 3
   },
   "file_extension": ".py",
   "mimetype": "text/x-python",
   "name": "python",
   "nbconvert_exporter": "python",
   "pygments_lexer": "ipython3",
   "version": "3.8.5"
  }
 },
 "nbformat": 4,
 "nbformat_minor": 4
}
