{
 "cells": [
  {
   "cell_type": "code",
   "execution_count": 5,
   "metadata": {},
   "outputs": [
    {
     "name": "stdout",
     "output_type": "stream",
     "text": [
      "El polinomi generador és X^4+X =  0b10011\n",
      "Grau del polinomi:  4\n",
      "Data Frame =  0b11010010111\n"
     ]
    }
   ],
   "source": [
    "Data_Frame = 0b11010010111\n",
    "Pol_Generador = 0b10011\n",
    "print(\"El polinomi generador és X^4+X = \", bin(Pol_Generador))\n",
    "grau_pol_gen = len(bin(Pol_Generador))-3\n",
    "print(\"Grau del polinomi: \", grau_pol_gen)\n",
    "print(\"Data Frame = \", bin(Data_Frame))"
   ]
  },
  {
   "cell_type": "markdown",
   "metadata": {},
   "source": [
    "1er pas => Desplacem les dades cap a l'esquerra tants bits com el grau del polinomi generador"
   ]
  },
  {
   "cell_type": "code",
   "execution_count": 6,
   "metadata": {},
   "outputs": [
    {
     "name": "stdout",
     "output_type": "stream",
     "text": [
      "0b110100101110000\n"
     ]
    }
   ],
   "source": [
    "Shifted_Data = Data_Frame<<grau_pol_gen\n",
    "print(bin(Shifted_Data))"
   ]
  },
  {
   "cell_type": "code",
   "execution_count": 7,
   "metadata": {},
   "outputs": [
    {
     "name": "stdout",
     "output_type": "stream",
     "text": [
      "longitud de la trama desplaçada =  15\n",
      "longitud del polinomi generador 5\n",
      "0b11010\n"
     ]
    }
   ],
   "source": [
    "a = len(bin(Shifted_Data))\n",
    "print(\"longitud de la trama desplaçada = \", a-2)\n",
    "b = len(bin(Pol_Generador))\n",
    "print(\"longitud del polinomi generador\", b-2)\n",
    "iterador = a - b\n",
    "print(bin(Shifted_Data >>iterador))"
   ]
  },
  {
   "cell_type": "code",
   "execution_count": 8,
   "metadata": {},
   "outputs": [
    {
     "name": "stdout",
     "output_type": "stream",
     "text": [
      "0b110100101110000\n",
      "iteracio:  0  de  10\n",
      "valor a operar:  0b11010\n",
      "resultat de la operacio:  0b11010  XOR  0b10011  =  0b1001\n",
      "---------------------------\n",
      "0b110100101110000\n",
      "iteracio:  1  de  10\n",
      "valor a operar:  0b110100\n",
      "value =  0\n",
      "operand tmp 0b10010\n",
      "resultat de la operacio:  0b10010  XOR  0b10011  =  0b1\n",
      "---------------------------\n",
      "0b110100101110000\n",
      "iteracio:  2  de  10\n",
      "valor a operar:  0b1101001\n",
      "value =  1\n",
      "operand tmp 0b11\n",
      "no hi cap... valor actual:  0b11  per operar amb  0b10011\n",
      "---------------------------\n",
      "0b110100101110000\n",
      "iteracio:  3  de  10\n",
      "valor a operar:  0b11010010\n",
      "value =  0\n",
      "operand tmp 0b110\n",
      "no hi cap... valor actual:  0b110  per operar amb  0b10011\n",
      "---------------------------\n",
      "0b110100101110000\n",
      "iteracio:  4  de  10\n",
      "valor a operar:  0b110100101\n",
      "value =  1\n",
      "operand tmp 0b1101\n",
      "no hi cap... valor actual:  0b1101  per operar amb  0b10011\n",
      "---------------------------\n",
      "0b110100101110000\n",
      "iteracio:  5  de  10\n",
      "valor a operar:  0b1101001011\n",
      "value =  1\n",
      "operand tmp 0b11011\n",
      "resultat de la operacio:  0b11011  XOR  0b10011  =  0b1000\n",
      "---------------------------\n",
      "0b110100101110000\n",
      "iteracio:  6  de  10\n",
      "valor a operar:  0b11010010111\n",
      "value =  1\n",
      "operand tmp 0b10001\n",
      "resultat de la operacio:  0b10001  XOR  0b10011  =  0b10\n",
      "---------------------------\n",
      "0b110100101110000\n",
      "iteracio:  7  de  10\n",
      "valor a operar:  0b110100101110\n",
      "value =  0\n",
      "operand tmp 0b100\n",
      "no hi cap... valor actual:  0b100  per operar amb  0b10011\n",
      "---------------------------\n",
      "0b110100101110000\n",
      "iteracio:  8  de  10\n",
      "valor a operar:  0b1101001011100\n",
      "value =  0\n",
      "operand tmp 0b1000\n",
      "no hi cap... valor actual:  0b1000  per operar amb  0b10011\n",
      "---------------------------\n",
      "0b110100101110000\n",
      "iteracio:  9  de  10\n",
      "valor a operar:  0b11010010111000\n",
      "value =  0\n",
      "operand tmp 0b10000\n",
      "resultat de la operacio:  0b10000  XOR  0b10011  =  0b11\n",
      "---------------------------\n",
      "0b110100101110000\n",
      "iteracio:  10  de  10\n",
      "valor a operar:  0b110100101110000\n",
      "value =  0\n",
      "operand tmp 0b110\n",
      "no hi cap... valor actual:  0b110  per operar amb  0b10011\n",
      "---------------------------\n",
      "valor de la trama per enviar:  0b110100101110110\n"
     ]
    }
   ],
   "source": [
    "init = 1<<grau_pol_gen\n",
    "for i in range(iterador+1):\n",
    "    print(bin(Shifted_Data))\n",
    "    print('iteracio: ', i, ' de ', iterador)\n",
    "    tmp = (Shifted_Data >>(iterador - i))\n",
    "    print('valor a operar: ', bin(tmp))\n",
    "    if i > 0:\n",
    "        value = tmp & 1\n",
    "        print('value = ', value)\n",
    "        tmp = (resOperacio << 1) + value\n",
    "        print('operand tmp', bin(tmp))\n",
    "        #input()\n",
    "    #print(bin(init & tmp))\n",
    "    if tmp & init == 0:\n",
    "        resOperacio = tmp\n",
    "        print('no hi cap... valor actual: ', bin(resOperacio), \" per operar amb \", bin(Pol_Generador))\n",
    "        print(\"---------------------------\")\n",
    "    else:\n",
    "        resOperacio = tmp ^ Pol_Generador\n",
    "        print('resultat de la operacio: ', bin(tmp), \" XOR \", bin(Pol_Generador), \" = \", bin(resOperacio))\n",
    "        print(\"---------------------------\")\n",
    "        #input()\n",
    "valor_trama_TX = Shifted_Data + resOperacio\n",
    "print(\"valor de la trama per enviar: \", bin(valor_trama_TX))"
   ]
  },
  {
   "cell_type": "markdown",
   "metadata": {},
   "source": [
    "Exercici. Càlcul manual\n",
    "\n",
    "trama = 0b110011\n",
    "G = 0b101 #x^2 +1\n",
    "\n",
    "trama_extesa = 0b11001100\n",
    "0b110 XOR 0b101 = 0b011\n",
    "0b110 XOR 0b101 = 0b011\n",
    "0b111 XOR 0b101 = 0b010\n",
    "0b101 XOR 0b101 = 0b000\n",
    "0b000 \n",
    "0b000\n",
    "0b11001100\n"
   ]
  }
 ],
 "metadata": {
  "kernelspec": {
   "display_name": "Python 3",
   "language": "python",
   "name": "python3"
  },
  "language_info": {
   "codemirror_mode": {
    "name": "ipython",
    "version": 3
   },
   "file_extension": ".py",
   "mimetype": "text/x-python",
   "name": "python",
   "nbconvert_exporter": "python",
   "pygments_lexer": "ipython3",
   "version": "3.8.5"
  }
 },
 "nbformat": 4,
 "nbformat_minor": 4
}
