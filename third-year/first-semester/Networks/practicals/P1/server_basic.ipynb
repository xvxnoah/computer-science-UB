{
 "cells": [
  {
   "cell_type": "code",
   "execution_count": 1,
   "id": "ef7c6f7b",
   "metadata": {},
   "outputs": [
    {
     "name": "stdout",
     "output_type": "stream",
     "text": [
      "Connected by ('127.0.0.1', 56961)\n",
      "b'Hello!'\n",
      "b'How are you?'\n",
      "b'Bye!!'\n"
     ]
    },
    {
     "ename": "KeyboardInterrupt",
     "evalue": "",
     "output_type": "error",
     "traceback": [
      "\u001b[0;31m---------------------------------------------------------------------------\u001b[0m",
      "\u001b[0;31mKeyboardInterrupt\u001b[0m                         Traceback (most recent call last)",
      "\u001b[1;32m/Users/noahmv/Desktop/🫀/👨🏼‍🎓/UB👨🏼‍🎓/Cuarto/Semestre I/Xarxes/Pràctiques/P1/server_basic.ipynb Cell 1\u001b[0m line \u001b[0;36m4\n\u001b[1;32m     <a href='vscode-notebook-cell:/Users/noahmv/Desktop/%F0%9F%AB%80/%F0%9F%91%A8%F0%9F%8F%BC%E2%80%8D%F0%9F%8E%93/UB%F0%9F%91%A8%F0%9F%8F%BC%E2%80%8D%F0%9F%8E%93/Cuarto/Semestre%20I/Xarxes/Pr%C3%A0ctiques/P1/server_basic.ipynb#W0sZmlsZQ%3D%3D?line=42'>43</a>\u001b[0m \u001b[39mprint\u001b[39m(\u001b[39m'\u001b[39m\u001b[39mConnected by\u001b[39m\u001b[39m'\u001b[39m, addr)\n\u001b[1;32m     <a href='vscode-notebook-cell:/Users/noahmv/Desktop/%F0%9F%AB%80/%F0%9F%91%A8%F0%9F%8F%BC%E2%80%8D%F0%9F%8E%93/UB%F0%9F%91%A8%F0%9F%8F%BC%E2%80%8D%F0%9F%8E%93/Cuarto/Semestre%20I/Xarxes/Pr%C3%A0ctiques/P1/server_basic.ipynb#W0sZmlsZQ%3D%3D?line=43'>44</a>\u001b[0m \u001b[39mwhile\u001b[39;00m \u001b[39mTrue\u001b[39;00m:\n\u001b[0;32m---> <a href='vscode-notebook-cell:/Users/noahmv/Desktop/%F0%9F%AB%80/%F0%9F%91%A8%F0%9F%8F%BC%E2%80%8D%F0%9F%8E%93/UB%F0%9F%91%A8%F0%9F%8F%BC%E2%80%8D%F0%9F%8E%93/Cuarto/Semestre%20I/Xarxes/Pr%C3%A0ctiques/P1/server_basic.ipynb#W0sZmlsZQ%3D%3D?line=44'>45</a>\u001b[0m     data \u001b[39m=\u001b[39m conn\u001b[39m.\u001b[39;49mrecv(\u001b[39m1024\u001b[39;49m)\n\u001b[1;32m     <a href='vscode-notebook-cell:/Users/noahmv/Desktop/%F0%9F%AB%80/%F0%9F%91%A8%F0%9F%8F%BC%E2%80%8D%F0%9F%8E%93/UB%F0%9F%91%A8%F0%9F%8F%BC%E2%80%8D%F0%9F%8E%93/Cuarto/Semestre%20I/Xarxes/Pr%C3%A0ctiques/P1/server_basic.ipynb#W0sZmlsZQ%3D%3D?line=45'>46</a>\u001b[0m     \u001b[39mif\u001b[39;00m \u001b[39mnot\u001b[39;00m data:\n\u001b[1;32m     <a href='vscode-notebook-cell:/Users/noahmv/Desktop/%F0%9F%AB%80/%F0%9F%91%A8%F0%9F%8F%BC%E2%80%8D%F0%9F%8E%93/UB%F0%9F%91%A8%F0%9F%8F%BC%E2%80%8D%F0%9F%8E%93/Cuarto/Semestre%20I/Xarxes/Pr%C3%A0ctiques/P1/server_basic.ipynb#W0sZmlsZQ%3D%3D?line=46'>47</a>\u001b[0m         \u001b[39mbreak\u001b[39;00m\n",
      "\u001b[0;31mKeyboardInterrupt\u001b[0m: "
     ]
    }
   ],
   "source": [
    "#!/usr/bin/env python3\n",
    "\n",
    "import socket\n",
    "\n",
    "HOST = '127.0.0.1'  # Standard loopback interface address (localhost)\n",
    "PORT = 65432        # Port to listen on (non-privileged ports are > 1023)\n",
    "\n",
    "'''\n",
    "BIND\n",
    "1. The bind() method of Python's socket class assigns an IP address and a port number to a socket instance.\n",
    "2. The bind() method is used when a socket needs to be made a server socket.\n",
    "3. As server programs listen on published ports, it is required that a port and the IP address to be assigned \n",
    "    explicitly to a server socket.\n",
    "4. For client programs, it is not required to bind the socket explicitly to a port. \n",
    "    The kernel of the operating system takes care of assigning the source IP and a temporary port number.\n",
    "5. The client socket can use the connect() method, after the socket creation is complete to contact the server socket.\n",
    "\n",
    "LISTEN\n",
    "1. Calling listen() makes a socket ready for accepting connections.\n",
    "2. The listen() method should be called before calling the accept() method on the server socket.\n",
    "3. The listen() function accepts a queue size through the parameter backlog. This denotes maximum number \n",
    "    of connections that can be queued for this socket by the operating system. Once 'backlog' number of \n",
    "    connections is in the socket's queue, the kernel will reject incoming connections to the socket.\n",
    "    \n",
    "ACCEPT\n",
    "1. The accept() method of Python's socket class, accepts an incoming connection request from a TCP client.\n",
    "2. The accept() method is called on a TCP based server socket.\n",
    "3. When connect() is called at the client side with the IP address and port number of the server, \n",
    "    the connect request is received with the  accept() call at the server side.\n",
    "4. Upon accepting a connection request from a TCP based client, the accept() method called on the \n",
    "    server socket returns a socket that is connected to the client.\n",
    "5. Data can be sent and received using the socket returned by the accept() method.\n",
    "Multithreaded servers spawn a new thread for each of the newly created socket by the accept() method\n",
    "\n",
    "https://pythontic.com/modules/socket/accept\n",
    "'''\n",
    "\n",
    "with socket.socket(socket.AF_INET, socket.SOCK_STREAM) as s:\n",
    "    s.bind((HOST, PORT))\n",
    "    s.listen()\n",
    "    conn, addr = s.accept()\n",
    "    with conn:\n",
    "        print('Connected by', addr)\n",
    "        while True:\n",
    "            data = conn.recv(1024)\n",
    "            if not data:\n",
    "                break\n",
    "            conn.sendall(data)\n",
    "            print(data)"
   ]
  },
  {
   "cell_type": "code",
   "execution_count": null,
   "id": "1f35c1ff",
   "metadata": {},
   "outputs": [],
   "source": []
  }
 ],
 "metadata": {
  "kernelspec": {
   "display_name": "Python 3 (ipykernel)",
   "language": "python",
   "name": "python3"
  },
  "language_info": {
   "codemirror_mode": {
    "name": "ipython",
    "version": 3
   },
   "file_extension": ".py",
   "mimetype": "text/x-python",
   "name": "python",
   "nbconvert_exporter": "python",
   "pygments_lexer": "ipython3",
   "version": "3.11.6"
  }
 },
 "nbformat": 4,
 "nbformat_minor": 5
}
