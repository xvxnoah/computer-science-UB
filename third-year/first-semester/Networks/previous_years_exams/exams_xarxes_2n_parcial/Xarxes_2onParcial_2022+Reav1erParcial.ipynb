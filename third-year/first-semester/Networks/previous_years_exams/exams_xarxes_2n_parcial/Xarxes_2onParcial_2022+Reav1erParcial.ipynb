{
 "cells": [
  {
   "cell_type": "markdown",
   "id": "c8ef19bc",
   "metadata": {},
   "source": [
    "## Examen de Xarxes  Gener 2022\n",
    "\n",
    "### Segon Parcial\n",
    "\n",
    "1.- Donada la IPv4 129.234.55.9, indica:\n",
    "* A quina classe  hi pertany i quina serà la seva màscara inicial? Quina part de l’adreça correspon a l’usuari i quina identifica la xarxa a la que pertany? Quants usuaris més es poden tenir en la xarxa associada a l’adreça de xarxa? (1 punt)\n",
    "* Volem agrupar els usuaris en subxarxes de 254 adreces. Quantes subxarxes podem tenir? Cal modificar la màscara d’alguna manera per poder fer aquest exercici? Raona les respostes (1punt)\n",
    "* A partir de una de les subxarxes anteriors, feu un subnetting variable per encabir una xarxa amb 100 usuaris i 4 xarxes amb 8 usuaris. Es possible fer aquesta divisió? Queden IPs lliures? Raona les respostes (1 punt)\n"
   ]
  },
  {
   "cell_type": "markdown",
   "id": "f9ca4f7b",
   "metadata": {},
   "source": []
  },
  {
   "cell_type": "code",
   "execution_count": 3,
   "id": "b94f16e7",
   "metadata": {},
   "outputs": [
    {
     "name": "stdout",
     "output_type": "stream",
     "text": [
      "transformem el valor decimal de  129  en binari =>  0b10000001\n"
     ]
    }
   ],
   "source": [
    "# Agafem la primera part de l'adreça IP\n",
    "\n",
    "a = 129\n",
    "print(\"transformem el valor decimal de \",a, \" en binari => \", bin(a))"
   ]
  },
  {
   "cell_type": "code",
   "execution_count": 4,
   "id": "8bb55db8",
   "metadata": {},
   "outputs": [
    {
     "name": "stdout",
     "output_type": "stream",
     "text": [
      "Podem tenir  65534  usuaris\n"
     ]
    }
   ],
   "source": [
    "# Donat que comença per 10 vol dir que és CLASSE B\n",
    "# Màscara = 255.255.0.0\n",
    "# Adreça de xarxa => 129.234.0.0\n",
    "# Adreça de host => 55.9\n",
    "print('Podem tenir ', 2**16 -2 ,\" usuaris\")"
   ]
  },
  {
   "cell_type": "markdown",
   "id": "e62acbe7",
   "metadata": {},
   "source": [
    "El nombre total d'usuaris serà 65534, com que tenim assignada la ip 55.9 ens queden per assignar 65533"
   ]
  },
  {
   "cell_type": "markdown",
   "id": "a01c5443",
   "metadata": {},
   "source": [
    "Volem crear subxarxes de 254 adreces per usuaris => $2^8 -2 $ => Agafem 8 bits\n",
    "Ens queden per tant $2^8$ adreces per subxarxes => 256\n",
    "\n",
    "Les adreces seran:\n",
    "\n",
    "* 129.234.0.0/24\n",
    "* 129.234.1.0/24\n",
    "* 129.234.2.0/24\n",
    "* ...\n",
    "* 129.234.255.0/24\n",
    "La màscara és 255.255.255.0 => Es a dir, /24"
   ]
  },
  {
   "cell_type": "markdown",
   "id": "bc3b9441",
   "metadata": {},
   "source": [
    "Agafo una adreça qualsevol, la primera:\n",
    "\n",
    "129.234.0.0/24\n",
    "\n",
    "**Primera subxarxa:**\n",
    "129.234.0.0/25 amb els usuaris 129.234.0.1 fins al 129.234.0.126 es a dir tinc 128-2 = 126 adreces per usuaris.\n",
    "**Resta de subxarxes: 4 subxarxes de 8 usuaris**\n",
    "\n",
    "necessitem 2 bits per les quatre subxarxes. Per tant podriem fer:\n",
    "\n",
    "129.234.0.\"11xxYYYY/28 => volen dir les x les diferents subxarxes i les Y els usuaris, que requereixen 4 bits, ja que $2^4 - 2 = 14$. Per tant tindrem:\n",
    "* **129.234.0.192/28**\n",
    "* i els usuaris seran 129.234.0.193/28\n",
    "* 129.234.0.194/28\n",
    "* 129.234.0.206/28\n",
    "* **129.234.0.208/28**\n",
    "* i els usuaris per aquesta seran 129.234.0.209/28\n",
    "* fin 129.234.0.222/28\n",
    "* **129.234.0.224/28**\n",
    "* i els usuaris van des de 129.234.0.225/28 fins a 129.234.0.228/28\n",
    "* **129.234.0.240/28**\n",
    "* i els usuaris van des de 129.224.0.241/28 fins a 129.234.0.254/28\n",
    "\n",
    "Tal i com es pot veure queden adreces IP lliures\n",
    "\n",
    "\n"
   ]
  },
  {
   "cell_type": "markdown",
   "id": "58a04711",
   "metadata": {},
   "source": [
    "2.- L’adreça IP 2001:3C4D:0DB8:0015::1A2F:1A2B identifica la id del prefixe de lloc, la id de la subxarxa i la id de l’usuari final. Quantes subxarxes es poden crear amb una IPv6? Raona la resposta. En aquest cas particular, quina subxarxa estem fent servir? (1 punt)"
   ]
  },
  {
   "cell_type": "markdown",
   "id": "2f7143a3",
   "metadata": {},
   "source": [
    "`El camp associat a les subxarxes inicialment és el quart i corresponen a 16 bits. En aquest cas correspon al valor 0015`\n",
    "\n",
    "`ID Prefixe del lloc: 2001:3c4D:0DB8 (48 bits)`\n",
    "`ID Usuari: 0000:0000:1A2F:1A2B (64 bits)`\n",
    "\n",
    "`D'entrada es poden crear, amb una adreça d'aquestes fins a $2^{16}$ adreces`"
   ]
  },
  {
   "cell_type": "markdown",
   "id": "d3a86871",
   "metadata": {},
   "source": [
    "3.- L’expedició localitzada a l’Antartida de la UB que estudia el canvi climàtic ens contacta per muntar un enllaç “wireless” punt a punt, amb una velocitat de transferència de 500 Mb/s. La mida de la trama és de 1024 Bytes. La mida de la trama de ACK és de 128 Bytes, la distància entre els dos punts és de 15.500 km aproximadament. La velocitat de propagació és de 3E8 m/s. La mida de la finestra K = 16 i la probabilitat d’error és del 0.1%. L’efecte de la trama ACK en l’eficiència, és menyspreable? Raona la resposta. Si considerem un protocol de repetició selectiva, quina eficiència ens permet el sistema? Raona la resposta (3 punts)"
   ]
  },
  {
   "cell_type": "code",
   "execution_count": 4,
   "id": "41f2bdf4",
   "metadata": {},
   "outputs": [],
   "source": [
    "C = 500E6     # bits per segon\n",
    "L = 1024*8    # bits\n",
    "Lack = 128*8  # bits\n",
    "d = 7845E3   # metres de distància\n",
    "v = 3E8       # metres per segon\n",
    "k = 1128      # finestra\n",
    "Pe = 0.1E-2   # Probabilitat d'error de bit"
   ]
  },
  {
   "cell_type": "code",
   "execution_count": 5,
   "id": "78aa1f88",
   "metadata": {},
   "outputs": [
    {
     "name": "stdout",
     "output_type": "stream",
     "text": [
      "temps de tx 0.000016, temps de prop 0.026150 i temps de ack 0.000002\n",
      "a sense considerar ACK 1596.0693359374998\n",
      "a considerant ACK 1596.1318359374998\n"
     ]
    }
   ],
   "source": [
    "# Veiem si la a es menyspreable.\n",
    "# Calculem la a sense considerar ACK\n",
    "\n",
    "Ttx = L/C\n",
    "Tprop = d/v\n",
    "Tack = Lack/C\n",
    "print('temps de tx %f, temps de prop %f i temps de ack %f'%(Ttx,Tprop,Tack))\n",
    "a = Tprop/Ttx\n",
    "print('a sense considerar ACK', a)\n",
    "\n",
    "# Ara calculem la a consinderant ACK\n",
    "\n",
    "b = (Tprop + Tack/2)/Ttx\n",
    "print('a considerant ACK', b)"
   ]
  },
  {
   "cell_type": "code",
   "execution_count": 6,
   "id": "a95770b2",
   "metadata": {},
   "outputs": [
    {
     "name": "stdout",
     "output_type": "stream",
     "text": [
      "k >= 1+2a?  False\n",
      "3193.1386718749995\n"
     ]
    }
   ],
   "source": [
    "print ('k >= 1+2a? ', (k>= (1+2*a)))\n",
    "print(1+2*a)"
   ]
  },
  {
   "cell_type": "code",
   "execution_count": 7,
   "id": "4857d93f",
   "metadata": {},
   "outputs": [
    {
     "name": "stdout",
     "output_type": "stream",
     "text": [
      "El valor de la Eficiencia és:  0.35290418481521973\n"
     ]
    }
   ],
   "source": [
    "U = (1-Pe)*k/(1+2*a)\n",
    "print('El valor de la Eficiencia és: ', U)"
   ]
  },
  {
   "cell_type": "markdown",
   "id": "d33f9cc8",
   "metadata": {},
   "source": [
    "`el valor de l'eficiència és igual a 0.25%. Aquest valor tant baix es deu a la gran distància que hi ha entre l'Antartida i Barcelona. Per incrementar-la hauriem d'incrementar el valor de la finestra`"
   ]
  },
  {
   "cell_type": "markdown",
   "id": "fbfe2ca9",
   "metadata": {},
   "source": [
    "4.- S’envia la trama següent: 37h 4Ah 5Bh i afegim per detectar errors una generador G(x) = X8+X. Indica el format de la trama que finalment s’envia. Valida el resultat en recepció. (1 punt)"
   ]
  },
  {
   "cell_type": "markdown",
   "id": "94404a05",
   "metadata": {},
   "source": [
    "`11 0111 0100 1010 0101 1011 / 1 0000 0010`\n",
    "\n",
    "`11 0111 0100 1010 0101 1011 0000 0000`  \n",
    "`10 0000 010`  \n",
    "`01 0111 0000`  \n",
    "`x1 0000 0010`  \n",
    "`x0 0111 0010 10`  \n",
    "`xx x100 0000 10`  \n",
    "`xx x011 0010 001`  \n",
    "`xx xx10 0000 010`  \n",
    "`xx xx01 0010 0110`  \n",
    "`xx xxx1 0000 0010`  \n",
    "`xx xxx0 0010 0100 010`  \n",
    "`xx xxxx xx10 0000 010`  \n",
    "`xx xxxx xx00 0100 0001 10`  \n",
    "`xx xxxx xxxx x100 0000 10`  \n",
    "`xx xxxx xxxx x000 0001 0011 0000`  \n",
    "`xx xxxx xxxx xxxx xxx1 0000 0010`  \n",
    "`xx xxxx xxxx xxxx xxx0 0011 0010 000`  \n",
    "`xx xxxx xxxx xxxx xxxx xx10 0000 010`  \n",
    "`xx xxxx xxxx xxxx xxxx xx01 0010 0100`  \n",
    "`xx xxxx xxxx xxxx xxxx xxx1 0000 0010`  \n",
    "`xx xxxx xxxx xxxx xxxx xxx0 0010 0110`  \n",
    "\n",
    "`Enviem la següent trama: `\n",
    "`11 0111 0100 1010 0101 1011 0010 0110`\n"
   ]
  },
  {
   "cell_type": "markdown",
   "id": "155886e8",
   "metadata": {},
   "source": [
    "__Exercici 3__. Que fa el protocol NAT? On es fa servir? Explica el tipus de NAT que heu vist a pràctiques"
   ]
  },
  {
   "cell_type": "markdown",
   "id": "25afcad2",
   "metadata": {},
   "source": [
    "`El protocol NAT (Network Address Translation) s'encarrega de traduir adreces IP privades en adreces IP públiques i al revés. Es pot aplicar allà on tinguis un router amb capacitat de fer-ho, però normalment, la xarxa LAN opera amb adreces privades i és el router de sortida de la LAN qui s'encarrega de fer aquesta conversió. Actualment, donat que ja no hi ha IPs públiques, qui s'encarrega de fer aquesta conversió és el ISP`\n",
    "\n",
    "Pel que fa a la part de NAT vista a pràctiques, entenc que ho podeu revisar vosaltres mateixos, oi? "
   ]
  },
  {
   "cell_type": "markdown",
   "id": "4df420d9",
   "metadata": {},
   "source": [
    "__Exercici 4__. Quina adreça IP es fa servir com localhost? Explica perquè es pot fer servir"
   ]
  },
  {
   "cell_type": "markdown",
   "id": "2d9683bd",
   "metadata": {},
   "source": [
    "`L'adreça IP que s'utilitza com localhost és la 127.0.0.1  \n",
    "Es fa servir per analitzar si tenim algun problema en el protocol TCP/IP del nostre PC, executant la comanda:  \n",
    "ping 127.0.0.1  \n",
    "Si veiem que no tenim connexió, tindrem un problema. També serveix per exemple per muntar sockets entre programes que corren en el nostre PC i muntar per exemple un client servidor senzillet.`"
   ]
  },
  {
   "cell_type": "markdown",
   "id": "bd384dd8",
   "metadata": {},
   "source": [
    "__Exercici 6__. Que fa la capa d'enllaç?\n",
    "\n",
    "`La capa d'enllaç s'encarrega de gestionar les comunicacions punt a punt. Això implica fer servir el mateix format de TRAMA, gestionar els ERRORS i el CONTROL DE FLUX. Sempre punt a punt.`"
   ]
  }
 ],
 "metadata": {
  "kernelspec": {
   "display_name": "Python 3 (ipykernel)",
   "language": "python",
   "name": "python3"
  },
  "language_info": {
   "codemirror_mode": {
    "name": "ipython",
    "version": 3
   },
   "file_extension": ".py",
   "mimetype": "text/x-python",
   "name": "python",
   "nbconvert_exporter": "python",
   "pygments_lexer": "ipython3",
   "version": "3.8.5"
  }
 },
 "nbformat": 4,
 "nbformat_minor": 5
}
