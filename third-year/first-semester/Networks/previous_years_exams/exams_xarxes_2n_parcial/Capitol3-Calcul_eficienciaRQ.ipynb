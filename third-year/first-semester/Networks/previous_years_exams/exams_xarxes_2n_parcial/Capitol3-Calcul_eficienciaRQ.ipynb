{
 "cells": [
  {
   "cell_type": "markdown",
   "id": "2172e6fd",
   "metadata": {},
   "source": [
    "En una determinada transmissió de dades entre dos terminals col·locats a una distància de 100 metres ens indiquen les següents característiques: (i) velocitat de transmissió 100Mbps, (ii) mida de la trama mitjana de 8kBytes, (iii) cablejat UTP CAT 5 (vprop = 2E8 m/s), (iv) mida trama ACK de 256 Bytes i (v) temps de processat en cada terminal de 5 microsegons. Identifica, per aquestes condicions, l’eficiència per RQ-Inactiva i per RQ continua, amb una finestra igual a 16. El temps de ACK i el de processat, són menyspreables? En tots dos casos tenim una probabilitat de error igual al 1%, Quin protocol serà el més eficient? (3 punts)"
   ]
  },
  {
   "cell_type": "code",
   "execution_count": 1,
   "id": "9e3d7513",
   "metadata": {},
   "outputs": [],
   "source": [
    "import math as m\n",
    "import numpy as np"
   ]
  },
  {
   "cell_type": "code",
   "execution_count": 2,
   "id": "c32d0795",
   "metadata": {},
   "outputs": [],
   "source": [
    "#dades\n",
    "Vtxt = 100E6\n",
    "Vprop = 2E8\n",
    "Ldades = 8*1000*8\n",
    "Lack = 256*8\n",
    "Pe = 0.1\n",
    "k = 16\n",
    "Tproc = 5E-6\n",
    "d = 100"
   ]
  },
  {
   "cell_type": "code",
   "execution_count": 3,
   "id": "8124acce",
   "metadata": {},
   "outputs": [],
   "source": [
    "Ttx = Ldades/Vtxt\n",
    "Tack = Lack/Vtxt\n",
    "Tprop = d/Vprop\n",
    "Ttotal = Ttx + Tack + 2*(Tprop + Tproc)\n",
    "Taprox = Ttx + 2*Tprop\n",
    "a_real = (Tack/2 + Tprop + Tproc)/Ttx\n",
    "a_ideal = Tprop/Ttx"
   ]
  },
  {
   "cell_type": "code",
   "execution_count": 4,
   "id": "20266d39",
   "metadata": {},
   "outputs": [
    {
     "name": "stdout",
     "output_type": "stream",
     "text": [
      "El valor de l'eficiencia real es de 85.78 en tant per cent mentre       que el valor de l'eficiencia ideal es de 89.86 \n"
     ]
    }
   ],
   "source": [
    "# RQ inactiva\n",
    "\n",
    "U_real = (1-Pe)/(1+2*a_real)\n",
    "U_ideal = (1-Pe)/(1+2*a_ideal)\n",
    "\n",
    "print(\"El valor de l'eficiencia real es de %.2f en tant per cent mentre \\\n",
    "      que el valor de l'eficiencia ideal es de %.2f \" %(U_real*100, U_ideal*100))"
   ]
  },
  {
   "cell_type": "code",
   "execution_count": 5,
   "id": "ae4624d7",
   "metadata": {},
   "outputs": [
    {
     "name": "stdout",
     "output_type": "stream",
     "text": [
      "1.0491875\n"
     ]
    }
   ],
   "source": [
    "# RQ continua\n",
    "print(1+2*a_real)"
   ]
  },
  {
   "cell_type": "markdown",
   "id": "05a745fe",
   "metadata": {},
   "source": [
    "__Exercici 5__. Dos routers estan separats una distància de 1000m i units per un cable de coure (vprop = 2E8m/s). Enviem paquets de dades de 1000 bits. Calcula la velocitat de transmissió per tenir una eficiència mínima del 50% fent servir RQ inactiva. Fes el mateix considerant una probabilitat d’error del 5%"
   ]
  },
  {
   "cell_type": "code",
   "execution_count": 6,
   "id": "999086ed",
   "metadata": {},
   "outputs": [],
   "source": [
    "import sympy as sp"
   ]
  },
  {
   "cell_type": "code",
   "execution_count": 7,
   "id": "d14d9ed6",
   "metadata": {},
   "outputs": [
    {
     "data": {
      "text/latex": [
       "$\\displaystyle -0.5 + \\frac{1000}{v_{tx} \\left(1.0 \\cdot 10^{-5} + \\frac{1000}{v_{tx}}\\right)}$"
      ],
      "text/plain": [
       "-0.5 + 1000/(v_tx*(1.0e-5 + 1000/v_tx))"
      ]
     },
     "execution_count": 7,
     "metadata": {},
     "output_type": "execute_result"
    }
   ],
   "source": [
    "sp.var('v_tx')\n",
    "L = 1000 # longitud trama, bits\n",
    "U = 0.5 # Eficiencia\n",
    "distancia = 1000\n",
    "v_prop = 2E8 # velocitat de propagació, m/s\n",
    "t_prop = distancia/v_prop\n",
    "t_tx = L /v_tx\n",
    "f = t_tx/(t_tx + 2* t_prop) - 0.5\n",
    "f"
   ]
  },
  {
   "cell_type": "code",
   "execution_count": 8,
   "id": "b66dedbb",
   "metadata": {},
   "outputs": [
    {
     "data": {
      "text/latex": [
       "$\\displaystyle 100000000.0$"
      ],
      "text/plain": [
       "100000000.000000"
      ]
     },
     "execution_count": 8,
     "metadata": {},
     "output_type": "execute_result"
    }
   ],
   "source": [
    "v_txt = sp.solve(f, v_tx)\n",
    "v_txt[0]"
   ]
  },
  {
   "cell_type": "markdown",
   "id": "4238086c",
   "metadata": {},
   "source": [
    "100 Mb/s es la velocitat requerida"
   ]
  },
  {
   "cell_type": "code",
   "execution_count": 9,
   "id": "64c4be15",
   "metadata": {},
   "outputs": [
    {
     "data": {
      "text/latex": [
       "$\\displaystyle 5.0 \\cdot 10^{-9} v_{tx}$"
      ],
      "text/plain": [
       "5.0e-9*v_tx"
      ]
     },
     "execution_count": 9,
     "metadata": {},
     "output_type": "execute_result"
    }
   ],
   "source": [
    "a = t_prop/t_tx\n",
    "a"
   ]
  },
  {
   "cell_type": "code",
   "execution_count": 10,
   "id": "c8d531cd",
   "metadata": {},
   "outputs": [
    {
     "data": {
      "text/latex": [
       "$\\displaystyle -0.5 + \\frac{0.95}{1.0 \\cdot 10^{-8} v_{tx} + 1}$"
      ],
      "text/plain": [
       "-0.5 + 0.95/(1.0e-8*v_tx + 1)"
      ]
     },
     "execution_count": 10,
     "metadata": {},
     "output_type": "execute_result"
    }
   ],
   "source": [
    "Perr = 0.05\n",
    "f = (1-Perr)/(1+2*a) -0.5\n",
    "f"
   ]
  },
  {
   "cell_type": "code",
   "execution_count": 11,
   "id": "e95db953",
   "metadata": {},
   "outputs": [
    {
     "data": {
      "text/plain": [
       "[90000000.0000000]"
      ]
     },
     "execution_count": 11,
     "metadata": {},
     "output_type": "execute_result"
    }
   ],
   "source": [
    "v_txt2 = sp.solve(f, v_tx)\n",
    "v_txt2"
   ]
  },
  {
   "cell_type": "markdown",
   "id": "4f73b64c",
   "metadata": {},
   "source": [
    "__Exercici 8__. Determina la eficiència de un enllaç punt a punt, wireless si tenim una finestra lliscant de valor 7. La distància entre equips és de 100 Km, la velocitat de transmissió és de 1Mb/s i la mida mitjana de paquets és de 1000 bytes. La probabilitat d’error és igual a 0.05. Quina estratègia és millor: Repetició selectiva o retrocedir N?"
   ]
  },
  {
   "cell_type": "code",
   "execution_count": 12,
   "id": "26e4d40e",
   "metadata": {},
   "outputs": [
    {
     "data": {
      "text/plain": [
       "(0.95, 0.95*K/(2*a + 1))"
      ]
     },
     "execution_count": 12,
     "metadata": {},
     "output_type": "execute_result"
    }
   ],
   "source": [
    "distancia = 100E3 # distancia en metres\n",
    "c_tx = 1E6 # tassa de transferència b/s\n",
    "L = 1000 * 8 # longitud trama en bits\n",
    "c_prop = 3E8 # velocitat ona EM en aire aprox\n",
    "Perr = 0.05\n",
    "sp.var(\"U\")\n",
    "sp.var(\"a\")\n",
    "sp.var(\"K\")\n",
    "\n",
    "f1 = 1-Perr\n",
    "f2 = (K * (1-Perr))/(1 + 2*a)\n",
    "f1, f2"
   ]
  },
  {
   "cell_type": "code",
   "execution_count": 13,
   "id": "6eaf1ab3",
   "metadata": {},
   "outputs": [
    {
     "name": "stdout",
     "output_type": "stream",
     "text": [
      "U =  0.95\n",
      "1+2a =  1.0833333333333333\n"
     ]
    }
   ],
   "source": [
    "t_prop = distancia/c_prop\n",
    "t_txt = L/c_tx\n",
    "a_num = t_prop/t_txt\n",
    "\n",
    "K_num = 7\n",
    "if K_num >= (1+2*a_num):\n",
    "    print(\"U = \", f1)\n",
    "    print(\"1+2a = \", 1+2*a_num)\n",
    "else:\n",
    "    print(f2.subs(K, 7).subs(a, a_num).evalf())"
   ]
  },
  {
   "cell_type": "markdown",
   "id": "be13e776",
   "metadata": {},
   "source": [
    "el valor de a es independent de si es repetició selectiva o retransmissió n\n",
    "\n",
    "Per tots dos casos K > 1+2a\n",
    "\n",
    "Per tant:"
   ]
  },
  {
   "cell_type": "code",
   "execution_count": 14,
   "id": "46506a3a",
   "metadata": {},
   "outputs": [
    {
     "name": "stdout",
     "output_type": "stream",
     "text": [
      "0.946058091286307\n"
     ]
    }
   ],
   "source": [
    "U_rN = (1-Perr)/(1+2*a_num *Perr)\n",
    "print(U_rN)"
   ]
  },
  {
   "cell_type": "markdown",
   "id": "3e9a3893",
   "metadata": {},
   "source": [
    "__Exercici 6__. Dos ordinadors estan separats una distància de 100m i units per un cable de coure\n",
    "UTP cat 6. Si implementem un protocol RQ inactiva, determina la mida necessària de les\n",
    "trames perquè l’eficiència sigui del 70%. Fes el mateix considerant una probabilitat d’error del\n",
    "1%."
   ]
  },
  {
   "cell_type": "code",
   "execution_count": 17,
   "id": "1f94dbb1",
   "metadata": {},
   "outputs": [
    {
     "data": {
      "text/latex": [
       "$\\displaystyle \\frac{L_{DATA}}{V_{tx} \\left(\\frac{L_{ACK}}{V_{tx}} + \\frac{L_{DATA}}{V_{tx}} + 2 t_{proc} + 1.0 \\cdot 10^{-6}\\right)}$"
      ],
      "text/plain": [
       "L_DATA/(V_tx*(L_ACK/V_tx + L_DATA/V_tx + 2*t_proc + 1.0e-6))"
      ]
     },
     "execution_count": 17,
     "metadata": {},
     "output_type": "execute_result"
    }
   ],
   "source": [
    "distancia = 100 # metres\n",
    "Eficiencia = 0.7 \n",
    "Error = 0.01\n",
    "C = 2E8 # velocitat de propagació en cable de coure metres/segon\n",
    "sp.var(\"t_prop\")\n",
    "sp.var(\"V_tx\")\n",
    "sp.var(\"L_ACK\")\n",
    "sp.var(\"L_DATA\")\n",
    "sp.var(\"t_proc\")\n",
    "# calcul dels temps \n",
    "t_tx = L_DATA/V_tx\n",
    "t_ack = L_ACK/V_tx\n",
    "t_prop = distancia/C\n",
    "\n",
    "U = t_tx/(t_tx + 2*t_prop + 2*t_proc + t_ack)\n",
    "U"
   ]
  },
  {
   "cell_type": "code",
   "execution_count": 22,
   "id": "737e87ee",
   "metadata": {},
   "outputs": [
    {
     "data": {
      "image/png": "[encoded data removed]",
      "text/latex": [
       "$\\displaystyle \\left( 2.33333333333333 L_{ACK} + 4.66666666666667 V_{tx} t_{proc} + 2.33333333333333 \\cdot 10^{-6} V_{tx}, \\  2.33333333333333 \\cdot 10^{-6} V_{tx}\\right)$"
      ],
      "text/plain": [
       "(2.33333333333333⋅L_ACK + 4.66666666666667⋅Vₜₓ⋅t_proc + 2.33333333333333e-6⋅Vₜ\n",
       "ₓ, 2.33333333333333e-6⋅Vₜₓ)"
      ]
     },
     "execution_count": 22,
     "metadata": {},
     "output_type": "execute_result"
    }
   ],
   "source": [
    "sp.init_printing()\n",
    "f = U - Eficiencia\n",
    "mida = sp.solve(f, L_DATA)\n",
    "mida_trama = mida[0]\n",
    "\n",
    "mida_trama_ideal = mida_trama.subs(L_ACK, 0).subs(t_proc, 0)\n",
    "mida_trama, mida_trama_ideal"
   ]
  },
  {
   "cell_type": "code",
   "execution_count": 31,
   "id": "f956d538",
   "metadata": {},
   "outputs": [
    {
     "name": "stdout",
     "output_type": "stream",
     "text": [
      "valors de la longitud de la trama: \n",
      "[0.0233333333333333, 0.233333333333333, 2.33333333333333, 23.3333333333333, 233.333333333333]\n",
      "[1, 1, 3, 24, 234]\n"
     ]
    }
   ],
   "source": [
    "# juguem amb varies velocitats per veure com evoluciona la mida de la trama\n",
    "\n",
    "v = np.array([1E4, 1E5, 1E6, 1E7, 1E8])\n",
    "mida_numerica = []\n",
    "for element in v:\n",
    "    mida_numerica.append(mida_trama_ideal.subs(V_tx, element))\n",
    "print(\"valors de la longitud de la trama: \")\n",
    "print(mida_numerica)\n",
    "print([np.ceil(e) for e in mida_numerica])\n"
   ]
  },
  {
   "cell_type": "markdown",
   "id": "230e3638",
   "metadata": {},
   "source": [
    "Què ens està dient aquest resultat??\n",
    "\n",
    "Per velocitats de transmissió petites, i es clar, distàncies relativament curtes l'eficiència de RQ-Inactiva és MOLT ALTA!! \n",
    "\n",
    "Ara bé, quan la velocitat i/o la distància augmenten, l'eficiència d'aquest algorisme comença a baixar i calen altres per elevar el seu valor "
   ]
  },
  {
   "cell_type": "code",
   "execution_count": 18,
   "id": "3d529950",
   "metadata": {},
   "outputs": [
    {
     "data": {
      "text/latex": [
       "$\\displaystyle \\frac{0.99 L_{DATA}}{V_{tx} \\left(\\frac{L_{ACK}}{V_{tx}} + \\frac{L_{DATA}}{V_{tx}} + 2 t_{proc} + 1.0 \\cdot 10^{-6}\\right)}$"
      ],
      "text/plain": [
       "0.99*L_DATA/(V_tx*(L_ACK/V_tx + L_DATA/V_tx + 2*t_proc + 1.0e-6))"
      ]
     },
     "execution_count": 18,
     "metadata": {},
     "output_type": "execute_result"
    }
   ],
   "source": [
    "# considerant l'error\n",
    "\n",
    "U_real = U*(1-Error)\n",
    "U_real"
   ]
  },
  {
   "cell_type": "markdown",
   "id": "5d61d698",
   "metadata": {},
   "source": [
    "__Exercici 7__. Determina la mida que ha de tenir una finestra i el nombre de bits necessaris per\n",
    "codificar els números de seqüència si volem tenir una eficiència igual a 1. Considera que la\n",
    "distància mitjana entre equips és de 100 metres. La connexió es fa mitjançant coure i la mida\n",
    "mitjana de les trames és de 8000 Bytes. La velocitat de transmissió és igual a 1Mb/s. Si la\n",
    "probabilitat d’error és 0, quina estratègia és millor: Repetició selectiva o retrocedir N?"
   ]
  },
  {
   "cell_type": "code",
   "execution_count": 27,
   "id": "621fc463",
   "metadata": {},
   "outputs": [],
   "source": [
    "eficiencia = 1\n",
    "distancia = 100 # metres\n",
    "v_prop = 2E8 # metres per segon\n",
    "L_DATA = 8000 * 8 # mida de la trama en bits\n",
    "v_tx = 1E6 # 1 Mb/s"
   ]
  },
  {
   "cell_type": "markdown",
   "id": "9fba27bd",
   "metadata": {},
   "source": [
    "Si la probabilitat d’error és 0, quina estratègia és millor: Repetició selectiva o retrocedir N?\n",
    "\n",
    "Si la probabilitat d'error és 0, seran iguals, ja que repetició selectiva o retransmissió N (retrocedir N, o go_back_N) són algorismes que s'apliquen quan tenim una certa probabilitat d'error."
   ]
  },
  {
   "cell_type": "code",
   "execution_count": 30,
   "id": "d2e5c4a5",
   "metadata": {},
   "outputs": [
    {
     "name": "stdout",
     "output_type": "stream",
     "text": [
      "mida de la finestra =  2.0 bits\n"
     ]
    }
   ],
   "source": [
    "t_tx = L_DATA/v_tx\n",
    "t_prop = distancia/v_prop\n",
    "# càlcul de a:\n",
    "a = t_prop/t_tx\n",
    "# mida de la finestra mínima:\n",
    "\n",
    "W = 1+2*a\n",
    "print(\"mida de la finestra = \", np.ceil(W), \"bits\")\n"
   ]
  },
  {
   "cell_type": "code",
   "execution_count": null,
   "id": "c01b7ad1",
   "metadata": {},
   "outputs": [],
   "source": [
    "identificadors = [0, 1, 2, 3]"
   ]
  },
  {
   "cell_type": "markdown",
   "id": "7213c4de",
   "metadata": {},
   "source": [
    "## Calcul de la Fragmentació de datagrames de l'exercici del PWP\n",
    "\n",
    "El camp de desplaçament de fragment indica la posició de les DADES al datagrama inicial, per tant, només considerem el desplaçament de les dades!!!\n",
    "\n",
    "Si el datagrama inicial es de 1440B i la capçalera és de 20B aleshores tenim:\n",
    "\n",
    "1440 - 20 = 1420B de dades\n",
    "\n",
    "Si la mida màxima del datagrama és de 576B tenim que en aquest cas les dades tindran una mida de 576 - 20 = 556B. Atenció, 556B no es múltiple de 8. El valor més proper múltiple de 8 és 552B que dona 552/8 = 69 Words de 64 bits. La mida del datagrama serà de 552B de dades + 20B de capçalera = 572B"
   ]
  },
  {
   "cell_type": "code",
   "execution_count": 1,
   "id": "53bb31df",
   "metadata": {},
   "outputs": [
    {
     "data": {
      "text/plain": [
       "1420"
      ]
     },
     "execution_count": 1,
     "metadata": {},
     "output_type": "execute_result"
    }
   ],
   "source": [
    "552 + 552 + 316"
   ]
  },
  {
   "cell_type": "markdown",
   "id": "ac2df1d5",
   "metadata": {},
   "source": [
    "__Exercici 1__. Genera a partir de l’adreça de xarxa 192.168.0.0/24 5 subxarxes. Una que pugui\n",
    "donar servei a 100 equips. Una altra que doni servei a 50 i les altres, com a mínim a 10 equips.\n",
    "Feu l’exercici també amb Packet tracer."
   ]
  },
  {
   "cell_type": "markdown",
   "id": "c76e7fe5",
   "metadata": {},
   "source": [
    "Partim de la IP 192.168.0.0/24. A partir d'aqui primer calculem la subxarxa per donar servei als 100 equips...  \n",
    "Agafem els darrers 8 bits de la IP proporcionada per crear les subxarxes i veure els equips associats.\n",
    "\n",
    "* 192.168.0. \"0 0000000\"/25 => 192.168.0.0/25 => Aquesta és la que agafo per donar el servei als primers 100 equips.\n",
    "* 192.168.0. \"1 0000000\"/25 => 192.168.0.128/25 => Aquesta la faré servir per generar les altres subxarxes\n",
    "\n",
    "En tots dos casos tenim $2^7-2 $ usuaris (126) \n",
    "\n",
    "A partir de la IP 192.168.0.128/25 genero ara la subxarxa que donarà servei a 50 equips. Només necessitem 1, per tant amb l'altra continuem amb el subnetting\n",
    "\n",
    "* 192.168.0. \"10 000000\"/26 => 192.168.0.128/26 => Aquesta és la que agafo per donar servei als 50 equips \n",
    "* 192.168.0. \"11 000000\"/26 => 192.168.0.192/26\n",
    "\n",
    "Ara, el nombre d'usuaris serà $2^6 - 2 = 62 $\n",
    "\n",
    "Finalment, per la resta, partim de la IP 192.168.0.192/26 i generarem les subxarxes necessàries per tenir les 4 subxarxes restants que  ens donaran servei cada una a uns 10 equips => 4 bits d'usuaris\n",
    "\n",
    "* 192.168.0. \"1100 0000\"/28 \n",
    "* 192.168.0. \"1101 0000\"/28\n",
    "* 192.168.0. \"1110 0000\"/28\n",
    "* 192.168.0. \"1111 0000\"/28"
   ]
  },
  {
   "cell_type": "markdown",
   "id": "64dd5db3",
   "metadata": {},
   "source": [
    "__Exercici 2__. Genera deu subxarxes a partir de l’adreça 161.116.95.0/24."
   ]
  },
  {
   "cell_type": "markdown",
   "id": "a7c5569c",
   "metadata": {},
   "source": [
    "Per generar 10 subxarxes necessito 4 bits \n",
    "* 161.116.95. \"0000 0000\"/28\n",
    "* 161.116.90. \"0001 0000\"/28\n",
    "* 161.116.90. \"0010 0000\"/28\n",
    "* 161.116.90. \"0011 0000\"/28\n",
    "* 161.116.90. \"0100 0000\"/28\n",
    "* 161.116.90. \"0101 0000\"/28\n",
    "* 161.116.90. \"0110 0000\"/28\n",
    "* 161.116.90. \"0111 0000\"/28\n",
    "* 161.116.90. \"1000 0000\"/28\n",
    "* 161.116.90. \"1001 0000\"/28"
   ]
  },
  {
   "cell_type": "markdown",
   "id": "fa5376be",
   "metadata": {},
   "source": [
    "Usuaris per a cada subxarxa:\n",
    "* 161.116.90. \"xxxx 0001\"/28\n",
    "* 161.116.90. \"xxxx 0010\"/28\n",
    "* 161.116.90. \"xxxx 0011\"/28\n",
    "* 161.116.90. \"xxxx 0100\"/28\n",
    "* 161.116.90. \"xxxx 0101\"/28\n",
    "* 161.116.90. \"xxxx 0110\"/28\n",
    "* 161.116.90. \"xxxx 0111\"/28\n",
    "* 161.116.90. \"xxxx 1000\"/28\n",
    "* 161.116.90. \"xxxx 1001\"/28\n",
    "* 161.116.90. \"xxxx 1010\"/28\n",
    "* 161.116.90. \"xxxx 1011\"/28\n",
    "* 161.116.90. \"xxxx 1100\"/28\n",
    "* 161.116.90. \"xxxx 1101\"/28\n",
    "* 161.116.90. \"xxxx 1110\"/28\n"
   ]
  },
  {
   "cell_type": "code",
   "execution_count": null,
   "id": "558e6623",
   "metadata": {},
   "outputs": [],
   "source": []
  }
 ],
 "metadata": {
  "kernelspec": {
   "display_name": "Python 3 (ipykernel)",
   "language": "python",
   "name": "python3"
  },
  "language_info": {
   "codemirror_mode": {
    "name": "ipython",
    "version": 3
   },
   "file_extension": ".py",
   "mimetype": "text/x-python",
   "name": "python",
   "nbconvert_exporter": "python",
   "pygments_lexer": "ipython3",
   "version": "3.11.5"
  }
 },
 "nbformat": 4,
 "nbformat_minor": 5
}
