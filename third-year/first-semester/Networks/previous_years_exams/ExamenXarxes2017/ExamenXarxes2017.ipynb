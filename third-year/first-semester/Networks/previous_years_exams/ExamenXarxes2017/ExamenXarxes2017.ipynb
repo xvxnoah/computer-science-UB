{
 "cells": [
  {
   "cell_type": "markdown",
   "id": "9a2ecc01",
   "metadata": {},
   "source": [
    "## PREGUNTES CURTES\n",
    "1. Indica quines són i quina és la funció de les capes de la torre OSI. (1 punt)\n",
    "2. Fes una comparativa entre el model OSI i la pila TCP/IP. Com s’equiparen les capes d’un i l’altre protocol? (1 punt)\n",
    "3. Explica les similituds i diferències entre les capes 2 i 4 del model OSI. (1 punt)\n",
    "4. Explica què és l’ample de banda i la freqüència de portadora. Què és una transmissió en banda base? (1 punt)\n",
    "5. Indica les similituds i diferències entre CSMA-CD i CSMA-CA. Descriu breument l’algorisme de tots dos. (1punt)\n",
    "6. Moduleu en freqüència i fase el senyal 0111001011. Feu un esquema (1 punt)\n"
   ]
  },
  {
   "attachments": {},
   "cell_type": "markdown",
   "id": "7f5bc18b",
   "metadata": {},
   "source": [
    "#### RESPOSTES CURTES\n",
    "Pregunta 1\n",
    "\n",
    "Aplicació\n",
    "\n",
    "    Accés a l’entorn OSI per als usuaris i serveis de informació distribuïda (semàntica). Defineix els protocols utilitzats per les aplicacions per intercanviar dades\n",
    "Presentació\n",
    "\n",
    "    Proporciona als processos d’aplicació independència respecte a les diferències en la representació de les dades (sintaxis), codificació de text, numèrica,...\n",
    "    Representació interna\n",
    "    Compressió de dades, criptografia\n",
    "Sessió\n",
    "\n",
    "    Control de comunicació entre les aplicacions\n",
    "    Estableix, gestiona i tanca les connexions (sessions) entre les aplicacions cooperadores (LOGIN)\n",
    "    Sincronització\n",
    "    Control del diàleg\n",
    "    Gestió de testimonis (tokens)\n",
    "Transport\n",
    "\n",
    "    Seguretat, transferència transparent de dades entre nodes extrems, amb recuperació de errors i control de flux origen – destí\n",
    "    Unitat d’informació: Segment\n",
    "    Divisió de la informació en segments\n",
    "    Gestió de la mida de paquets\n",
    "    Multiplexació de connexions\n",
    "    Tipus de servei (punt a punt, difusió)\n",
    "    Assignació de connexió a procés\n",
    "    Establiment i alliberament de la connexió\n",
    "    Control de flux\n",
    "Xarxa\n",
    "\n",
    "    Independència dels nivells superiors respecte a les tècniques de commutació i transmissió\n",
    "    Responsable de l’establiment, manteniment i tancament de les connexions\n",
    "    Unitat d’informació: El paquet\n",
    "    Operacions de la subxarxa\n",
    "    “Enrutament” o encaminament\n",
    "    Control de congestió\n",
    "    Tarificació\n",
    "    Dificultats per les diferències entre xarxes (adreces, mides, protocols)\n",
    "Enllaç de dades\n",
    "\n",
    "    Servei de transferència de dades segures a través de l’enllaç físic. Envia blocs de dades (trames) gestionant la sincronització, el control d’errors i de flux\n",
    "    Unitat d’informació: la trama\n",
    "    Control d’errors\n",
    "    Establiment dels límits de les trames\n",
    "    Gestió de trames duplicades, errònies o perdudes\n",
    "    Control de flux\n",
    "Física\n",
    "\n",
    "    Transmissió de cadenes de bits no estructurats per sobre del mitjà físic\n",
    "    Unitat d’informació: el bit\n",
    "    Característiques elèctriques i mecàniques\n",
    "    Tipus de transmissió\n",
    "    Com s’estableix i finalitza la connexió?"
   ]
  },
  {
   "cell_type": "markdown",
   "id": "2a9b53ff",
   "metadata": {},
   "source": [
    "Pregunta 2.\n",
    "\n",
    "<img src=\"OSIvsTCP.png\" alt=\"drawing\" width=\"350\"/>\n",
    "\n",
    "    TCP/IP assigna com a capa d'aplicació les capes d'app, presentació i sessió del model OSI.  \n",
    "    La capa de xarxa està fonamentada en transmissió de datagrames en el model TCP/IP  \n",
    "    La capa MAC control d'accés al medi del model TCP-IP integra enllaç i física de OSI. En alguns casos tindrem una subcapa anomenada LLC (link layer control) per adaptar el protocol MAC a la capa IP.\n"
   ]
  },
  {
   "cell_type": "markdown",
   "id": "9ad72a10",
   "metadata": {},
   "source": [
    "Pregunta 3.\n",
    "\n",
    "|Característica|Capa Enllaç|Capa de Transport|\n",
    "|---|---|---|\n",
    "|Detecció d'errors| Si. punt a punt|Si. Origen-Destí|\n",
    "|Control de Flux| Si. en LC (si la té). Punt a punt| Si. Origen-Destí|\n",
    "|Estructura de les dades|Trama, adreces físiques 48 bits|Paquet, adreces 16 bits|"
   ]
  },
  {
   "cell_type": "markdown",
   "id": "401da24b",
   "metadata": {},
   "source": [
    "Pregunta 4.\n",
    "\n",
    "    - Ample de banda Rang de freqüències (des de la més baixa a la més alta) on està compresa la majoria de la informació.\n",
    "    - Transmissió en banda base. Aquell conjunt de dades que no ha estat modulada a cap freqüència\n",
    "    - Freqüència de portadora. La freqüència a partir de la qual tenim modulades les nostres dades. Desplaça tot l'ample de banda a una determinada posició espectral on la transmissió implica menys pèrdues."
   ]
  },
  {
   "cell_type": "markdown",
   "id": "d70eef89",
   "metadata": {},
   "source": [
    "Pregunta 5.\n",
    "\n",
    "    CSMA és l'acrònim de Carrier Sense Multiple Access => Accés múltiple amb detecció de portadora. Vol dir que els diferents dispositius detecten que el canal està sent utilitzat en detectar la portadora a la qual es transmet la informació. N'hi han de dos tipus:\n",
    "    CD => Collision Detect. Som capaços de detectar la col·lisió, generar un codi de col·lisió i enviar-ho en mode broadcast a la resta de nodes.\n",
    "    CA => Collision Avoidance. Som capaços d'evitar les col·lisions"
   ]
  },
  {
   "cell_type": "markdown",
   "id": "03e6f766",
   "metadata": {},
   "source": [
    "Pregunta 6.\n",
    "<img src=\"Fsk.png\" alt=\"drawing\" width=\"300\"/>\n",
    "<img src=\"Modulacion-PSK.gif\" alt=\"drawing\" width=\"300\"/>"
   ]
  },
  {
   "cell_type": "markdown",
   "id": "904bf08a",
   "metadata": {},
   "source": [
    "### PROBLEMES\n",
    "7.- Desenvolupa un protocol pels equips del laboratori basat en Token Ring. Donat que no hi ha un medi físic guiat, afegiu les adreces per tal que la comunicació es basi en una topologia lògica circular. El nombre de dispositius serà de 10 motes. Introduiu el camp de reserva i prioritat de Token Ring. ( 2 punts)\n",
    "\n",
    "<img src=\"token-ring.png\" alt=\"drawing\" width=\"300\"/>\n"
   ]
  },
  {
   "cell_type": "markdown",
   "id": "9ddf2ac9",
   "metadata": {},
   "source": [
    "Nombre de dispositius: 10\n",
    "\n",
    "Mida minima camp adreces => $2^x = 10$ per tant ja veiem que x = 4\n",
    "\n",
    "en la pràctica, al laboratori, veiem que el aquest camp sol ser de 16 bits.\n",
    "\n",
    "La connectivitat entre els dispositius es fa a través de la WiFi\n",
    "\n",
    "Tindrem 10 dispositius que formen la anella i intercanvien dades + 1 dispositiu que gestiona la anella virtual. El node gestor o central, serà qui generi la WiFi i la resta de nodes es conectaran a la WiFi generada per aquest node (central). \n",
    "\n",
    "Els nodes perifèrics enviaran la seva adreça al node central i aquest les ordenarà. Aqui poden haver col·lisions? La resposta és __SI__, però són adreces curtes, de només 16 bits ho minimitzem molt.\n",
    "\n",
    "El node central, un cop té la llista d'adreces generada les envia a tots els nodes de l'anella.\n",
    "\n",
    "Un cop el node central té totes les adreces es genera el TOKEN\n",
    "\n",
    "8 bits d'inici de trama + 16 bits d'adreça destí + camp de control + 8 bits final de trama\n",
    "\n",
    "els 16 bits de adreça corresponen a l'adreça del dispositiu al qual li otorguem el token. Si el token es retornat al node central aquest canviarà l'adreça i li enviarà al següent dispositiu.\n",
    "\n",
    "El camp de control contindrà els 3 bits de Prioritat, 3 bits de Reserva i 1 bit per indicar si es retorna el token o bé enviem dades a un altre dispositiu, finalment 1 bit per saber si les dades han donat la volta a l'anella i s'han d'eliminar.\n",
    "\n",
    "Funcionament:\n",
    "\n",
    "    Quan un node vol transmetre, modificarà el bit de token i inclourà l'adreça del node al qual vol enviar la informació. El node central anirà enviant la trama als nodes de la anella, fins arribar al node origen, i un cop aqui la trama s'extreurà de l'anella. Això es fa per permetre a la resta de nodes reservar el token a una determinada prioritat."
   ]
  },
  {
   "cell_type": "markdown",
   "id": "47ed7de1",
   "metadata": {},
   "source": [
    "8.- Els dispositius del laboratori transmeten a una freqüència de portadora de 2.4 GHz amb una velocitat de transferència de 250 kb/s.  La modulació que fan servir es O-QPSK, que implica que cada símbol correspon a 4 bits. Indica l’ample de banda necessari i quina relació senyal soroll (SNR) límit ha de tenir per que la transmissió funcioni. La potència de transmissió d’aquests dispositius és de 1mW. El guany de les antenes en transmissió i en recepció són igual a 0 dB, si tenim un fator ξ igual a 0.75 indica la distància màxima de cobertura si la sensibilitat en recepció és igual a -100 dBm. (2 punts)"
   ]
  },
  {
   "cell_type": "code",
   "execution_count": 2,
   "id": "4a870aab",
   "metadata": {},
   "outputs": [
    {
     "name": "stdout",
     "output_type": "stream",
     "text": [
      "31250.0  Hz\n"
     ]
    }
   ],
   "source": [
    "v = 250E3\n",
    "nbits = 4\n",
    "# v_tx = 2·BW·nbits = 2·BW·log_2(M)\n",
    "BW = v/(2*nbits)\n",
    "print(BW,' Hz')"
   ]
  },
  {
   "cell_type": "code",
   "execution_count": 11,
   "id": "ceeb4452",
   "metadata": {},
   "outputs": [
    {
     "name": "stdout",
     "output_type": "stream",
     "text": [
      "la relació senyal-soroll és:  255.0\n",
      "la SNR és:  24.065401804339544  dB\n"
     ]
    }
   ],
   "source": [
    "import math as m\n",
    "#Apliquem l'eq de Shannon\n",
    "# v_tx = BW·log_2(1+S/N)\n",
    "\n",
    "S_N = 2**(v/BW)-1\n",
    "print('la relació senyal-soroll és: ', S_N)\n",
    "SNR = 10*m.log(S_N, 10)\n",
    "print('la SNR és: ', SNR,' dB')"
   ]
  },
  {
   "cell_type": "code",
   "execution_count": 9,
   "id": "d9756997",
   "metadata": {},
   "outputs": [
    {
     "name": "stdout",
     "output_type": "stream",
     "text": [
      "la distància màxima és:  861.8883397536213 metres\n"
     ]
    }
   ],
   "source": [
    "Pot = 1 # mW\n",
    "G = 0   # dB\n",
    "f = 0.75# factor eta de l'eq. de Friis\n",
    "S = -100# dBm\n",
    "P = 0   # dBm\n",
    "Lamda = 3E8/2.4E9\n",
    "# S = P + G + G + 10log_10[(lambda/4PId)^2*eta ]\n",
    "# x =(lambda/4PId)^2*eta\n",
    "x = 10**(S/10)\n",
    "\n",
    "y = m.sqrt(x/f)\n",
    "\n",
    "d = Lamda/(4*3.14*y)\n",
    "print('la distància màxima és: ',d, 'metres')"
   ]
  },
  {
   "cell_type": "code",
   "execution_count": null,
   "id": "911d95f9",
   "metadata": {},
   "outputs": [],
   "source": []
  }
 ],
 "metadata": {
  "kernelspec": {
   "display_name": "Python 3 (ipykernel)",
   "language": "python",
   "name": "python3"
  },
  "language_info": {
   "codemirror_mode": {
    "name": "ipython",
    "version": 3
   },
   "file_extension": ".py",
   "mimetype": "text/x-python",
   "name": "python",
   "nbconvert_exporter": "python",
   "pygments_lexer": "ipython3",
   "version": "3.8.5"
  }
 },
 "nbformat": 4,
 "nbformat_minor": 5
}
