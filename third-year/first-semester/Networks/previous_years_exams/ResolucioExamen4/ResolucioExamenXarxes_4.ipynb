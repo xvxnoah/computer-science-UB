{
 "cells": [
  {
   "cell_type": "markdown",
   "id": "27784878",
   "metadata": {},
   "source": [
    "1.- La següent figura mostra l’atenuació de una fibra òptica:\n",
    "![FO](ImagenFO.jpg)  \n",
    "Les dades es modulen fent servir FSK. La freqüència de portadora correspon a la associada a la banda centrada en 1500 µm. Feu l’esquema que representi aquesta modulació, per la següent seqüència binària: 110010101, codificada amb NRZI a una freqüència de rellotge de 150 GHz. Representeu primer la codificació i després la modulació. (2punt) (recomanació: Dibuixa el senyal de rellotge, les dades binàries, les dades codificades i les dades modulades, una sota de l’altra)\n",
    "Si la sensibilitat del receptor són -90 dBm i la potència de transmissió són 10 mWatts. Quina distància màxima puc assolir? (1 punt)\n",
    "\n",
    "### RESOLUCIÓ\n",
    "Recordeu que NRZI és:\n",
    "<img src=\"NRZI.jpg\" alt=\"drawing\" width=\"500\"/>\n",
    "Ara podem modular aquest senyal recordant com funciona FSK:\n",
    "<img src=\"FSK.jpg\" alt=\"drawing\" width=\"500\"/>\n",
    "Segons la imatge, particularment em sembla que l'Att = 0.5 dB/km, per tant:\n",
    "$$S_{rec} = P_{tx} - Att·d$$\n",
    "la distància serà 200 km \n",
    "\n",
    "Que implica l’equació de Shannon $V_{TX} = BW·log_2(1+S/N)$ ? (__1 punt__) \n",
    "\n",
    "    La limitació en la velocitat de transmissió de les dades ve donada no només per l'ample de banda, sinó que també depèn de la relació entre la potència del senyal i la potència del soroll. Mai la velocitat de transmissió pot superar aquest   límit teòric.\n",
    "\n",
    "Pregunta 1. Compara i assigna les diferents capes de la torre OSI amb la pila TCP/IP (__1 punt__)  \n",
    "<img src=\"OSIvsTCP.png\" alt=\"drawing\" width=\"350\"/>\n",
    "\n",
    "    TCP/IP assigna com a capa d'aplicació les capes d'app, presentació i sessió del model OSI.  \n",
    "    La capa de xarxa està fonamentada en transmissió de datagrames en el model TCP/IP  \n",
    "    La capa MAC control d'accés al medi del model TCP-IP integra enllaç i física de OSI. En alguns casos tindrem una subcapa anomenada LLC (link layer control) per adaptar el protocol MAC a la capa IP.\n",
    "\n",
    "\n",
    "Pregunta 2. Quina és la funció de la capa d’aplicació? (1 punt)  \n",
    "\n",
    "    La capa d'aplicació s'encarrega de interaccionar amb el software d'usuari, proporcionant-li a aquest accés a la resta de l'estructura OSI.  \n",
    "\n",
    "Pregunta 3. Explica en no més de quatre línies (no llegiré més de 4 línies) com funciona i que fan els diferents bits camp de control de token ring (2 punts).\n",
    "\n",
    "    El camp de control de TR té un byte de control amb:\n",
    "    1- Tres bits per assignar la prioritat del missatge 0 mínima prioritat 7 màxima prioritat\n",
    "    2- Tres bits de reserva, per reservar el token amb una determinada prioritat\n",
    "    3- 1 bit per indicar si és només token o la trama sencera, 1 bit per eliminar la trama en cas que no sigui eliminada per l'emisor.\n",
    "    \n",
    "Pregunta 4. Calcula el CRC de la següent trama: 10011101 si el polinomi generador és x5+1 (2 punts)  \n",
    "\n",
    "    No entra, no ho hem fet encara"
   ]
  },
  {
   "cell_type": "code",
   "execution_count": null,
   "id": "ab699732",
   "metadata": {},
   "outputs": [],
   "source": []
  }
 ],
 "metadata": {
  "kernelspec": {
   "display_name": "Python 3 (ipykernel)",
   "language": "python",
   "name": "python3"
  },
  "language_info": {
   "codemirror_mode": {
    "name": "ipython",
    "version": 3
   },
   "file_extension": ".py",
   "mimetype": "text/x-python",
   "name": "python",
   "nbconvert_exporter": "python",
   "pygments_lexer": "ipython3",
   "version": "3.8.5"
  }
 },
 "nbformat": 4,
 "nbformat_minor": 5
}
