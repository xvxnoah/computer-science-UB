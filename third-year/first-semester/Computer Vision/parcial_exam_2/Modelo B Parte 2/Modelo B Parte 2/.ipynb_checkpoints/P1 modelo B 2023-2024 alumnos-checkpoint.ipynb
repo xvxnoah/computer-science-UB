{
 "cells": [
  {
   "cell_type": "markdown",
   "id": "15fb6598",
   "metadata": {},
   "source": [
    " ----------------------------------------------------------------------------------------------------\n",
    "----------------------------------------------------------------------------------------------------\n",
    "<h1><center>\n",
    "    \n",
    "Practical exam on Computer Vision: Part I\n",
    "    \n",
    "(January, 18th, 2024)\n",
    "</center></h1>   \n",
    "\n",
    "Consider the following:\n",
    "\n",
    "- You can answer in English, Spanish or Catalan. \n",
    "\n",
    "- Add title to figures and add sufficient comments on the code to understand it.\n",
    "\n",
    "- Make sure to print and plot exactly what it is indicated. If a reference image is provided, your output is expected to be exactly the same unless instructed differently. \n",
    "\n",
    "- At the end of the exam, upload only your .ipynb file (no need to upload the images)\n",
    "    \n",
    "- Make sure your code can be ran by us without errors.\n",
    "\n",
    "- Use packages and solutions that were covered in your class and tutorials. If you are unsure about using a particular package, you should seek clarification from your instructor to confirm whether it is allowed.\n",
    "\n",
    "- Please note that partial credit will be given based on the correctness of the code and the logic demonstrated. If certain parts of your code or answers are accurate, even if the final output is not entirely correct, you may still receive points.\n",
    "\n",
    "----------------------------------------------------------------------------------------------------\n",
    "----------------------------------------------------------------------------------------------------"
   ]
  },
  {
   "cell_type": "code",
   "execution_count": 6,
   "id": "4a022c27",
   "metadata": {},
   "outputs": [],
   "source": [
    "# Libraries that can be helpful for this exam:\n",
    "import numpy as np\n",
    "import matplotlib.pyplot as plt\n",
    "from skimage import io, img_as_ubyte, img_as_float\n",
    "from skimage.exposure import histogram\n",
    "from skimage.filters import gaussian, median\n",
    "from skimage.transform import resize, rescale\n",
    "from skimage.color import rgb2gray\n",
    "from skimage.segmentation import felzenszwalb\n",
    "from skimage.segmentation import mark_boundaries\n",
    "from skimage.segmentation import slic, quickshift"
   ]
  },
  {
   "cell_type": "markdown",
   "id": "8af144e7",
   "metadata": {},
   "source": [
    "## Exercise 1"
   ]
  },
  {
   "cell_type": "markdown",
   "id": "745741a4",
   "metadata": {},
   "source": [
    "### Greenland's flag"
   ]
  },
  {
   "cell_type": "markdown",
   "id": "4226ffb3",
   "metadata": {},
   "source": [
    "We're right in the middle of winter. The temperatures have dropped to their lowest, and many of us are daydreaming about the hotter days ahead. This seasonal shift draws a parallel to the symbolism embedded in Greenland's flag, where the red circle represents the warmth and hope for brighter days ahead."
   ]
  },
  {
   "cell_type": "markdown",
   "id": "c460b9c2",
   "metadata": {},
   "source": [
    "**Ex.1** (3 points) Load the image `red_circle.png` from the folder `images` and print it's principal image features: type and shape. Use the image to compose the Greenland's flag, like in the image below.\n",
    "\n",
    "**Hint**: Use a mask to extract the red circle from the image. Create a new white array with the shape of `red_circle.png` and use it, along with the previous image, to create the result. The color of the circle corresponding to the RGB standard is [255,0,0].\n",
    "\n",
    "<img src=\"images/ejercicio1.png\" width=\"515\" height=\"350\">"
   ]
  },
  {
   "cell_type": "code",
   "execution_count": 1,
   "id": "049e9f12",
   "metadata": {},
   "outputs": [],
   "source": [
    "#Your solution here"
   ]
  },
  {
   "cell_type": "markdown",
   "id": "09eba9e3",
   "metadata": {},
   "source": [
    "## Exercise 2"
   ]
  },
  {
   "cell_type": "markdown",
   "id": "787d4ce9",
   "metadata": {},
   "source": [
    "### Spring time"
   ]
  },
  {
   "cell_type": "markdown",
   "id": "0b7d65fb",
   "metadata": {},
   "source": [
    "At the moment it is still winter in Barcelona. Let's help the change of seasons with an exercise."
   ]
  },
  {
   "cell_type": "markdown",
   "id": "dd32fbb2",
   "metadata": {},
   "source": [
    "**Ex 2.1** (2 points) Read the images `./images/barcelona_nieve.png` and `./images/barcelona_primavera.png` and obtain their low frequency and high frequency counterparts. Visualize them, along with their titles.\n",
    "\n",
    "<img src=\"images/ejercicio21.png\" width=\"515\" height=\"350\">"
   ]
  },
  {
   "cell_type": "code",
   "execution_count": 2,
   "id": "b7c84c10",
   "metadata": {},
   "outputs": [],
   "source": [
    "#Your solution here"
   ]
  },
  {
   "cell_type": "markdown",
   "id": "0fae0ff6",
   "metadata": {},
   "source": [
    "**Ex 2.2** (2 points) Use the obtained images to create hybrid images like the ones below.\n",
    "\n",
    "<img src=\"images/ejercicio22.png\" width=\"515\" height=\"350\">"
   ]
  },
  {
   "cell_type": "code",
   "execution_count": 18,
   "id": "3cf6fe82",
   "metadata": {},
   "outputs": [],
   "source": [
    "#Your solution here"
   ]
  },
  {
   "cell_type": "markdown",
   "id": "1c608291",
   "metadata": {},
   "source": [
    "## Exercise 3"
   ]
  },
  {
   "cell_type": "markdown",
   "id": "406225a0",
   "metadata": {},
   "source": [
    "### Polar ice melting"
   ]
  },
  {
   "cell_type": "markdown",
   "id": "15af8c59",
   "metadata": {},
   "source": [
    "Now that we have successfully invoked spring in Barcelona, let's redirect our attention to Greenland, where the melting of the polar ice has been a persistent issue for decades. We will analyze the thaw using histograms and examine the paths left by the melting ice."
   ]
  },
  {
   "cell_type": "markdown",
   "id": "726a61f5",
   "metadata": {},
   "source": [
    "**Ex.3.1** (0.5 points) Read the images `before_glacier.png` together with the  image `after_glacier.png` from the folder `images`. Rescale the first image to match the shape of the second one. Show both images in one single figure, with their titles, using the `subplots` function.\n",
    "\n",
    "<img src=\"images/ejercicio31.png\" width=\"515\" height=\"350\">"
   ]
  },
  {
   "cell_type": "code",
   "execution_count": 3,
   "id": "5d32f6ed",
   "metadata": {},
   "outputs": [],
   "source": [
    "#Your solution here"
   ]
  },
  {
   "cell_type": "markdown",
   "id": "6b53b50a",
   "metadata": {},
   "source": [
    "**Ex.3.2** (1 point) Visualize the histogram with 32 bins of the RGB images and grayscale images. Explain the difference between both histograms.\n",
    "\n",
    "<img src=\"images/ejercicio32old.png\" width=\"515\" height=\"350\">\n",
    "<img src=\"images/ejercicio32new.png\" width=\"515\" height=\"350\">"
   ]
  },
  {
   "cell_type": "code",
   "execution_count": 4,
   "id": "12ee7c9d",
   "metadata": {},
   "outputs": [],
   "source": [
    "#Your solution here"
   ]
  },
  {
   "cell_type": "markdown",
   "id": "3530dd28",
   "metadata": {},
   "source": [
    "**Ex.3.3** (2 points) Apply the Slic and Felzenswalb image segmentation methods to both images. Which method segments better? Why? How do the parameters affect the segmentation in this case?\n",
    "\n",
    "Use the following sets of parameters:\n",
    "- Felzenszwalb: scale=300, sigma=2\n",
    "- Slic: n_segments=100, start_label=1\n",
    "\n",
    "<img src=\"images/ejercicio33.png\" width=\"515\" height=\"350\">"
   ]
  },
  {
   "cell_type": "code",
   "execution_count": 5,
   "id": "c9b02586",
   "metadata": {},
   "outputs": [],
   "source": [
    "#Your solution here"
   ]
  }
 ],
 "metadata": {
  "kernelspec": {
   "display_name": "Python 3 (ipykernel)",
   "language": "python",
   "name": "python3"
  },
  "language_info": {
   "codemirror_mode": {
    "name": "ipython",
    "version": 3
   },
   "file_extension": ".py",
   "mimetype": "text/x-python",
   "name": "python",
   "nbconvert_exporter": "python",
   "pygments_lexer": "ipython3",
   "version": "3.10.12"
  }
 },
 "nbformat": 4,
 "nbformat_minor": 5
}
