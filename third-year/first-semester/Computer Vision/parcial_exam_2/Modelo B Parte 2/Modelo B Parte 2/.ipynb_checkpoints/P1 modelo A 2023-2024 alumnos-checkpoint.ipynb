{
 "cells": [
  {
   "cell_type": "markdown",
   "metadata": {},
   "source": [
    " ----------------------------------------------------------------------------------------------------\n",
    "----------------------------------------------------------------------------------------------------\n",
    "<h1><center>\n",
    "    \n",
    "Practical exam on Computer Vision: Part I\n",
    "    \n",
    "(January, 18th, 2024)\n",
    "</center></h1>   \n",
    "\n",
    "Consider the following:\n",
    "\n",
    "- You can answer in English, Spanish or Catalan. \n",
    "\n",
    "- Add title to figures and add sufficient comments on the code to understand it.\n",
    "\n",
    "- Make sure to print and plot exactly what it is indicated. If a reference image is provided, your output is expected to be exactly the same unless instructed differently. \n",
    "\n",
    "- At the end of the exam, upload only your .ipynb file (no need to upload the images)\n",
    "    \n",
    "- Make sure your code can be ran by us without errors.\n",
    "\n",
    "- Use packages and solutions that were covered in your class and tutorials. If you are unsure about using a particular package, you should seek clarification from your instructor to confirm whether it is allowed.\n",
    "\n",
    "- Please note that partial credit will be given based on the correctness of the code and the logic demonstrated. If certain parts of your code or answers are accurate, even if the final output is not entirely correct, you may still receive points.\n",
    "\n",
    "----------------------------------------------------------------------------------------------------\n",
    "----------------------------------------------------------------------------------------------------"
   ]
  },
  {
   "cell_type": "code",
   "execution_count": 1,
   "metadata": {},
   "outputs": [],
   "source": [
    "# Libraries that can be helpful for this exam:\n",
    "from skimage.color import rgb2gray\n",
    "from skimage import io, img_as_ubyte, img_as_float\n",
    "import matplotlib.pyplot as plt\n",
    "import numpy as np\n",
    "from skimage.transform import resize\n",
    "from skimage.util import img_as_ubyte\n",
    "from skimage.segmentation import felzenszwalb\n",
    "from skimage.segmentation import mark_boundaries\n",
    "from skimage.feature import canny\n",
    "from skimage import exposure\n",
    "from skimage.exposure import histogram"
   ]
  },
  {
   "cell_type": "markdown",
   "metadata": {},
   "source": [
    "## Exercise 1"
   ]
  },
  {
   "cell_type": "markdown",
   "metadata": {},
   "source": [
    "### Christmas nostalgic"
   ]
  },
  {
   "cell_type": "markdown",
   "metadata": {},
   "source": [
    "The holidays just finished, and we are already missing them. On this exercise you will make modifications on a christmas picture of Barcelona."
   ]
  },
  {
   "cell_type": "markdown",
   "metadata": {},
   "source": [
    "### 1.1) (1.5 point) Show original, gray scale and channels of Christmas picture\n",
    "\n",
    "Load the image `p1_christmas_barcelona.jpeg` from the folder `images`. Show the original image, a gray scale version of it and the 3 channels of the image in one single figure using the `subplots` function in a 1x5 grid just as follows:\n",
    "![img](images/p1_christmas_market_example.png)\n",
    "\n",
    "Note: cmap has different color maps to pick that will help you achieve desired outcome, here are some of their names:\n",
    "<img src = images/p1_colors_reference.webp width=\"300\">"
   ]
  },
  {
   "cell_type": "code",
   "execution_count": 2,
   "metadata": {},
   "outputs": [],
   "source": [
    "#Your solution here"
   ]
  },
  {
   "cell_type": "markdown",
   "metadata": {},
   "source": [
    "### 1.2 (1 point) Analyze the colors through a histogram: \n",
    "\n",
    "Let's analyze the intensity of colors of the image using histograms. For this, build a **function** that takes the image and number of bins and plots a histogram plotting the three channels distribution and gray scale image distribution as well. \n",
    "\n",
    "Test your function on the christmas image,use **32 bins**. Your result should look as follows: \n",
    "\n",
    "<img src = images/p1_histogram.png width=\"600\">"
   ]
  },
  {
   "cell_type": "code",
   "execution_count": 3,
   "metadata": {},
   "outputs": [],
   "source": [
    "#Your solution here"
   ]
  },
  {
   "cell_type": "markdown",
   "metadata": {},
   "source": [
    "### 1.3) (1.5 points) Add a christmas frame to the picture\n",
    "\n",
    "We will add to the christmas image a frame that increases by 20% the dimensions of the image. First, **resize your color image to 400x800 pixels**. For this resized image, we want a frame that represents a 20% of the resized image where from the additional 20%, the inside 10% is colored christmas red and the outside 10% frame is christmas green. \n",
    "\n",
    "Note that the colors we are using are the following:\n",
    "* RGB values for christmas green: (13, 89, 1) \n",
    "* RGB values for christmas red: (179, 0, 12) \n",
    "\n",
    "Your result should look like this:\n",
    "\n",
    "![img](images/p1_christmas_framed_example.png)\n",
    "\n",
    "Note: The original christmas image should remain 400x800 pixels,the additional pixels come from the green and red parts that increase the size of the image by 20%. "
   ]
  },
  {
   "cell_type": "code",
   "execution_count": 4,
   "metadata": {},
   "outputs": [],
   "source": [
    "#Your solution here"
   ]
  },
  {
   "cell_type": "markdown",
   "metadata": {},
   "source": [
    "## Exercise 2: Segment a brain MRI  image"
   ]
  },
  {
   "cell_type": "markdown",
   "metadata": {},
   "source": [
    "A brain MRI (Magnetic Resonance Imaging) is a medical imaging technique that uses a strong magnetic field and radio waves to generate detailed images of the brain and surrounding structures. It is an effective tool for diagnosing a variety of neurological conditions and disorders.\n",
    "\n",
    "<img src = images/p1_mri_brain.jpeg width=\"300\">"
   ]
  },
  {
   "cell_type": "markdown",
   "metadata": {},
   "source": [
    "### 2.1) (2 points) Load the image ``images/p1_mri_brain.jpeg``. Segment the image using the Felzenszwalb algorithm and determine which set of parameters is better: \n",
    "\n",
    "\n",
    "A) scale=250, sigma=2, min_size=300 \\\n",
    "B) scale=50, sigma=2, min_size=250 \n",
    "\n",
    "\n",
    "**Visualize** the original image, and the Felzenszwalb results over the original image side by side (2x2 grid, one row for each set of parameters). Your results should look like this:\n",
    "\n",
    "![img](images/p1_mri_segm_felzenswalb.png)\n",
    "\n",
    "Make sure to answer:\n",
    "1. Comment the results and **explicitly mention the best parameter set from the provided**. Consider that a good set of parameters will segment well the different areas but not too much as to create segments where you would not expect it (for example segment areas where there are no changes on color visible to the eye).  \n"
   ]
  },
  {
   "cell_type": "code",
   "execution_count": 5,
   "metadata": {},
   "outputs": [],
   "source": [
    "#Your solution here"
   ]
  },
  {
   "cell_type": "markdown",
   "metadata": {},
   "source": [
    "*Answer the question with a written answer here*"
   ]
  },
  {
   "cell_type": "markdown",
   "metadata": {},
   "source": [
    "### 2.2) (2 points) Apply the Canny edge detector\n",
    "\n",
    "Do Canny edge detector and overlap your results on the original image, use 2 sets of sigma (Standard deviation of the Gaussian filter):\n",
    "- Sigma = 1\n",
    "- Sigma = 5\n",
    "\n",
    "There is no need to set/modify any other parameters from the function. Show your results as the following visualization:\n",
    "\n",
    "\n",
    "<img src = images/p1_canny.png width=\"300\">\n",
    "\n",
    "\n",
    "Make sure to answer:\n",
    "1. Comment the results and **explicitly mention the best parameter set from the provided**. Consider that a good set of parameters will segment well the different areas but not too much as to create segments where you would not expect it (for example segment areas where there are no changes on color visible to the eye).  "
   ]
  },
  {
   "cell_type": "code",
   "execution_count": 6,
   "metadata": {},
   "outputs": [],
   "source": [
    "#Your solution here"
   ]
  },
  {
   "cell_type": "markdown",
   "metadata": {},
   "source": [
    "*Answer the question with a written answer here*"
   ]
  },
  {
   "cell_type": "markdown",
   "metadata": {},
   "source": [
    "## Exercise 3 Anonimization\n"
   ]
  },
  {
   "cell_type": "markdown",
   "metadata": {},
   "source": [
    "### 3.1) (2 points) Anonimize the car plate\n",
    "Read `images/p1_car_plate.jpeg` and create a new version where the car plate of the closer car is anonimized by applying gaussian smoothing with a **sigma of 5**. The specific location of the car plate is:\n",
    "\n",
    "- X: 360 to 415 pixel  and Y: 325 to 480 pixel\n",
    "\n",
    "Show your results as following:\n",
    "\n",
    "<img src = images/p1_anonimization.png width=\"800\">"
   ]
  },
  {
   "cell_type": "code",
   "execution_count": 7,
   "metadata": {},
   "outputs": [],
   "source": [
    "#Your solution here"
   ]
  }
 ],
 "metadata": {
  "kernelspec": {
   "display_name": "Python 3 (ipykernel)",
   "language": "python",
   "name": "python3"
  },
  "language_info": {
   "codemirror_mode": {
    "name": "ipython",
    "version": 3
   },
   "file_extension": ".py",
   "mimetype": "text/x-python",
   "name": "python",
   "nbconvert_exporter": "python",
   "pygments_lexer": "ipython3",
   "version": "3.10.12"
  }
 },
 "nbformat": 4,
 "nbformat_minor": 4
}
