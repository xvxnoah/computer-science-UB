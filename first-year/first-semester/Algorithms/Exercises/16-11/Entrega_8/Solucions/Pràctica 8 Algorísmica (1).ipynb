{
 "cells": [
  {
   "cell_type": "markdown",
   "metadata": {},
   "source": [
    "# 4 .5 Levenshtein"
   ]
  },
  {
   "cell_type": "code",
   "execution_count": 13,
   "metadata": {},
   "outputs": [],
   "source": [
    "def levenshtein(patro, text, dlt=2, insr=2, subs=1):\n",
    "    \n",
    "    if len(patro) > len(text):\n",
    "        patro, text = text, patro\n",
    "    \n",
    "    if len(text) == 0:\n",
    "        return len(patro)\n",
    "    \n",
    "    patro_length = len(patro)\n",
    "    text_length = len(text)\n",
    "    \n",
    "    distance_matrix = [[0] * (text_length + 1) for x in range(patro_length + 1)]\n",
    "    distance_matrix_operaciones = [[\"-\"] * (text_length + 1) for x in range(patro_length + 1)]\n",
    "    \n",
    "    for i in range(patro_length + 1):\n",
    "        distance_matrix[i][0] = i * insr\n",
    "        \n",
    "    for j in range(text_length + 1):\n",
    "        distance_matrix_operaciones[0][j] = 'I'\n",
    "\n",
    "    for i in range(1, patro_length + 1):\n",
    "        for j in range(1, text_length + 1):\n",
    "            \n",
    "            sub_increment = subs if patro[i - 1] != text[j - 1] else 0\n",
    "            \n",
    "            insertion = distance_matrix[i - 1][j] + insr\n",
    "            deletion = distance_matrix[i][j - 1] + dlt\n",
    "            substitution = distance_matrix[i - 1][j - 1] + sub_increment\n",
    "\n",
    "            distance_matrix[i][j] = min(substitution, deletion, insertion)\n",
    "            \n",
    "            if distance_matrix[i][j] == substitution and sub_increment == 0:\n",
    "                distance_matrix_operaciones[i][j] = 'C'\n",
    "            elif distance_matrix[i][j] == substitution:\n",
    "                distance_matrix_operaciones[i][j] = 'S'\n",
    "            elif distance_matrix[i][j] == deletion:\n",
    "                distance_matrix_operaciones[i][j] = 'D'\n",
    "            elif distance_matrix[i][j] == insertion:\n",
    "                distance_matrix_operaciones[i][j] = 'I'\n",
    "\n",
    "    distancia_edicion = min(distance_matrix[-1])\n",
    "    \n",
    "    inicio = distance_matrix[i].index(distancia_edicion)\n",
    "    final = distance_matrix[i].index(distancia_edicion)\n",
    "    \n",
    "    operaciones = [distance_matrix_operaciones[i][inicio]]\n",
    "\n",
    "    while inicio != 0 and i != 0:\n",
    "        \n",
    "        letra = distance_matrix_operaciones[i][inicio]\n",
    "        operaciones.append(letra)\n",
    "        \n",
    "        if letra in ['C', 'S', 'I']:\n",
    "            i -= 1\n",
    "        \n",
    "        if letra in ['C', 'S', 'D']:\n",
    "            inicio -= 1\n",
    "\n",
    "    operaciones.reverse()\n",
    "    operaciones.pop()\n",
    "\n",
    "    return distancia_edicion, (inicio, final), operaciones"
   ]
  },
  {
   "cell_type": "code",
   "execution_count": 14,
   "metadata": {},
   "outputs": [],
   "source": [
    "def dna(patro,fitxer =\"HUMAN-DNA.txt\"):\n",
    "    \n",
    "    with open(fitxer,'r') as f:\n",
    "        texto = f.read()\n",
    "        lineas = texto.split('\\n')\n",
    "    \n",
    "    distancia_minima = float('inf')\n",
    "    linea_minima_distancia = 0\n",
    "    inicio_final_subcadena = tuple()\n",
    "    operaciones = list()\n",
    "        \n",
    "    for i in range(len(lineas)):\n",
    "        \n",
    "        distancia_lev, inicio_final_lev, operaciones_lev = levenshtein(patro, lineas[i])\n",
    "        \n",
    "        if distancia_lev < distancia_minima:\n",
    "            linea_minima_distancia = i\n",
    "            inicio_final_subcadena = inicio_final_lev\n",
    "            distancia_minima = distancia_lev\n",
    "            operaciones = operaciones_lev\n",
    "            \n",
    "    return linea_minima_distancia, inicio_final_subcadena, distancia_minima, operaciones"
   ]
  },
  {
   "cell_type": "code",
   "execution_count": 15,
   "metadata": {},
   "outputs": [
    {
     "name": "stdout",
     "output_type": "stream",
     "text": [
      "All tests passed!\n"
     ]
    }
   ],
   "source": [
    "assert dna(\"CTGGTACCAGCTGTATTAGC\") == (728, (11, 31), 6, ['C', 'C', 'C', 'C', 'C', 'C', 'C', 'S', 'C', 'S', 'C', 'S', 'S', 'S', 'C', 'C', 'S', 'C', 'C', 'C'])\n",
    "assert dna(\"TCGTCATAAACCGCTGTGCC\") == (212, (12, 32), 7, ['S', 'C', 'S', 'C', 'C', 'C', 'C', 'C', 'C', 'C', 'C', 'C', 'S', 'S', 'C', 'C', 'S', 'S', 'C', 'S'])\n",
    "assert dna(\"TATACAAACGGAGTAGCTGT\") == (285, (5, 25), 6, ['C', 'C', 'C', 'C', 'S', 'C', 'S', 'C', 'C', 'S', 'C', 'S', 'S', 'C', 'C', 'C', 'S', 'C', 'C', 'C'])\n",
    "assert dna(\"AGGCGTAAGTCTTACGTATA\") == (5, (41, 61), 7, ['C', 'S', 'C', 'S', 'S', 'C', 'C', 'C', 'C', 'C', 'C', 'S', 'C', 'S', 'S', 'C', 'S', 'C', 'C', 'C'])\n",
    "assert dna(\"AACGGCATAGCCTGCAAGAG\") == (433, (41, 61), 5, ['C', 'C', 'S', 'C', 'C', 'C', 'C', 'S', 'C', 'S', 'C', 'C', 'C', 'C', 'C', 'C', 'C', 'S', 'C', 'S'])\n",
    "assert dna(\"GTGCGTCCACCCTTAATACA\") == (196, (41, 61), 6, ['C', 'C', 'C', 'S', 'S', 'C', 'S', 'C', 'C', 'C', 'C', 'C', 'C', 'S', 'C', 'S', 'C', 'C', 'S', 'C'])\n",
    "assert dna(\"CCCTAAAACCAAAAGTGTTG\") == (199, (30, 49), 6, ['S', 'C', 'C', 'C', 'S', 'C', 'C', 'C', 'S', 'S', 'C', 'C', 'C', 'C', 'C', 'C', 'C', 'I', 'C', 'C'])\n",
    "assert dna(\"GTCAGCACCGGGATCTGTAT\") == (240, (26, 46), 7, ['C', 'S', 'C', 'S', 'S', 'C', 'C', 'C', 'C', 'C', 'S', 'C', 'C', 'S', 'C', 'S', 'C', 'C', 'S', 'C'])\n",
    "assert dna(\"GAGCCCCGACGTTTTAACGA\") == (68, (6, 26), 7, ['S', 'C', 'C', 'C', 'C', 'C', 'C', 'S', 'C', 'C', 'S', 'C', 'S', 'C', 'C', 'C', 'S', 'S', 'S', 'C'])\n",
    "assert dna(\"CACACCTTTCAGTACGTGAA\") == (40, (14, 32), 7, ['C', 'C', 'C', 'I', 'C', 'S', 'C', 'C', 'C', 'C', 'C', 'C', 'C', 'C', 'S', 'C', 'I', 'S', 'C', 'C'])\n",
    "assert dna(\"CCTCGTAGACAGTACCGAAT\") == (448, (30, 50), 6, ['C', 'S', 'C', 'C', 'S', 'C', 'C', 'S', 'C', 'C', 'C', 'S', 'C', 'C', 'C', 'C', 'S', 'S', 'C', 'C'])\n",
    "assert dna(\"CGACCAAAGAGCCTGTATCT\") == (320, (35, 55), 7, ['S', 'S', 'C', 'S', 'S', 'C', 'C', 'C', 'C', 'S', 'C', 'S', 'C', 'C', 'S', 'C', 'C', 'C', 'C', 'C'])\n",
    "assert dna(\"CGTGGTGTCCATACCCTAGC\") == (835, (24, 43), 6, ['C', 'S', 'C', 'C', 'C', 'C', 'C', 'S', 'C', 'C', 'C', 'C', 'S', 'C', 'C', 'C', 'I', 'C', 'S', 'C'])\n",
    "assert dna(\"GTGATAGACCTTTTAAGCTG\") == (409, (18, 37), 6, ['S', 'C', 'C', 'C', 'C', 'C', 'I', 'C', 'C', 'C', 'C', 'C', 'S', 'C', 'C', 'C', 'S', 'S', 'C', 'C'])\n",
    "assert dna(\"TAAGTCTTTGGTCACCCCCG\") == (19, (10, 29), 7, ['C', 'S', 'C', 'C', 'C', 'C', 'C', 'S', 'C', 'C', 'C', 'I', 'C', 'C', 'C', 'C', 'S', 'C', 'S', 'S'])\n",
    "assert dna(\"GACACACACTTGGATCTTCG\") == (565, (16, 36), 6, ['C', 'S', 'C', 'C', 'C', 'S', 'S', 'C', 'C', 'C', 'C', 'C', 'S', 'S', 'S', 'C', 'C', 'C', 'C', 'C'])\n",
    "assert dna(\"TCATAGCCTCGGGATAGTAT\") == (306, (27, 46), 7, ['S', 'S', 'C', 'C', 'C', 'C', 'C', 'C', 'C', 'C', 'C', 'S', 'S', 'C', 'C', 'C', 'I', 'C', 'C', 'S'])\n",
    "assert dna(\"CTGGACGTTCATACATAGAC\") == (28, (21, 41), 7, ['C', 'C', 'C', 'C', 'C', 'C', 'S', 'C', 'C', 'S', 'S', 'S', 'C', 'S', 'C', 'S', 'C', 'C', 'C', 'S'])\n",
    "assert dna(\"ACGTTTTACCCCAAAGCCCG\") == (753, (4, 24), 7, ['C', 'S', 'S', 'S', 'S', 'C', 'C', 'C', 'C', 'S', 'C', 'C', 'C', 'C', 'C', 'C', 'S', 'C', 'S', 'C'])\n",
    "assert dna(\"CGGGTAGAAATCTCCGCTTG\") == (361, (30, 50), 6, ['S', 'C', 'C', 'C', 'C', 'C', 'C', 'C', 'S', 'S', 'C', 'C', 'S', 'C', 'C', 'S', 'S', 'C', 'C', 'C'])\n",
    "print(\"All tests passed!\")"
   ]
  },
  {
   "cell_type": "code",
   "execution_count": null,
   "metadata": {},
   "outputs": [],
   "source": []
  }
 ],
 "metadata": {
  "kernelspec": {
   "display_name": "Python 3",
   "language": "python",
   "name": "python3"
  },
  "language_info": {
   "codemirror_mode": {
    "name": "ipython",
    "version": 3
   },
   "file_extension": ".py",
   "mimetype": "text/x-python",
   "name": "python",
   "nbconvert_exporter": "python",
   "pygments_lexer": "ipython3",
   "version": "3.8.3"
  }
 },
 "nbformat": 4,
 "nbformat_minor": 4
}
